{
  "nbformat": 4,
  "nbformat_minor": 0,
  "metadata": {
    "kernelspec": {
      "display_name": "Python 3",
      "language": "python",
      "name": "python3"
    },
    "language_info": {
      "codemirror_mode": {
        "name": "ipython",
        "version": 3
      },
      "file_extension": ".py",
      "mimetype": "text/x-python",
      "name": "python",
      "nbconvert_exporter": "python",
      "pygments_lexer": "ipython3",
      "version": "3.6.5"
    },
    "colab": {
      "name": "EDA.ipynb",
      "provenance": [],
      "include_colab_link": true
    }
  },
  "cells": [
    {
      "cell_type": "markdown",
      "metadata": {
        "id": "view-in-github",
        "colab_type": "text"
      },
      "source": [
        "<a href=\"https://colab.research.google.com/github/maxrgnt/pythdc2-project2/blob/master/EDA2.ipynb\" target=\"_parent\"><img src=\"https://colab.research.google.com/assets/colab-badge.svg\" alt=\"Open In Colab\"/></a>"
      ]
    },
    {
      "cell_type": "code",
      "metadata": {
        "id": "Ze60cO11dlYz",
        "colab_type": "code",
        "colab": {}
      },
      "source": [
        "# Panel Data\n",
        "import pandas as pd\n",
        "# System folders\n",
        "import os\n",
        "from pathlib import Path\n",
        "# Visualization\n",
        "import plotly.graph_objs as go\n",
        "import seaborn as sns\n",
        "%matplotlib inline"
      ],
      "execution_count": 0,
      "outputs": []
    },
    {
      "cell_type": "code",
      "metadata": {
        "id": "tU15eJ6U7SAy",
        "colab_type": "code",
        "outputId": "8856d380-7cd5-48f2-8da0-95875e067459",
        "colab": {
          "base_uri": "https://localhost:8080/",
          "height": 97
        }
      },
      "source": [
        "url = 'https://raw.githubusercontent.com/maxrgnt/pythdc2-project2/master/data/unemployment.csv'\n",
        "bls = pd.read_csv(url)\n",
        "print(bls.shape)\n",
        "bls.sample(1)"
      ],
      "execution_count": 126,
      "outputs": [
        {
          "output_type": "stream",
          "text": [
            "(322, 5)\n"
          ],
          "name": "stdout"
        },
        {
          "output_type": "execute_result",
          "data": {
            "text/html": [
              "<div>\n",
              "<style scoped>\n",
              "    .dataframe tbody tr th:only-of-type {\n",
              "        vertical-align: middle;\n",
              "    }\n",
              "\n",
              "    .dataframe tbody tr th {\n",
              "        vertical-align: top;\n",
              "    }\n",
              "\n",
              "    .dataframe thead th {\n",
              "        text-align: right;\n",
              "    }\n",
              "</style>\n",
              "<table border=\"1\" class=\"dataframe\">\n",
              "  <thead>\n",
              "    <tr style=\"text-align: right;\">\n",
              "      <th></th>\n",
              "      <th>State</th>\n",
              "      <th>Year</th>\n",
              "      <th>Abrv</th>\n",
              "      <th>UnemploymentRate</th>\n",
              "      <th>LaborRate</th>\n",
              "    </tr>\n",
              "  </thead>\n",
              "  <tbody>\n",
              "    <tr>\n",
              "      <th>193</th>\n",
              "      <td>Texas</td>\n",
              "      <td>2009</td>\n",
              "      <td>TX</td>\n",
              "      <td>0.081924</td>\n",
              "      <td>0.658382</td>\n",
              "    </tr>\n",
              "  </tbody>\n",
              "</table>\n",
              "</div>"
            ],
            "text/plain": [
              "     State  Year Abrv  UnemploymentRate  LaborRate\n",
              "193  Texas  2009   TX          0.081924   0.658382"
            ]
          },
          "metadata": {
            "tags": []
          },
          "execution_count": 126
        }
      ]
    },
    {
      "cell_type": "code",
      "metadata": {
        "id": "gog8zUZs7R1l",
        "colab_type": "code",
        "outputId": "95f023b7-b43b-441b-bd06-ab1206f44fa9",
        "colab": {
          "base_uri": "https://localhost:8080/",
          "height": 97
        }
      },
      "source": [
        "url = 'https://raw.githubusercontent.com/maxrgnt/pythdc2-project2/master/data/pctChangeGDP.csv'\n",
        "bea = pd.read_csv(url)\n",
        "print(bea.shape)\n",
        "bea.sample(1)"
      ],
      "execution_count": 127,
      "outputs": [
        {
          "output_type": "stream",
          "text": [
            "(322, 4)\n"
          ],
          "name": "stdout"
        },
        {
          "output_type": "execute_result",
          "data": {
            "text/html": [
              "<div>\n",
              "<style scoped>\n",
              "    .dataframe tbody tr th:only-of-type {\n",
              "        vertical-align: middle;\n",
              "    }\n",
              "\n",
              "    .dataframe tbody tr th {\n",
              "        vertical-align: top;\n",
              "    }\n",
              "\n",
              "    .dataframe thead th {\n",
              "        text-align: right;\n",
              "    }\n",
              "</style>\n",
              "<table border=\"1\" class=\"dataframe\">\n",
              "  <thead>\n",
              "    <tr style=\"text-align: right;\">\n",
              "      <th></th>\n",
              "      <th>State</th>\n",
              "      <th>Abrv</th>\n",
              "      <th>Year</th>\n",
              "      <th>Value</th>\n",
              "    </tr>\n",
              "  </thead>\n",
              "  <tbody>\n",
              "    <tr>\n",
              "      <th>117</th>\n",
              "      <td>Michigan</td>\n",
              "      <td>MI</td>\n",
              "      <td>2004</td>\n",
              "      <td>2.0</td>\n",
              "    </tr>\n",
              "  </tbody>\n",
              "</table>\n",
              "</div>"
            ],
            "text/plain": [
              "        State Abrv  Year  Value\n",
              "117  Michigan   MI  2004    2.0"
            ]
          },
          "metadata": {
            "tags": []
          },
          "execution_count": 127
        }
      ]
    },
    {
      "cell_type": "code",
      "metadata": {
        "id": "8zYAzV7ndlY4",
        "colab_type": "code",
        "outputId": "fc52f874-dda3-488b-8d94-c38e1a214883",
        "colab": {
          "base_uri": "https://localhost:8080/",
          "height": 97
        }
      },
      "source": [
        "# read in the data\n",
        "url='https://raw.githubusercontent.com/maxrgnt/pythdc2-project2/master/data/borderCrossing.csv'\n",
        "bts = pd.read_csv(url)\n",
        "print(bts.shape)\n",
        "bts.sample(1)"
      ],
      "execution_count": 128,
      "outputs": [
        {
          "output_type": "stream",
          "text": [
            "(114588, 8)\n"
          ],
          "name": "stdout"
        },
        {
          "output_type": "execute_result",
          "data": {
            "text/html": [
              "<div>\n",
              "<style scoped>\n",
              "    .dataframe tbody tr th:only-of-type {\n",
              "        vertical-align: middle;\n",
              "    }\n",
              "\n",
              "    .dataframe tbody tr th {\n",
              "        vertical-align: top;\n",
              "    }\n",
              "\n",
              "    .dataframe thead th {\n",
              "        text-align: right;\n",
              "    }\n",
              "</style>\n",
              "<table border=\"1\" class=\"dataframe\">\n",
              "  <thead>\n",
              "    <tr style=\"text-align: right;\">\n",
              "      <th></th>\n",
              "      <th>Abrv</th>\n",
              "      <th>State</th>\n",
              "      <th>Longitude</th>\n",
              "      <th>Latitude</th>\n",
              "      <th>Border</th>\n",
              "      <th>Year</th>\n",
              "      <th>Measure</th>\n",
              "      <th>Value</th>\n",
              "    </tr>\n",
              "  </thead>\n",
              "  <tbody>\n",
              "    <tr>\n",
              "      <th>269</th>\n",
              "      <td>WA</td>\n",
              "      <td>Washington</td>\n",
              "      <td>-122.44316</td>\n",
              "      <td>48.94802</td>\n",
              "      <td>US-Canada Border</td>\n",
              "      <td>2018</td>\n",
              "      <td>Bus Passengers</td>\n",
              "      <td>93</td>\n",
              "    </tr>\n",
              "  </tbody>\n",
              "</table>\n",
              "</div>"
            ],
            "text/plain": [
              "    Abrv       State  Longitude  ...  Year         Measure  Value\n",
              "269   WA  Washington -122.44316  ...  2018  Bus Passengers     93\n",
              "\n",
              "[1 rows x 8 columns]"
            ]
          },
          "metadata": {
            "tags": []
          },
          "execution_count": 128
        }
      ]
    },
    {
      "cell_type": "code",
      "metadata": {
        "id": "fcO9e6BxLxMm",
        "colab_type": "code",
        "colab": {}
      },
      "source": [
        "def checkPctChange(df):\n",
        "  print(df[(df['Abrv']=='TX') & (df['Year']==2014)])\n",
        "  print(df[(df['Abrv']=='TX') & (df['Year']==2015)])\n",
        "  print(df[(df['Abrv']=='TX') & (df['Year']==2016)])"
      ],
      "execution_count": 0,
      "outputs": []
    },
    {
      "cell_type": "code",
      "metadata": {
        "id": "ApX3m9KXvo6e",
        "colab_type": "code",
        "colab": {}
      },
      "source": [
        "def calcPctChange(df, col, pctChange_id):\n",
        "  for y in list(df['Year'].unique()):\n",
        "    states = list(df['Abrv'].unique())\n",
        "    for s in states:\n",
        "      if y != df['Year'].min():\n",
        "        t0 = df.loc[(df['Year'] == y-1) & (df['Abrv'] == s), col].tolist()[0]\n",
        "        t1 = df.loc[(df['Year'] == y) & (df['Abrv'] == s), col].tolist()[0]\n",
        "        df.loc[(df['Year']==y) & (df['Abrv']==s), pctChange_id+'_pctChange'] = ((t1/t0)-1)*100\n",
        "      else:\n",
        "        df.loc[(df['Year']==y) & (df['Abrv']==s), pctChange_id+'_pctChange'] = 'N/A'\n",
        "  # set drop index for first year where pctChange not calculated\n",
        "  dropIndex = df.loc[df[pctChange_id+'_pctChange']=='N/A'].index\n",
        "  df.drop(dropIndex, inplace=True)"
      ],
      "execution_count": 0,
      "outputs": []
    },
    {
      "cell_type": "code",
      "metadata": {
        "id": "7dxIpqNSbTv1",
        "colab_type": "code",
        "colab": {
          "base_uri": "https://localhost:8080/",
          "height": 80
        },
        "outputId": "63df2e64-6210-47ff-b6b1-50311527e1f8"
      },
      "source": [
        "bts2 = bts.groupby(['Year','Abrv'])[['Value']].sum().reset_index()\n",
        "bts2.sample(1)"
      ],
      "execution_count": 139,
      "outputs": [
        {
          "output_type": "execute_result",
          "data": {
            "text/html": [
              "<div>\n",
              "<style scoped>\n",
              "    .dataframe tbody tr th:only-of-type {\n",
              "        vertical-align: middle;\n",
              "    }\n",
              "\n",
              "    .dataframe tbody tr th {\n",
              "        vertical-align: top;\n",
              "    }\n",
              "\n",
              "    .dataframe thead th {\n",
              "        text-align: right;\n",
              "    }\n",
              "</style>\n",
              "<table border=\"1\" class=\"dataframe\">\n",
              "  <thead>\n",
              "    <tr style=\"text-align: right;\">\n",
              "      <th></th>\n",
              "      <th>Year</th>\n",
              "      <th>Abrv</th>\n",
              "      <th>Value</th>\n",
              "    </tr>\n",
              "  </thead>\n",
              "  <tbody>\n",
              "    <tr>\n",
              "      <th>233</th>\n",
              "      <td>2012</td>\n",
              "      <td>NM</td>\n",
              "      <td>1835195</td>\n",
              "    </tr>\n",
              "  </tbody>\n",
              "</table>\n",
              "</div>"
            ],
            "text/plain": [
              "     Year Abrv    Value\n",
              "233  2012   NM  1835195"
            ]
          },
          "metadata": {
            "tags": []
          },
          "execution_count": 139
        }
      ]
    },
    {
      "cell_type": "code",
      "metadata": {
        "id": "tI2G2_jggg4Y",
        "colab_type": "code",
        "colab": {
          "base_uri": "https://localhost:8080/",
          "height": 153
        },
        "outputId": "696886b8-1b11-4eb0-e6f3-84c336d0179f"
      },
      "source": [
        "calcPctChange(bts2, 'Value', 'border')\n",
        "checkPctChange(bts2)"
      ],
      "execution_count": 140,
      "outputs": [
        {
          "output_type": "stream",
          "text": [
            "(322, 4)\n",
            "(308, 4)\n",
            "     Year Abrv     Value border_pctChange\n",
            "263  2014   TX  80334766          4.71749\n",
            "     Year Abrv     Value border_pctChange\n",
            "277  2015   TX  82726100          2.97671\n",
            "     Year Abrv     Value border_pctChange\n",
            "291  2016   TX  85714503          3.61241\n"
          ],
          "name": "stdout"
        }
      ]
    },
    {
      "cell_type": "code",
      "metadata": {
        "id": "UJB7dustccBv",
        "colab_type": "code",
        "colab": {
          "base_uri": "https://localhost:8080/",
          "height": 119
        },
        "outputId": "95f1b15d-fd94-4c43-c889-918315d3a170"
      },
      "source": [
        "checkPctChange(bea)"
      ],
      "execution_count": 141,
      "outputs": [
        {
          "output_type": "stream",
          "text": [
            "     State Abrv  Year  Value\n",
            "263  Texas   TX  2014    4.2\n",
            "     State Abrv  Year  Value\n",
            "277  Texas   TX  2015    0.2\n",
            "     State Abrv  Year  Value\n",
            "291  Texas   TX  2016   -0.2\n"
          ],
          "name": "stdout"
        }
      ]
    },
    {
      "cell_type": "code",
      "metadata": {
        "id": "29epFxOWeTjp",
        "colab_type": "code",
        "colab": {
          "base_uri": "https://localhost:8080/",
          "height": 153
        },
        "outputId": "16b3eb70-2440-4283-e853-3856e7152f0c"
      },
      "source": [
        "calcPctChange(bls, 'UnemploymentRate', 'unemp')\n",
        "checkPctChange(bls)"
      ],
      "execution_count": 142,
      "outputs": [
        {
          "output_type": "stream",
          "text": [
            "(322, 6)\n",
            "(308, 6)\n",
            "     State  Year Abrv  UnemploymentRate  LaborRate unemp_pctChange\n",
            "263  Texas  2014   TX          0.053764    0.64867        -19.4988\n",
            "     State  Year Abrv  UnemploymentRate  LaborRate unemp_pctChange\n",
            "277  Texas  2015   TX          0.046521   0.637932        -13.4719\n",
            "     State  Year Abrv  UnemploymentRate  LaborRate unemp_pctChange\n",
            "291  Texas  2016   TX          0.048399   0.637718         4.03763\n"
          ],
          "name": "stdout"
        }
      ]
    },
    {
      "cell_type": "code",
      "metadata": {
        "id": "XgzS07IogKRv",
        "colab_type": "code",
        "colab": {}
      },
      "source": [
        ""
      ],
      "execution_count": 0,
      "outputs": []
    }
  ]
}