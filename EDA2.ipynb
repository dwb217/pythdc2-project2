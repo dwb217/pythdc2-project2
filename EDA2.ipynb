{
  "nbformat": 4,
  "nbformat_minor": 0,
  "metadata": {
    "kernelspec": {
      "display_name": "Python 3",
      "language": "python",
      "name": "python3"
    },
    "language_info": {
      "codemirror_mode": {
        "name": "ipython",
        "version": 3
      },
      "file_extension": ".py",
      "mimetype": "text/x-python",
      "name": "python",
      "nbconvert_exporter": "python",
      "pygments_lexer": "ipython3",
      "version": "3.6.5"
    },
    "colab": {
      "name": "EDA.ipynb",
      "provenance": [],
      "include_colab_link": true
    }
  },
  "cells": [
    {
      "cell_type": "markdown",
      "metadata": {
        "id": "view-in-github",
        "colab_type": "text"
      },
      "source": [
        "<a href=\"https://colab.research.google.com/github/maxrgnt/pythdc2-project2/blob/master/EDA2.ipynb\" target=\"_parent\"><img src=\"https://colab.research.google.com/assets/colab-badge.svg\" alt=\"Open In Colab\"/></a>"
      ]
    },
    {
      "cell_type": "code",
      "metadata": {
        "id": "Ze60cO11dlYz",
        "colab_type": "code",
        "colab": {}
      },
      "source": [
        "# Panel Data\n",
        "import pandas as pd\n",
        "# System folders\n",
        "import os\n",
        "from pathlib import Path\n",
        "# Visualization\n",
        "import plotly.graph_objs as go\n",
        "import seaborn as sns\n",
        "%matplotlib inline"
      ],
      "execution_count": 0,
      "outputs": []
    },
    {
      "cell_type": "code",
      "metadata": {
        "id": "qmTUsBKPn141",
        "colab_type": "code",
        "colab": {}
      },
      "source": [
        "def convertToDateTime(year):\n",
        "  return pd.to_datetime(year, format='%Y')"
      ],
      "execution_count": 0,
      "outputs": []
    },
    {
      "cell_type": "code",
      "metadata": {
        "id": "8zYAzV7ndlY4",
        "colab_type": "code",
        "outputId": "db2a2989-d1cc-47c5-97a0-4115b6bf6a04",
        "colab": {
          "base_uri": "https://localhost:8080/",
          "height": 80
        }
      },
      "source": [
        "# read in the data\n",
        "# url='https://raw.githubusercontent.com/maxrgnt/pythdc2-project2/master/data/borderCrossing.csv'\n",
        "# url = 'https://raw.githubusercontent.com/maxrgnt/pythdc2-project2/master/data/pctChangeGDP.csv'\n",
        "url = 'https://raw.githubusercontent.com/maxrgnt/pythdc2-project2/master/data/unemployment.csv'\n",
        "df = pd.read_csv(url)\n",
        "df.sample(1)"
      ],
      "execution_count": 39,
      "outputs": [
        {
          "output_type": "execute_result",
          "data": {
            "text/html": [
              "<div>\n",
              "<style scoped>\n",
              "    .dataframe tbody tr th:only-of-type {\n",
              "        vertical-align: middle;\n",
              "    }\n",
              "\n",
              "    .dataframe tbody tr th {\n",
              "        vertical-align: top;\n",
              "    }\n",
              "\n",
              "    .dataframe thead th {\n",
              "        text-align: right;\n",
              "    }\n",
              "</style>\n",
              "<table border=\"1\" class=\"dataframe\">\n",
              "  <thead>\n",
              "    <tr style=\"text-align: right;\">\n",
              "      <th></th>\n",
              "      <th>State</th>\n",
              "      <th>Abrv</th>\n",
              "      <th>Year</th>\n",
              "      <th>Value</th>\n",
              "    </tr>\n",
              "  </thead>\n",
              "  <tbody>\n",
              "    <tr>\n",
              "      <th>678</th>\n",
              "      <td>Idaho</td>\n",
              "      <td>ID</td>\n",
              "      <td>2009</td>\n",
              "      <td>-3.2</td>\n",
              "    </tr>\n",
              "  </tbody>\n",
              "</table>\n",
              "</div>"
            ],
            "text/plain": [
              "     State Abrv  Year  Value\n",
              "678  Idaho   ID  2009   -3.2"
            ]
          },
          "metadata": {
            "tags": []
          },
          "execution_count": 39
        }
      ]
    },
    {
      "cell_type": "code",
      "metadata": {
        "id": "hpgWW0SpoVwN",
        "colab_type": "code",
        "colab": {}
      },
      "source": [
        "# df['Year'] = pd.to_datetime(df['Year'], format='%Y')"
      ],
      "execution_count": 0,
      "outputs": []
    },
    {
      "cell_type": "code",
      "metadata": {
        "id": "-pEflA2UdlZd",
        "colab_type": "code",
        "colab": {}
      },
      "source": [
        "# Handle the Date column\n",
        "df['newDate'] = pd.to_datetime(df['Date'])"
      ],
      "execution_count": 0,
      "outputs": []
    },
    {
      "cell_type": "code",
      "metadata": {
        "id": "2BBfhK_sdlZf",
        "colab_type": "code",
        "outputId": "1a9a9922-ffa1-4d41-e35e-73300a2ab60c",
        "colab": {
          "base_uri": "https://localhost:8080/",
          "height": 34
        }
      },
      "source": [
        "# Inspect the date column\n",
        "df['Year'] = df['newDate'].dt.year\n",
        "df['Month'] = df['newDate'].dt.month\n",
        "# How many years of data available?\n",
        "maxYear = df['newDate'].dt.year.max()\n",
        "minYear = df['newDate'].dt.year.min()\n",
        "print(f'From {minYear} to {maxYear} for total of {maxYear-minYear} year(s) of data.')"
      ],
      "execution_count": 6,
      "outputs": [
        {
          "output_type": "stream",
          "text": [
            "From 1996 to 2019 for total of 23 year(s) of data.\n"
          ],
          "name": "stdout"
        }
      ]
    },
    {
      "cell_type": "code",
      "metadata": {
        "id": "fcO9e6BxLxMm",
        "colab_type": "code",
        "colab": {}
      },
      "source": [
        "for y in list(brdr['Year'].unique()):\n",
        "  blah = 1.0\n",
        "  if y != brdr['Year'].min():\n",
        "    t0 = brdr.loc[brdr['Year'] == y-1,'immigrants'].tolist()[0]\n",
        "    t1 = brdr.loc[brdr['Year'] == y,'immigrants'].tolist()[0]\n",
        "    brdr.loc[brdr['Year'] == y, 'pct'] = (1-t1/t0)*100\n",
        "brdr = brdr[brdr['Year'].astype(int)>brdr['Year'].min()]"
      ],
      "execution_count": 0,
      "outputs": []
    }
  ]
}