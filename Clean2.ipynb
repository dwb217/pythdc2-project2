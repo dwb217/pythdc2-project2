{
  "nbformat": 4,
  "nbformat_minor": 0,
  "metadata": {
    "colab": {
      "name": "Untitled0.ipynb",
      "provenance": [],
      "include_colab_link": true
    },
    "kernelspec": {
      "name": "python3",
      "display_name": "Python 3"
    }
  },
  "cells": [
    {
      "cell_type": "markdown",
      "metadata": {
        "id": "view-in-github",
        "colab_type": "text"
      },
      "source": [
        "<a href=\"https://colab.research.google.com/github/maxrgnt/pythdc2-project2/blob/master/Clean2.ipynb\" target=\"_parent\"><img src=\"https://colab.research.google.com/assets/colab-badge.svg\" alt=\"Open In Colab\"/></a>"
      ]
    },
    {
      "cell_type": "code",
      "metadata": {
        "id": "OPerGvRxkaFE",
        "colab_type": "code",
        "colab": {}
      },
      "source": [
        "# Panel Data\n",
        "import pandas as pd\n",
        "# System folders\n",
        "import os\n",
        "from pathlib import Path"
      ],
      "execution_count": 0,
      "outputs": []
    },
    {
      "cell_type": "code",
      "metadata": {
        "id": "g7yxFYyLkkUJ",
        "colab_type": "code",
        "colab": {}
      },
      "source": [
        "def abbreviate(stateName):\n",
        "    abrvDict = {'Alaska':'AL',\n",
        "                'Arizona':'AZ',\n",
        "                'California':'CA',\n",
        "                'Idaho':'ID',\n",
        "                'Maine':'ME',\n",
        "                'Michigan':'MI',\n",
        "                'Minnesota':'MN',\n",
        "                'Montana':'MT',\n",
        "                'New Mexico':'NM',\n",
        "                'New York':'NY',\n",
        "                'North Dakota':'ND',\n",
        "                'Ohio':'OH',\n",
        "                'Texas':'TX',\n",
        "                'Vermont':'VT',\n",
        "                'Washington':'WA'}\n",
        "    abrv = ''\n",
        "    if stateName in abrvDict:\n",
        "        abrv = abrvDict[stateName]\n",
        "    return abrv\n",
        "\n",
        "def safeDrop(df, cols):\n",
        "    print(df.shape)\n",
        "    for col in df.columns:\n",
        "        if col in cols:\n",
        "            print(f'removing: {col}')\n",
        "            df.drop([col], axis=1, inplace=True)\n",
        "    print(df.shape)\n",
        "    return df"
      ],
      "execution_count": 0,
      "outputs": []
    },
    {
      "cell_type": "markdown",
      "metadata": {
        "id": "KIpkC_p9k7_u",
        "colab_type": "text"
      },
      "source": [
        "## Border Data"
      ]
    },
    {
      "cell_type": "code",
      "metadata": {
        "id": "gRrFbRyzk3iP",
        "colab_type": "code",
        "colab": {}
      },
      "source": [
        "dataPath = Path.joinpath(Path.cwd(),'data','borderCrossing.csv'),\n",
        "df = pd.read_csv(dataPath),\n",
        "df.sample(3)"
      ],
      "execution_count": 0,
      "outputs": []
    },
    {
      "cell_type": "code",
      "metadata": {
        "id": "CLu7zPIklSAa",
        "colab_type": "code",
        "colab": {}
      },
      "source": [
        "df['Measure'].value_counts()"
      ],
      "execution_count": 0,
      "outputs": []
    },
    {
      "cell_type": "code",
      "metadata": {
        "id": "-hhAnZkOlXSV",
        "colab_type": "code",
        "colab": {}
      },
      "source": [
        "# Only interested in Passenger / Pedestrian crossings\n",
        "people = df['Measure'].str.contains('Passengers|Pedestrians', case = False)"
      ],
      "execution_count": 0,
      "outputs": []
    },
    {
      "cell_type": "code",
      "metadata": {
        "id": "dUc_9a7Flcyp",
        "colab_type": "code",
        "colab": {}
      },
      "source": [
        "# Check to see how much data frame shrinks after filtering down,\n",
        "print(f'All measures: {df.shape}'),\n",
        "#df = df[people] # This gave index error when re-running, changed to df.loc,\n",
        "df = df.loc[people],\n",
        "print(f'Just people: {df.shape}')"
      ],
      "execution_count": 0,
      "outputs": []
    },
    {
      "cell_type": "code",
      "metadata": {
        "id": "nK9sYDtPlnni",
        "colab_type": "code",
        "colab": {}
      },
      "source": [
        "# Break out Location into latitude and longitude,\n",
        "                # substring from 'POINT( ' to ')' and split on ' ' grabbing first then second element set as float,\n",
        "if 'Location' in df.columns:,\n",
        "    df['Latitude'] = df['Location'].str[len('POINT ('):-1].str.split(' ').str[1].astype(float),\n",
        "    df['Longitude'] = df['Location'].str[len('POINT ('):-1].str.split(' ').str[0].astype(float)"
      ],
      "execution_count": 0,
      "outputs": []
    },
    {
      "cell_type": "code",
      "metadata": {
        "id": "SgEJBkz5lvU8",
        "colab_type": "code",
        "colab": {}
      },
      "source": [
        "# Drop unnecessary columns\n",
        "df = safeDrop(df, ['Port Code','Port Name','Location','Unnamed: 0','index'])"
      ],
      "execution_count": 0,
      "outputs": []
    },
    {
      "cell_type": "code",
      "metadata": {
        "id": "twbTAdZGl0GQ",
        "colab_type": "code",
        "colab": {}
      },
      "source": [
        "# Get state abrv\n",
        "df['Abrv'] = df['State'].apply(abbreviate)"
      ],
      "execution_count": 0,
      "outputs": []
    },
    {
      "cell_type": "code",
      "metadata": {
        "id": "rQIpVX1Vl48M",
        "colab_type": "code",
        "colab": {}
      },
      "source": [
        "# reorganize columns\n",
        "df = df[['Abrv','State','Longitude','Latitude','Border','Date','Measure','Value']]"
      ],
      "execution_count": 0,
      "outputs": []
    },
    {
      "cell_type": "code",
      "metadata": {
        "id": "zgcNVoy9mDEQ",
        "colab_type": "code",
        "colab": {}
      },
      "source": [
        "df.head(1)"
      ],
      "execution_count": 0,
      "outputs": []
    },
    {
      "cell_type": "code",
      "metadata": {
        "id": "hJMjmXHll88_",
        "colab_type": "code",
        "colab": {}
      },
      "source": [
        "# Remove non-pedestrian values to shrink file\n",
        "df.to_csv(Path.joinpath(Path.cwd(),'data','borderCrossing.csv'), index = False)"
      ],
      "execution_count": 0,
      "outputs": []
    },
    {
      "cell_type": "markdown",
      "metadata": {
        "id": "fvmjL7OnmHxm",
        "colab_type": "text"
      },
      "source": [
        "## GDP Data"
      ]
    },
    {
      "cell_type": "code",
      "metadata": {
        "id": "_Puc3nxumFFP",
        "colab_type": "code",
        "colab": {}
      },
      "source": [
        "dataPath = Path.joinpath(Path.cwd(),'data','pctChangeGDP.csv')\n",
        "df = pd.read_csv(dataPath)\n",
        "df.sample(3)"
      ],
      "execution_count": 0,
      "outputs": []
    },
    {
      "cell_type": "code",
      "metadata": {
        "id": "0O0e1o2EmOOy",
        "colab_type": "code",
        "colab": {}
      },
      "source": [
        "# rename GeoName to State\n",
        "df.rename(columns={'GeoName':'State'}, inplace=True)"
      ],
      "execution_count": 0,
      "outputs": []
    },
    {
      "cell_type": "code",
      "metadata": {
        "id": "WtZtmbb9mSos",
        "colab_type": "code",
        "colab": {}
      },
      "source": [
        "# Get state abrv\n",
        "df['Abrv'] = df['State'].apply(abbreviate)"
      ],
      "execution_count": 0,
      "outputs": []
    },
    {
      "cell_type": "code",
      "metadata": {
        "id": "IM8jPsFDmXbj",
        "colab_type": "code",
        "colab": {}
      },
      "source": [
        "# drop unneeded rows\\n\",\n",
        "# index of all rows where df['Abrv'] == ''\n",
        "dropIndex = df.loc[df['Abrv']==''].index\n",
        "df.drop(dropIndex, inplace=True)"
      ],
      "execution_count": 0,
      "outputs": []
    },
    {
      "cell_type": "code",
      "metadata": {
        "id": "hVivlteBmc_S",
        "colab_type": "code",
        "colab": {}
      },
      "source": [
        "# SAFE DROP\n",
        "df = safeDrop(df, ['GeoFips'])"
      ],
      "execution_count": 0,
      "outputs": []
    },
    {
      "cell_type": "code",
      "metadata": {
        "id": "xTX-tPbcmiTd",
        "colab_type": "code",
        "colab": {}
      },
      "source": [
        "if 'Year' not in df.columns:\n",
        "  df = pd.melt(df, id_vars=['State','Abrv'], var_name='Year', value_name = 'Value')"
      ],
      "execution_count": 0,
      "outputs": []
    },
    {
      "cell_type": "code",
      "metadata": {
        "id": "CDY5cQvYmmrR",
        "colab_type": "code",
        "colab": {}
      },
      "source": [
        "df.head()"
      ],
      "execution_count": 0,
      "outputs": []
    },
    {
      "cell_type": "code",
      "metadata": {
        "id": "kKAmXymVmo6O",
        "colab_type": "code",
        "colab": {}
      },
      "source": [
        "# Un-pivoting\n",
        "df.to_csv(Path.joinpath(Path.cwd(),'data','pctChangeGDP.csv'), index = False)"
      ],
      "execution_count": 0,
      "outputs": []
    },
    {
      "cell_type": "markdown",
      "metadata": {
        "id": "qlKVqbazmtwM",
        "colab_type": "text"
      },
      "source": [
        "## Unemployment Data"
      ]
    },
    {
      "cell_type": "code",
      "metadata": {
        "id": "NZnyHN1qmuGj",
        "colab_type": "code",
        "colab": {}
      },
      "source": [
        "dataPath = Path.joinpath(Path.cwd(),'data','unemployment.csv')\n",
        "df = pd.read_csv(dataPath)\n",
        "df.sample(3)"
      ],
      "execution_count": 0,
      "outputs": []
    },
    {
      "cell_type": "code",
      "metadata": {
        "id": "kVpljKXdm6QF",
        "colab_type": "code",
        "colab": {}
      },
      "source": [
        "# rename GeoName to State\n",
        "df.rename(columns={'Stata':'State'}, inplace=True)"
      ],
      "execution_count": 0,
      "outputs": []
    },
    {
      "cell_type": "code",
      "metadata": {
        "id": "l_TU-AgZm97o",
        "colab_type": "code",
        "colab": {}
      },
      "source": [
        "# drop unneeded columns\n",
        "df = safeDrop(df, ['FIPS','PercentOfPopulation','PercentOfLaborEmp','PercentOfLaborUnemp'])"
      ],
      "execution_count": 0,
      "outputs": []
    },
    {
      "cell_type": "code",
      "metadata": {
        "id": "Nk31fGeQnBLR",
        "colab_type": "code",
        "colab": {}
      },
      "source": [
        "# get abbreviations\n",
        "df['Abrv'] = df['State'].apply(abbreviate)\n",
        "# drop unneeded rows\n",
        "# index of all rows where df['Abrv'] == ''\n",
        "dropIndex = df.loc[df['Abrv']==''].index\n",
        "df.drop(dropIndex, inplace=True)"
      ],
      "execution_count": 0,
      "outputs": []
    },
    {
      "cell_type": "code",
      "metadata": {
        "id": "GJCA5wM4nHxo",
        "colab_type": "code",
        "colab": {}
      },
      "source": [
        "df.sample(3)"
      ],
      "execution_count": 0,
      "outputs": []
    },
    {
      "cell_type": "code",
      "metadata": {
        "id": "4nAk3cCAnK6h",
        "colab_type": "code",
        "colab": {}
      },
      "source": [
        "# Un-pivoting\n",
        "df.to_csv(Path.joinpath(Path.cwd(),'data','unemployment.csv'), index = False)"
      ],
      "execution_count": 0,
      "outputs": []
    }
  ]
}