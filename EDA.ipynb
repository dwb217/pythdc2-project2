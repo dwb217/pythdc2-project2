{
  "nbformat": 4,
  "nbformat_minor": 0,
  "metadata": {
    "kernelspec": {
      "display_name": "Python 3",
      "language": "python",
      "name": "python3"
    },
    "language_info": {
      "codemirror_mode": {
        "name": "ipython",
        "version": 3
      },
      "file_extension": ".py",
      "mimetype": "text/x-python",
      "name": "python",
      "nbconvert_exporter": "python",
      "pygments_lexer": "ipython3",
      "version": "3.6.5"
    },
    "colab": {
      "name": "EDA.ipynb",
      "provenance": [],
      "include_colab_link": true
    }
  },
  "cells": [
    {
      "cell_type": "markdown",
      "metadata": {
        "id": "view-in-github",
        "colab_type": "text"
      },
      "source": [
        "<a href=\"https://colab.research.google.com/github/maxrgnt/pythdc2-project2/blob/master/EDA.ipynb\" target=\"_parent\"><img src=\"https://colab.research.google.com/assets/colab-badge.svg\" alt=\"Open In Colab\"/></a>"
      ]
    },
    {
      "cell_type": "code",
      "metadata": {
        "id": "Ze60cO11dlYz",
        "colab_type": "code",
        "colab": {}
      },
      "source": [
        "# Panel Data\n",
        "import pandas as pd\n",
        "# System folders\n",
        "import os\n",
        "from pathlib import Path\n",
        "# Visualization\n",
        "import plotly.graph_objs as go\n",
        "import seaborn as sns\n",
        "%matplotlib inline"
      ],
      "execution_count": 0,
      "outputs": []
    },
    {
      "cell_type": "code",
      "metadata": {
        "id": "8zYAzV7ndlY4",
        "colab_type": "code",
        "outputId": "b2acb4d4-88aa-4200-fa8e-a4d2d4c41173",
        "colab": {
          "base_uri": "https://localhost:8080/",
          "height": 142
        }
      },
      "source": [
        "# read in the data\n",
        "url='https://raw.githubusercontent.com/maxrgnt/pythdc2-project2/master/data/borderCrossing.csv'\n",
        "df = pd.read_csv(url)\n",
        "df.sample(3)"
      ],
      "execution_count": 8,
      "outputs": [
        {
          "output_type": "execute_result",
          "data": {
            "text/html": [
              "<div>\n",
              "<style scoped>\n",
              "    .dataframe tbody tr th:only-of-type {\n",
              "        vertical-align: middle;\n",
              "    }\n",
              "\n",
              "    .dataframe tbody tr th {\n",
              "        vertical-align: top;\n",
              "    }\n",
              "\n",
              "    .dataframe thead th {\n",
              "        text-align: right;\n",
              "    }\n",
              "</style>\n",
              "<table border=\"1\" class=\"dataframe\">\n",
              "  <thead>\n",
              "    <tr style=\"text-align: right;\">\n",
              "      <th></th>\n",
              "      <th>Abrv</th>\n",
              "      <th>State</th>\n",
              "      <th>Longitude</th>\n",
              "      <th>Latitude</th>\n",
              "      <th>Border</th>\n",
              "      <th>Date</th>\n",
              "      <th>Measure</th>\n",
              "      <th>Value</th>\n",
              "    </tr>\n",
              "  </thead>\n",
              "  <tbody>\n",
              "    <tr>\n",
              "      <th>91349</th>\n",
              "      <td>MT</td>\n",
              "      <td>Montana</td>\n",
              "      <td>-111.26</td>\n",
              "      <td>49.00</td>\n",
              "      <td>US-Canada Border</td>\n",
              "      <td>11/1/2000 0:00</td>\n",
              "      <td>Personal Vehicle Passengers</td>\n",
              "      <td>110</td>\n",
              "    </tr>\n",
              "    <tr>\n",
              "      <th>33290</th>\n",
              "      <td>AZ</td>\n",
              "      <td>Arizona</td>\n",
              "      <td>-114.78</td>\n",
              "      <td>32.49</td>\n",
              "      <td>US-Mexico Border</td>\n",
              "      <td>11/1/2011 0:00</td>\n",
              "      <td>Pedestrians</td>\n",
              "      <td>286686</td>\n",
              "    </tr>\n",
              "    <tr>\n",
              "      <th>29219</th>\n",
              "      <td>MT</td>\n",
              "      <td>Montana</td>\n",
              "      <td>-111.96</td>\n",
              "      <td>49.00</td>\n",
              "      <td>US-Canada Border</td>\n",
              "      <td>8/1/2012 0:00</td>\n",
              "      <td>Bus Passengers</td>\n",
              "      <td>571</td>\n",
              "    </tr>\n",
              "  </tbody>\n",
              "</table>\n",
              "</div>"
            ],
            "text/plain": [
              "      Abrv    State  ...                      Measure   Value\n",
              "91349   MT  Montana  ...  Personal Vehicle Passengers     110\n",
              "33290   AZ  Arizona  ...                  Pedestrians  286686\n",
              "29219   MT  Montana  ...               Bus Passengers     571\n",
              "\n",
              "[3 rows x 8 columns]"
            ]
          },
          "metadata": {
            "tags": []
          },
          "execution_count": 8
        }
      ]
    },
    {
      "cell_type": "code",
      "metadata": {
        "id": "-ACDKu5TdlZQ",
        "colab_type": "code",
        "outputId": "39e1ac20-c60b-4522-8627-a35d24b8871a",
        "colab": {
          "base_uri": "https://localhost:8080/",
          "height": 170
        }
      },
      "source": [
        "# are there any null values?\n",
        "df.isnull().sum()"
      ],
      "execution_count": 9,
      "outputs": [
        {
          "output_type": "execute_result",
          "data": {
            "text/plain": [
              "Abrv         0\n",
              "State        0\n",
              "Longitude    0\n",
              "Latitude     0\n",
              "Border       0\n",
              "Date         0\n",
              "Measure      0\n",
              "Value        0\n",
              "dtype: int64"
            ]
          },
          "metadata": {
            "tags": []
          },
          "execution_count": 9
        }
      ]
    },
    {
      "cell_type": "code",
      "metadata": {
        "id": "-pEflA2UdlZd",
        "colab_type": "code",
        "colab": {}
      },
      "source": [
        "# Handle the Date column\n",
        "df['newDate'] = pd.to_datetime(df['Date'])"
      ],
      "execution_count": 0,
      "outputs": []
    },
    {
      "cell_type": "code",
      "metadata": {
        "id": "2BBfhK_sdlZf",
        "colab_type": "code",
        "outputId": "8e8307cf-715e-4cd1-fb84-566bc492fc2b",
        "colab": {
          "base_uri": "https://localhost:8080/",
          "height": 34
        }
      },
      "source": [
        "# Inspect the date column\n",
        "df['Year'] = df['newDate'].dt.year\n",
        "df['Month'] = df['newDate'].dt.month\n",
        "# How many years of data available?\n",
        "maxYear = df['newDate'].dt.year.max()\n",
        "minYear = df['newDate'].dt.year.min()\n",
        "print(f'From {minYear} to {maxYear} for total of {maxYear-minYear} year(s) of data.')"
      ],
      "execution_count": 11,
      "outputs": [
        {
          "output_type": "stream",
          "text": [
            "From 1996 to 2019 for total of 23 year(s) of data.\n"
          ],
          "name": "stdout"
        }
      ]
    },
    {
      "cell_type": "code",
      "metadata": {
        "id": "J8KGDuFmdlZk",
        "colab_type": "code",
        "colab": {}
      },
      "source": [
        "# df.groupby(['Border','Year'])[['Value']].sum().head()\n",
        "# df = df.sample(10000)\n",
        "# df2 = df.groupby('StateAbrv')[['Value']].sum().reset_index()\n",
        "# df2.head()"
      ],
      "execution_count": 0,
      "outputs": []
    },
    {
      "cell_type": "code",
      "metadata": {
        "id": "7RYd2ixidlZp",
        "colab_type": "code",
        "outputId": "8d4af7c0-2a25-4cf7-8862-5c28e43ab5f5",
        "colab": {
          "base_uri": "https://localhost:8080/",
          "height": 394
        }
      },
      "source": [
        "sns.set(rc={'figure.figsize':(18,6)})\n",
        "sns.lineplot(x = 'Year', y = 'Value', hue = 'Border', ci=None, data = df);"
      ],
      "execution_count": 14,
      "outputs": [
        {
          "output_type": "display_data",
          "data": {
            "image/png": "[encoded data removed]",
            "text/plain": [
              "<Figure size 1296x432 with 1 Axes>"
            ]
          },
          "metadata": {
            "tags": []
          }
        }
      ]
    },
    {
      "cell_type": "code",
      "metadata": {
        "id": "TonnV62fdlZs",
        "colab_type": "code",
        "colab": {}
      },
      "source": [
        "# mapbox_access_token = open(\"assets/mytoken.mapbox_token\").read()\n",
        "\n",
        "# fig = go.Figure(go.Scattermapbox(\n",
        "#     lat=df['Latitude'],\n",
        "#     lon=df['Longitude'],\n",
        "#     mode='markers',\n",
        "#     marker=go.scattermapbox.Marker(\n",
        "#         size=20,\n",
        "#         colorscale='Purples',\n",
        "#         color=df['Value']\n",
        "#     ),\n",
        "#     text=df['Value']\n",
        "\n",
        "# ))\n",
        "# fig.update_layout(\n",
        "#     autosize=True,\n",
        "#     hovermode='closest',\n",
        "#     mapbox=go.layout.Mapbox(\n",
        "#         accesstoken=mapbox_access_token,\n",
        "#         bearing=0,\n",
        "#         center=go.layout.mapbox.Center(\n",
        "#             lat=39.8283,\n",
        "#             lon=-98.5795\n",
        "#         ),\n",
        "#         pitch=0,\n",
        "#         zoom=3\n",
        "#     ),\n",
        "# )\n",
        "# fig"
      ],
      "execution_count": 0,
      "outputs": []
    },
    {
      "cell_type": "code",
      "metadata": {
        "id": "2W8FBcuidlZy",
        "colab_type": "code",
        "outputId": "8262c7b3-33e7-4a2a-a5de-8ff65ea2a57a",
        "colab": {
          "base_uri": "https://localhost:8080/",
          "height": 542
        }
      },
      "source": [
        "fig = go.Figure(data=go.Choropleth(\n",
        "    locations=df2['StateAbrv'], # Spatial coordinates\n",
        "    z = df2['Value'].astype(float), # Data to be color-coded\n",
        "    locationmode = 'USA-states', # set of locations match entries in `locations`\n",
        "    colorscale = 'Purples',\n",
        "    colorbar_title = \"Pedestrians\",\n",
        "))\n",
        "\n",
        "fig.update_layout(\n",
        "    title_text = 'Migration',\n",
        "    geo_scope='usa', # limite map scope to USA\n",
        ")\n",
        "\n",
        "fig.show()"
      ],
      "execution_count": 0,
      "outputs": [
        {
          "output_type": "display_data",
          "data": {
            "text/html": [
              "<html>\n",
              "<head><meta charset=\"utf-8\" /></head>\n",
              "<body>\n",
              "    <div>\n",
              "            <script src=\"https://cdnjs.cloudflare.com/ajax/libs/mathjax/2.7.5/MathJax.js?config=TeX-AMS-MML_SVG\"></script><script type=\"text/javascript\">if (window.MathJax) {MathJax.Hub.Config({SVG: {font: \"STIX-Web\"}});}</script>\n",
              "                <script type=\"text/javascript\">window.PlotlyConfig = {MathJaxConfig: 'local'};</script>\n",
              "        <script src=\"https://cdn.plot.ly/plotly-latest.min.js\"></script>    \n",
              "            <div id=\"a56d6104-f70f-44fa-8301-84bc2a7f356a\" class=\"plotly-graph-div\" style=\"height:525px; width:100%;\"></div>\n",
              "            <script type=\"text/javascript\">\n",
              "                \n",
              "                    window.PLOTLYENV=window.PLOTLYENV || {};\n",
              "                    \n",
              "                if (document.getElementById(\"a56d6104-f70f-44fa-8301-84bc2a7f356a\")) {\n",
              "                    Plotly.newPlot(\n",
              "                        'a56d6104-f70f-44fa-8301-84bc2a7f356a',\n",
              "                        [{\"colorbar\": {\"title\": {\"text\": \"Pedestrians\"}}, \"colorscale\": [[0.0, \"rgb(252,251,253)\"], [0.125, \"rgb(239,237,245)\"], [0.25, \"rgb(218,218,235)\"], [0.375, \"rgb(188,189,220)\"], [0.5, \"rgb(158,154,200)\"], [0.625, \"rgb(128,125,186)\"], [0.75, \"rgb(106,81,163)\"], [0.875, \"rgb(84,39,143)\"], [1.0, \"rgb(63,0,125)\"]], \"locationmode\": \"USA-states\", \"locations\": [\"AL\", \"AZ\", \"CA\", \"ID\", \"ME\", \"MI\", \"MN\", \"MT\", \"ND\", \"NM\", \"NY\", \"TX\", \"VT\", \"WA\"], \"type\": \"choropleth\", \"z\": [10687909.0, 664433912.0, 1770174503.0, 11048350.0, 138145359.0, 428135759.0, 57042654.0, 32348838.0, 37373883.0, 45685789.0, 530521680.0, 2537979030.0, 68037600.0, 318522444.0]}],\n",
              "                        {\"geo\": {\"scope\": \"usa\"}, \"template\": {\"data\": {\"bar\": [{\"error_x\": {\"color\": \"#2a3f5f\"}, \"error_y\": {\"color\": \"#2a3f5f\"}, \"marker\": {\"line\": {\"color\": \"#E5ECF6\", \"width\": 0.5}}, \"type\": \"bar\"}], \"barpolar\": [{\"marker\": {\"line\": {\"color\": \"#E5ECF6\", \"width\": 0.5}}, \"type\": \"barpolar\"}], \"carpet\": [{\"aaxis\": {\"endlinecolor\": \"#2a3f5f\", \"gridcolor\": \"white\", \"linecolor\": \"white\", \"minorgridcolor\": \"white\", \"startlinecolor\": \"#2a3f5f\"}, \"baxis\": {\"endlinecolor\": \"#2a3f5f\", \"gridcolor\": \"white\", \"linecolor\": \"white\", \"minorgridcolor\": \"white\", \"startlinecolor\": \"#2a3f5f\"}, \"type\": \"carpet\"}], \"choropleth\": [{\"colorbar\": {\"outlinewidth\": 0, \"ticks\": \"\"}, \"type\": \"choropleth\"}], \"contour\": [{\"colorbar\": {\"outlinewidth\": 0, \"ticks\": \"\"}, \"colorscale\": [[0.0, \"#0d0887\"], [0.1111111111111111, \"#46039f\"], [0.2222222222222222, \"#7201a8\"], [0.3333333333333333, \"#9c179e\"], [0.4444444444444444, \"#bd3786\"], [0.5555555555555556, \"#d8576b\"], [0.6666666666666666, \"#ed7953\"], [0.7777777777777778, \"#fb9f3a\"], [0.8888888888888888, \"#fdca26\"], [1.0, \"#f0f921\"]], \"type\": \"contour\"}], \"contourcarpet\": [{\"colorbar\": {\"outlinewidth\": 0, \"ticks\": \"\"}, \"type\": \"contourcarpet\"}], \"heatmap\": [{\"colorbar\": {\"outlinewidth\": 0, \"ticks\": \"\"}, \"colorscale\": [[0.0, \"#0d0887\"], [0.1111111111111111, \"#46039f\"], [0.2222222222222222, \"#7201a8\"], [0.3333333333333333, \"#9c179e\"], [0.4444444444444444, \"#bd3786\"], [0.5555555555555556, \"#d8576b\"], [0.6666666666666666, \"#ed7953\"], [0.7777777777777778, \"#fb9f3a\"], [0.8888888888888888, \"#fdca26\"], [1.0, \"#f0f921\"]], \"type\": \"heatmap\"}], \"heatmapgl\": [{\"colorbar\": {\"outlinewidth\": 0, \"ticks\": \"\"}, \"colorscale\": [[0.0, \"#0d0887\"], [0.1111111111111111, \"#46039f\"], [0.2222222222222222, \"#7201a8\"], [0.3333333333333333, \"#9c179e\"], [0.4444444444444444, \"#bd3786\"], [0.5555555555555556, \"#d8576b\"], [0.6666666666666666, \"#ed7953\"], [0.7777777777777778, \"#fb9f3a\"], [0.8888888888888888, \"#fdca26\"], [1.0, \"#f0f921\"]], \"type\": \"heatmapgl\"}], \"histogram\": [{\"marker\": {\"colorbar\": {\"outlinewidth\": 0, \"ticks\": \"\"}}, \"type\": \"histogram\"}], \"histogram2d\": [{\"colorbar\": {\"outlinewidth\": 0, \"ticks\": \"\"}, \"colorscale\": [[0.0, \"#0d0887\"], [0.1111111111111111, \"#46039f\"], [0.2222222222222222, \"#7201a8\"], [0.3333333333333333, \"#9c179e\"], [0.4444444444444444, \"#bd3786\"], [0.5555555555555556, \"#d8576b\"], [0.6666666666666666, \"#ed7953\"], [0.7777777777777778, \"#fb9f3a\"], [0.8888888888888888, \"#fdca26\"], [1.0, \"#f0f921\"]], \"type\": \"histogram2d\"}], \"histogram2dcontour\": [{\"colorbar\": {\"outlinewidth\": 0, \"ticks\": \"\"}, \"colorscale\": [[0.0, \"#0d0887\"], [0.1111111111111111, \"#46039f\"], [0.2222222222222222, \"#7201a8\"], [0.3333333333333333, \"#9c179e\"], [0.4444444444444444, \"#bd3786\"], [0.5555555555555556, \"#d8576b\"], [0.6666666666666666, \"#ed7953\"], [0.7777777777777778, \"#fb9f3a\"], [0.8888888888888888, \"#fdca26\"], [1.0, \"#f0f921\"]], \"type\": \"histogram2dcontour\"}], \"mesh3d\": [{\"colorbar\": {\"outlinewidth\": 0, \"ticks\": \"\"}, \"type\": \"mesh3d\"}], \"parcoords\": [{\"line\": {\"colorbar\": {\"outlinewidth\": 0, \"ticks\": \"\"}}, \"type\": \"parcoords\"}], \"scatter\": [{\"marker\": {\"colorbar\": {\"outlinewidth\": 0, \"ticks\": \"\"}}, \"type\": \"scatter\"}], \"scatter3d\": [{\"line\": {\"colorbar\": {\"outlinewidth\": 0, \"ticks\": \"\"}}, \"marker\": {\"colorbar\": {\"outlinewidth\": 0, \"ticks\": \"\"}}, \"type\": \"scatter3d\"}], \"scattercarpet\": [{\"marker\": {\"colorbar\": {\"outlinewidth\": 0, \"ticks\": \"\"}}, \"type\": \"scattercarpet\"}], \"scattergeo\": [{\"marker\": {\"colorbar\": {\"outlinewidth\": 0, \"ticks\": \"\"}}, \"type\": \"scattergeo\"}], \"scattergl\": [{\"marker\": {\"colorbar\": {\"outlinewidth\": 0, \"ticks\": \"\"}}, \"type\": \"scattergl\"}], \"scattermapbox\": [{\"marker\": {\"colorbar\": {\"outlinewidth\": 0, \"ticks\": \"\"}}, \"type\": \"scattermapbox\"}], \"scatterpolar\": [{\"marker\": {\"colorbar\": {\"outlinewidth\": 0, \"ticks\": \"\"}}, \"type\": \"scatterpolar\"}], \"scatterpolargl\": [{\"marker\": {\"colorbar\": {\"outlinewidth\": 0, \"ticks\": \"\"}}, \"type\": \"scatterpolargl\"}], \"scatterternary\": [{\"marker\": {\"colorbar\": {\"outlinewidth\": 0, \"ticks\": \"\"}}, \"type\": \"scatterternary\"}], \"surface\": [{\"colorbar\": {\"outlinewidth\": 0, \"ticks\": \"\"}, \"colorscale\": [[0.0, \"#0d0887\"], [0.1111111111111111, \"#46039f\"], [0.2222222222222222, \"#7201a8\"], [0.3333333333333333, \"#9c179e\"], [0.4444444444444444, \"#bd3786\"], [0.5555555555555556, \"#d8576b\"], [0.6666666666666666, \"#ed7953\"], [0.7777777777777778, \"#fb9f3a\"], [0.8888888888888888, \"#fdca26\"], [1.0, \"#f0f921\"]], \"type\": \"surface\"}], \"table\": [{\"cells\": {\"fill\": {\"color\": \"#EBF0F8\"}, \"line\": {\"color\": \"white\"}}, \"header\": {\"fill\": {\"color\": \"#C8D4E3\"}, \"line\": {\"color\": \"white\"}}, \"type\": \"table\"}]}, \"layout\": {\"annotationdefaults\": {\"arrowcolor\": \"#2a3f5f\", \"arrowhead\": 0, \"arrowwidth\": 1}, \"colorscale\": {\"diverging\": [[0, \"#8e0152\"], [0.1, \"#c51b7d\"], [0.2, \"#de77ae\"], [0.3, \"#f1b6da\"], [0.4, \"#fde0ef\"], [0.5, \"#f7f7f7\"], [0.6, \"#e6f5d0\"], [0.7, \"#b8e186\"], [0.8, \"#7fbc41\"], [0.9, \"#4d9221\"], [1, \"#276419\"]], \"sequential\": [[0.0, \"#0d0887\"], [0.1111111111111111, \"#46039f\"], [0.2222222222222222, \"#7201a8\"], [0.3333333333333333, \"#9c179e\"], [0.4444444444444444, \"#bd3786\"], [0.5555555555555556, \"#d8576b\"], [0.6666666666666666, \"#ed7953\"], [0.7777777777777778, \"#fb9f3a\"], [0.8888888888888888, \"#fdca26\"], [1.0, \"#f0f921\"]], \"sequentialminus\": [[0.0, \"#0d0887\"], [0.1111111111111111, \"#46039f\"], [0.2222222222222222, \"#7201a8\"], [0.3333333333333333, \"#9c179e\"], [0.4444444444444444, \"#bd3786\"], [0.5555555555555556, \"#d8576b\"], [0.6666666666666666, \"#ed7953\"], [0.7777777777777778, \"#fb9f3a\"], [0.8888888888888888, \"#fdca26\"], [1.0, \"#f0f921\"]]}, \"colorway\": [\"#636efa\", \"#EF553B\", \"#00cc96\", \"#ab63fa\", \"#FFA15A\", \"#19d3f3\", \"#FF6692\", \"#B6E880\", \"#FF97FF\", \"#FECB52\"], \"font\": {\"color\": \"#2a3f5f\"}, \"geo\": {\"bgcolor\": \"white\", \"lakecolor\": \"white\", \"landcolor\": \"#E5ECF6\", \"showlakes\": true, \"showland\": true, \"subunitcolor\": \"white\"}, \"hoverlabel\": {\"align\": \"left\"}, \"hovermode\": \"closest\", \"mapbox\": {\"style\": \"light\"}, \"paper_bgcolor\": \"white\", \"plot_bgcolor\": \"#E5ECF6\", \"polar\": {\"angularaxis\": {\"gridcolor\": \"white\", \"linecolor\": \"white\", \"ticks\": \"\"}, \"bgcolor\": \"#E5ECF6\", \"radialaxis\": {\"gridcolor\": \"white\", \"linecolor\": \"white\", \"ticks\": \"\"}}, \"scene\": {\"xaxis\": {\"backgroundcolor\": \"#E5ECF6\", \"gridcolor\": \"white\", \"gridwidth\": 2, \"linecolor\": \"white\", \"showbackground\": true, \"ticks\": \"\", \"zerolinecolor\": \"white\"}, \"yaxis\": {\"backgroundcolor\": \"#E5ECF6\", \"gridcolor\": \"white\", \"gridwidth\": 2, \"linecolor\": \"white\", \"showbackground\": true, \"ticks\": \"\", \"zerolinecolor\": \"white\"}, \"zaxis\": {\"backgroundcolor\": \"#E5ECF6\", \"gridcolor\": \"white\", \"gridwidth\": 2, \"linecolor\": \"white\", \"showbackground\": true, \"ticks\": \"\", \"zerolinecolor\": \"white\"}}, \"shapedefaults\": {\"line\": {\"color\": \"#2a3f5f\"}}, \"ternary\": {\"aaxis\": {\"gridcolor\": \"white\", \"linecolor\": \"white\", \"ticks\": \"\"}, \"baxis\": {\"gridcolor\": \"white\", \"linecolor\": \"white\", \"ticks\": \"\"}, \"bgcolor\": \"#E5ECF6\", \"caxis\": {\"gridcolor\": \"white\", \"linecolor\": \"white\", \"ticks\": \"\"}}, \"title\": {\"x\": 0.05}, \"xaxis\": {\"automargin\": true, \"gridcolor\": \"white\", \"linecolor\": \"white\", \"ticks\": \"\", \"zerolinecolor\": \"white\", \"zerolinewidth\": 2}, \"yaxis\": {\"automargin\": true, \"gridcolor\": \"white\", \"linecolor\": \"white\", \"ticks\": \"\", \"zerolinecolor\": \"white\", \"zerolinewidth\": 2}}}, \"title\": {\"text\": \"Migration\"}},\n",
              "                        {\"responsive\": true}\n",
              "                    ).then(function(){\n",
              "                            \n",
              "var gd = document.getElementById('a56d6104-f70f-44fa-8301-84bc2a7f356a');\n",
              "var x = new MutationObserver(function (mutations, observer) {{\n",
              "        var display = window.getComputedStyle(gd).display;\n",
              "        if (!display || display === 'none') {{\n",
              "            console.log([gd, 'removed!']);\n",
              "            Plotly.purge(gd);\n",
              "            observer.disconnect();\n",
              "        }}\n",
              "}});\n",
              "\n",
              "// Listen for the removal of the full notebook cells\n",
              "var notebookContainer = gd.closest('#notebook-container');\n",
              "if (notebookContainer) {{\n",
              "    x.observe(notebookContainer, {childList: true});\n",
              "}}\n",
              "\n",
              "// Listen for the clearing of the current output cell\n",
              "var outputEl = gd.closest('.output');\n",
              "if (outputEl) {{\n",
              "    x.observe(outputEl, {childList: true});\n",
              "}}\n",
              "\n",
              "                        })\n",
              "                };\n",
              "                \n",
              "            </script>\n",
              "        </div>\n",
              "</body>\n",
              "</html>"
            ]
          },
          "metadata": {
            "tags": []
          }
        }
      ]
    },
    {
      "cell_type": "code",
      "metadata": {
        "id": "7JFjFmMudlZ1",
        "colab_type": "code",
        "outputId": "bd948b2e-87c1-44dd-d92e-bf5754ec70d5",
        "colab": {
          "base_uri": "https://localhost:8080/",
          "height": 111
        }
      },
      "source": [
        "brdr = df[[\"Abrv\",\"Year\",\"Value\"]]\n",
        "brdr = brdr[brdr['Abrv']=='TX']\n",
        "brdr = brdr.groupby(['Year','Abrv'])[['Value']].sum().reset_index()\n",
        "\n",
        "url='https://raw.githubusercontent.com/maxrgnt/pythdc2-project2/master/data/pctChangeGDP.csv# read in the data'\n",
        "gdp_raw = pd.read_csv(url)\n",
        "gdp_raw.sample(2)"
      ],
      "execution_count": 17,
      "outputs": [
        {
          "output_type": "execute_result",
          "data": {
            "text/html": [
              "<div>\n",
              "<style scoped>\n",
              "    .dataframe tbody tr th:only-of-type {\n",
              "        vertical-align: middle;\n",
              "    }\n",
              "\n",
              "    .dataframe tbody tr th {\n",
              "        vertical-align: top;\n",
              "    }\n",
              "\n",
              "    .dataframe thead th {\n",
              "        text-align: right;\n",
              "    }\n",
              "</style>\n",
              "<table border=\"1\" class=\"dataframe\">\n",
              "  <thead>\n",
              "    <tr style=\"text-align: right;\">\n",
              "      <th></th>\n",
              "      <th>State</th>\n",
              "      <th>Abrv</th>\n",
              "      <th>Year</th>\n",
              "      <th>Value</th>\n",
              "    </tr>\n",
              "  </thead>\n",
              "  <tbody>\n",
              "    <tr>\n",
              "      <th>399</th>\n",
              "      <td>New York</td>\n",
              "      <td>NY</td>\n",
              "      <td>1990</td>\n",
              "      <td>4.2</td>\n",
              "    </tr>\n",
              "    <tr>\n",
              "      <th>176</th>\n",
              "      <td>Ohio</td>\n",
              "      <td>OH</td>\n",
              "      <td>1975</td>\n",
              "      <td>5.3</td>\n",
              "    </tr>\n",
              "  </tbody>\n",
              "</table>\n",
              "</div>"
            ],
            "text/plain": [
              "        State Abrv  Year  Value\n",
              "399  New York   NY  1990    4.2\n",
              "176      Ohio   OH  1975    5.3"
            ]
          },
          "metadata": {
            "tags": []
          },
          "execution_count": 17
        }
      ]
    },
    {
      "cell_type": "code",
      "metadata": {
        "id": "yve6La3sjDZU",
        "colab_type": "code",
        "colab": {}
      },
      "source": [
        "gdp = gdp_raw[gdp_raw['Abrv']=='TX'].reset_index()"
      ],
      "execution_count": 0,
      "outputs": []
    },
    {
      "cell_type": "code",
      "metadata": {
        "id": "V_5GBVIRjF_0",
        "colab_type": "code",
        "outputId": "e12b0bde-1aa3-4b70-9d35-04ac0c4144e2",
        "colab": {
          "base_uri": "https://localhost:8080/",
          "height": 51
        }
      },
      "source": [
        "print(f'GDP shape: {gdp.shape}')\n",
        "print(f'Border crossing shape: {brdr.shape}')"
      ],
      "execution_count": 20,
      "outputs": [
        {
          "output_type": "stream",
          "text": [
            "GDP shape: (55, 5)\n",
            "Border crossing shape: (24, 3)\n"
          ],
          "name": "stdout"
        }
      ]
    },
    {
      "cell_type": "code",
      "metadata": {
        "id": "AJK1sVW_EqA8",
        "colab_type": "code",
        "outputId": "132aa684-9f8b-4429-9a39-38b8d2b3b92c",
        "colab": {
          "base_uri": "https://localhost:8080/",
          "height": 51
        }
      },
      "source": [
        "print(f'Border crossing goes from {brdr[\"Year\"].min()} to {brdr[\"Year\"].max()}')\n",
        "print(f'GDP goes from {gdp[\"Year\"].min()} to {gdp[\"Year\"].max()}')"
      ],
      "execution_count": 21,
      "outputs": [
        {
          "output_type": "stream",
          "text": [
            "Border crossing goes from 1996 to 2019\n",
            "GDP goes from 1964 to 2018\n"
          ],
          "name": "stdout"
        }
      ]
    },
    {
      "cell_type": "code",
      "metadata": {
        "id": "CKR_8H3eH_nL",
        "colab_type": "code",
        "colab": {}
      },
      "source": [
        "gdp = gdp[gdp['Year'].astype(int)>1996]\n",
        "brdr = brdr[brdr['Year'].astype(int)<2019]"
      ],
      "execution_count": 0,
      "outputs": []
    },
    {
      "cell_type": "code",
      "metadata": {
        "id": "89BnT1tLI8ak",
        "colab_type": "code",
        "outputId": "59ed4406-6c2c-4081-e4d5-2446fe1398e4",
        "colab": {
          "base_uri": "https://localhost:8080/",
          "height": 51
        }
      },
      "source": [
        "print(f'Border crossing goes from {brdr[\"Year\"].min()} to {brdr[\"Year\"].max()}')\n",
        "print(f'GDP goes from {gdp[\"Year\"].min()} to {gdp[\"Year\"].max()}')"
      ],
      "execution_count": 23,
      "outputs": [
        {
          "output_type": "stream",
          "text": [
            "Border crossing goes from 1996 to 2018\n",
            "GDP goes from 1997 to 2018\n"
          ],
          "name": "stdout"
        }
      ]
    },
    {
      "cell_type": "code",
      "metadata": {
        "id": "bGIst6yqJa53",
        "colab_type": "code",
        "colab": {}
      },
      "source": [
        "gdp.rename(columns={'Value':'gdp'}, inplace=True)\n",
        "brdr.rename(columns={'Value':'immigrants'}, inplace=True)"
      ],
      "execution_count": 0,
      "outputs": []
    },
    {
      "cell_type": "code",
      "metadata": {
        "id": "FsWYrCbPLJQ9",
        "colab_type": "code",
        "outputId": "880e079d-ec4f-494d-9fb6-7d87d644aa63",
        "colab": {
          "base_uri": "https://localhost:8080/",
          "height": 142
        }
      },
      "source": [
        "gdp.head(3)"
      ],
      "execution_count": 25,
      "outputs": [
        {
          "output_type": "execute_result",
          "data": {
            "text/html": [
              "<div>\n",
              "<style scoped>\n",
              "    .dataframe tbody tr th:only-of-type {\n",
              "        vertical-align: middle;\n",
              "    }\n",
              "\n",
              "    .dataframe tbody tr th {\n",
              "        vertical-align: top;\n",
              "    }\n",
              "\n",
              "    .dataframe thead th {\n",
              "        text-align: right;\n",
              "    }\n",
              "</style>\n",
              "<table border=\"1\" class=\"dataframe\">\n",
              "  <thead>\n",
              "    <tr style=\"text-align: right;\">\n",
              "      <th></th>\n",
              "      <th>index</th>\n",
              "      <th>State</th>\n",
              "      <th>Abrv</th>\n",
              "      <th>Year</th>\n",
              "      <th>gdp</th>\n",
              "    </tr>\n",
              "  </thead>\n",
              "  <tbody>\n",
              "    <tr>\n",
              "      <th>33</th>\n",
              "      <td>507</td>\n",
              "      <td>Texas</td>\n",
              "      <td>TX</td>\n",
              "      <td>1997</td>\n",
              "      <td>10.1</td>\n",
              "    </tr>\n",
              "    <tr>\n",
              "      <th>34</th>\n",
              "      <td>522</td>\n",
              "      <td>Texas</td>\n",
              "      <td>TX</td>\n",
              "      <td>1998</td>\n",
              "      <td>5.8</td>\n",
              "    </tr>\n",
              "    <tr>\n",
              "      <th>35</th>\n",
              "      <td>537</td>\n",
              "      <td>Texas</td>\n",
              "      <td>TX</td>\n",
              "      <td>1999</td>\n",
              "      <td>5.5</td>\n",
              "    </tr>\n",
              "  </tbody>\n",
              "</table>\n",
              "</div>"
            ],
            "text/plain": [
              "    index  State Abrv  Year   gdp\n",
              "33    507  Texas   TX  1997  10.1\n",
              "34    522  Texas   TX  1998   5.8\n",
              "35    537  Texas   TX  1999   5.5"
            ]
          },
          "metadata": {
            "tags": []
          },
          "execution_count": 25
        }
      ]
    },
    {
      "cell_type": "code",
      "metadata": {
        "id": "_OpLNTP5LKgc",
        "colab_type": "code",
        "colab": {}
      },
      "source": [
        "brdr['immigrants'] = brdr['immigrants'].astype(float)"
      ],
      "execution_count": 0,
      "outputs": []
    },
    {
      "cell_type": "code",
      "metadata": {
        "id": "fcO9e6BxLxMm",
        "colab_type": "code",
        "colab": {}
      },
      "source": [
        "for y in list(brdr['Year'].unique()):\n",
        "  blah = 1.0\n",
        "  if y != brdr['Year'].min():\n",
        "    t0 = brdr.loc[brdr['Year'] == y-1,'immigrants'].tolist()[0]\n",
        "    t1 = brdr.loc[brdr['Year'] == y,'immigrants'].tolist()[0]\n",
        "    brdr.loc[brdr['Year'] == y, 'pct'] = (1-t1/t0)*100\n",
        "brdr = brdr[brdr['Year'].astype(int)>brdr['Year'].min()]"
      ],
      "execution_count": 0,
      "outputs": []
    },
    {
      "cell_type": "code",
      "metadata": {
        "id": "ysZdE6o4MZ8R",
        "colab_type": "code",
        "outputId": "07766a60-4df2-4801-a1f7-77aeca8b9ce0",
        "colab": {
          "base_uri": "https://localhost:8080/",
          "height": 799
        }
      },
      "source": [
        "print(brdr)\n",
        "print(gdp)"
      ],
      "execution_count": 28,
      "outputs": [
        {
          "output_type": "stream",
          "text": [
            "    Year Abrv   immigrants        pct\n",
            "1   1997   TX  144112883.0  -5.411652\n",
            "2   1998   TX  150696714.0  -4.568524\n",
            "3   1999   TX  163180976.0  -8.284362\n",
            "4   2000   TX  158331350.0   2.971931\n",
            "5   2001   TX  139030419.0  12.190214\n",
            "6   2002   TX  125895151.0   9.447766\n",
            "7   2003   TX  119902414.0   4.760102\n",
            "8   2004   TX  120122963.0  -0.183940\n",
            "9   2005   TX  115806714.0   3.593192\n",
            "10  2006   TX  112021593.0   3.268481\n",
            "11  2007   TX  107147439.0   4.351084\n",
            "12  2008   TX  105485182.0   1.551374\n",
            "13  2009   TX   92676707.0  12.142440\n",
            "14  2010   TX   82225341.0  11.277231\n",
            "15  2011   TX   70242948.0  14.572628\n",
            "16  2012   TX   72898341.0  -3.780298\n",
            "17  2013   TX   76715712.0  -5.236568\n",
            "18  2014   TX   80334766.0  -4.717487\n",
            "19  2015   TX   82726100.0  -2.976711\n",
            "20  2016   TX   85714503.0  -3.612406\n",
            "21  2017   TX   86196612.0  -0.562459\n",
            "22  2018   TX   88404201.0  -2.561109\n",
            "    index  State Abrv  Year   gdp\n",
            "33    507  Texas   TX  1997  10.1\n",
            "34    522  Texas   TX  1998   5.8\n",
            "35    537  Texas   TX  1999   5.5\n",
            "36    552  Texas   TX  2000   8.4\n",
            "37    567  Texas   TX  2001   4.6\n",
            "38    582  Texas   TX  2002   1.8\n",
            "39    597  Texas   TX  2003   5.4\n",
            "40    612  Texas   TX  2004   9.2\n",
            "41    627  Texas   TX  2005   8.8\n",
            "42    642  Texas   TX  2006  10.0\n",
            "43    657  Texas   TX  2007   8.6\n",
            "44    672  Texas   TX  2008   5.0\n",
            "45    687  Texas   TX  2009  -6.0\n",
            "46    702  Texas   TX  2010   6.3\n",
            "47    717  Texas   TX  2011   7.6\n",
            "48    732  Texas   TX  2012   6.0\n",
            "49    747  Texas   TX  2013   6.4\n",
            "50    762  Texas   TX  2014   4.2\n",
            "51    777  Texas   TX  2015   0.2\n",
            "52    792  Texas   TX  2016  -0.2\n",
            "53    807  Texas   TX  2017   5.8\n",
            "54    822  Texas   TX  2018   7.3\n"
          ],
          "name": "stdout"
        }
      ]
    },
    {
      "cell_type": "code",
      "metadata": {
        "id": "AEUslztURJAl",
        "colab_type": "code",
        "colab": {}
      },
      "source": [
        "gdp['Year'] = gdp['Year'].astype(int)\n",
        "new = gdp.merge(brdr, how = 'left', left_on='Year', right_on='Year',sort=True)"
      ],
      "execution_count": 0,
      "outputs": []
    },
    {
      "cell_type": "code",
      "metadata": {
        "id": "WWiDyPTiWbc4",
        "colab_type": "code",
        "outputId": "c7d8e9b1-71b3-4357-f516-61f4af1387b9",
        "colab": {
          "base_uri": "https://localhost:8080/",
          "height": 80
        }
      },
      "source": [
        "new.sample(1)"
      ],
      "execution_count": 48,
      "outputs": [
        {
          "output_type": "execute_result",
          "data": {
            "text/html": [
              "<div>\n",
              "<style scoped>\n",
              "    .dataframe tbody tr th:only-of-type {\n",
              "        vertical-align: middle;\n",
              "    }\n",
              "\n",
              "    .dataframe tbody tr th {\n",
              "        vertical-align: top;\n",
              "    }\n",
              "\n",
              "    .dataframe thead th {\n",
              "        text-align: right;\n",
              "    }\n",
              "</style>\n",
              "<table border=\"1\" class=\"dataframe\">\n",
              "  <thead>\n",
              "    <tr style=\"text-align: right;\">\n",
              "      <th></th>\n",
              "      <th>index</th>\n",
              "      <th>State</th>\n",
              "      <th>Abrv_x</th>\n",
              "      <th>Year</th>\n",
              "      <th>gdp</th>\n",
              "      <th>Abrv_y</th>\n",
              "      <th>immigrants</th>\n",
              "      <th>pct</th>\n",
              "    </tr>\n",
              "  </thead>\n",
              "  <tbody>\n",
              "    <tr>\n",
              "      <th>0</th>\n",
              "      <td>507</td>\n",
              "      <td>Texas</td>\n",
              "      <td>TX</td>\n",
              "      <td>1997</td>\n",
              "      <td>10.1</td>\n",
              "      <td>TX</td>\n",
              "      <td>144112883.0</td>\n",
              "      <td>-5.411652</td>\n",
              "    </tr>\n",
              "  </tbody>\n",
              "</table>\n",
              "</div>"
            ],
            "text/plain": [
              "   index  State Abrv_x  Year   gdp Abrv_y   immigrants       pct\n",
              "0    507  Texas     TX  1997  10.1     TX  144112883.0 -5.411652"
            ]
          },
          "metadata": {
            "tags": []
          },
          "execution_count": 48
        }
      ]
    },
    {
      "cell_type": "code",
      "metadata": {
        "id": "9sfbZpcwWllO",
        "colab_type": "code",
        "outputId": "93e67ecb-abe8-4507-ccd5-58bd8512e70a",
        "colab": {
          "base_uri": "https://localhost:8080/",
          "height": 394
        }
      },
      "source": [
        "new2 = new.melt(['index','Abrv_x','Year','Abrv_y','immigrants','State'], var_name='cols', value_name='vals')\n",
        "sns.set(rc={'figure.figsize':(18,6)})\n",
        "sns.lineplot(x = 'Year', y = 'vals', hue='cols', ci=None, data = new2);"
      ],
      "execution_count": 49,
      "outputs": [
        {
          "output_type": "display_data",
          "data": {
            "image/png": "[encoded data removed]",
            "text/plain": [
              "<Figure size 1296x432 with 1 Axes>"
            ]
          },
          "metadata": {
            "tags": []
          }
        }
      ]
    },
    {
      "cell_type": "code",
      "metadata": {
        "id": "egc49_b_X8jw",
        "colab_type": "code",
        "outputId": "e7373005-44c6-4867-8abd-4a8b216e07ef",
        "colab": {
          "base_uri": "https://localhost:8080/",
          "height": 394
        }
      },
      "source": [
        "sns.regplot(x = 'gdp', y = 'pct', data = new, );"
      ],
      "execution_count": 51,
      "outputs": [
        {
          "output_type": "display_data",
          "data": {
            "image/png": "[encoded data removed]",
            "text/plain": [
              "<Figure size 1296x432 with 1 Axes>"
            ]
          },
          "metadata": {
            "tags": []
          }
        }
      ]
    },
    {
      "cell_type": "code",
      "metadata": {
        "id": "PMeOAMmMYRdV",
        "colab_type": "code",
        "colab": {}
      },
      "source": [
        ""
      ],
      "execution_count": 0,
      "outputs": []
    }
  ]
}