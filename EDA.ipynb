{
 "cells": [
  {
   "cell_type": "code",
   "execution_count": 1,
   "metadata": {},
   "outputs": [],
   "source": [
    "import pandas as pd\n",
    "from pathlib import Path\n",
    "import os\n",
    "import numpy"
   ]
  },
  {
   "cell_type": "code",
   "execution_count": 34,
   "metadata": {},
   "outputs": [
    {
     "data": {
      "text/html": [
       "<div>\n",
       "<style scoped>\n",
       "    .dataframe tbody tr th:only-of-type {\n",
       "        vertical-align: middle;\n",
       "    }\n",
       "\n",
       "    .dataframe tbody tr th {\n",
       "        vertical-align: top;\n",
       "    }\n",
       "\n",
       "    .dataframe thead th {\n",
       "        text-align: right;\n",
       "    }\n",
       "</style>\n",
       "<table border=\"1\" class=\"dataframe\">\n",
       "  <thead>\n",
       "    <tr style=\"text-align: right;\">\n",
       "      <th></th>\n",
       "      <th>Port Name</th>\n",
       "      <th>State</th>\n",
       "      <th>Port Code</th>\n",
       "      <th>Border</th>\n",
       "      <th>Date</th>\n",
       "      <th>Measure</th>\n",
       "      <th>Value</th>\n",
       "      <th>Location</th>\n",
       "    </tr>\n",
       "  </thead>\n",
       "  <tbody>\n",
       "    <tr>\n",
       "      <th>37314</th>\n",
       "      <td>International Falls-Ranier</td>\n",
       "      <td>Minnesota</td>\n",
       "      <td>3604</td>\n",
       "      <td>US-Canada Border</td>\n",
       "      <td>11/1/2015 0:00</td>\n",
       "      <td>Pedestrians</td>\n",
       "      <td>710</td>\n",
       "      <td>POINT (-93.4 48.61)</td>\n",
       "    </tr>\n",
       "    <tr>\n",
       "      <th>203536</th>\n",
       "      <td>Hansboro</td>\n",
       "      <td>North Dakota</td>\n",
       "      <td>3415</td>\n",
       "      <td>US-Canada Border</td>\n",
       "      <td>6/1/2005 0:00</td>\n",
       "      <td>Rail Containers Full</td>\n",
       "      <td>0</td>\n",
       "      <td>POINT (-99.35 49)</td>\n",
       "    </tr>\n",
       "    <tr>\n",
       "      <th>326965</th>\n",
       "      <td>Laurier</td>\n",
       "      <td>Washington</td>\n",
       "      <td>3016</td>\n",
       "      <td>US-Canada Border</td>\n",
       "      <td>4/1/1997 0:00</td>\n",
       "      <td>Truck Containers Full</td>\n",
       "      <td>0</td>\n",
       "      <td>POINT (-118.22 49)</td>\n",
       "    </tr>\n",
       "  </tbody>\n",
       "</table>\n",
       "</div>"
      ],
      "text/plain": [
       "                         Port Name         State  Port Code            Border  \\\n",
       "37314   International Falls-Ranier     Minnesota       3604  US-Canada Border   \n",
       "203536                    Hansboro  North Dakota       3415  US-Canada Border   \n",
       "326965                     Laurier    Washington       3016  US-Canada Border   \n",
       "\n",
       "                  Date                Measure  Value             Location  \n",
       "37314   11/1/2015 0:00            Pedestrians    710  POINT (-93.4 48.61)  \n",
       "203536   6/1/2005 0:00   Rail Containers Full      0    POINT (-99.35 49)  \n",
       "326965   4/1/1997 0:00  Truck Containers Full      0   POINT (-118.22 49)  "
      ]
     },
     "execution_count": 34,
     "metadata": {},
     "output_type": "execute_result"
    }
   ],
   "source": [
    "# read in the data\n",
    "# path2data = Path.joinpath(Path.cwd().parent,'data','BorderCrossingEntryData.csv')\n",
    "dataPath = Path.joinpath(Path.cwd(),'BorderCrossingEntryData.csv')\n",
    "df = pd.read_csv(dataPath)\n",
    "df.sample(3)"
   ]
  },
  {
   "cell_type": "code",
   "execution_count": 35,
   "metadata": {},
   "outputs": [],
   "source": [
    "#df['Measure'].value_counts()"
   ]
  },
  {
   "cell_type": "code",
   "execution_count": 44,
   "metadata": {},
   "outputs": [],
   "source": [
    "# Only interested in Passenger / Pedestrian crossings\n",
    "people = df['Measure'].str.contains('Passengers|Pedestrians', case = False)"
   ]
  },
  {
   "cell_type": "code",
   "execution_count": 45,
   "metadata": {},
   "outputs": [
    {
     "name": "stdout",
     "output_type": "stream",
     "text": [
      "All measures: (115336, 8)\n",
      "Just people: (115336, 8)\n"
     ]
    }
   ],
   "source": [
    "# Check to see how much data frame shrinks after filtering down\n",
    "print(f'All measures: {df.shape}')\n",
    "#df = df[people] # This gave index error when re-running, changed to df.loc\n",
    "df = df.loc[people]\n",
    "print(f'Just people: {df.shape}')"
   ]
  },
  {
   "cell_type": "code",
   "execution_count": 46,
   "metadata": {},
   "outputs": [
    {
     "data": {
      "text/html": [
       "<div>\n",
       "<style scoped>\n",
       "    .dataframe tbody tr th:only-of-type {\n",
       "        vertical-align: middle;\n",
       "    }\n",
       "\n",
       "    .dataframe tbody tr th {\n",
       "        vertical-align: top;\n",
       "    }\n",
       "\n",
       "    .dataframe thead th {\n",
       "        text-align: right;\n",
       "    }\n",
       "</style>\n",
       "<table border=\"1\" class=\"dataframe\">\n",
       "  <thead>\n",
       "    <tr style=\"text-align: right;\">\n",
       "      <th></th>\n",
       "      <th>Port Name</th>\n",
       "      <th>State</th>\n",
       "      <th>Port Code</th>\n",
       "      <th>Border</th>\n",
       "      <th>Date</th>\n",
       "      <th>Measure</th>\n",
       "      <th>Value</th>\n",
       "      <th>Location</th>\n",
       "    </tr>\n",
       "  </thead>\n",
       "  <tbody>\n",
       "    <tr>\n",
       "      <th>39100</th>\n",
       "      <td>Buffalo-Niagara Falls</td>\n",
       "      <td>New York</td>\n",
       "      <td>901</td>\n",
       "      <td>US-Canada Border</td>\n",
       "      <td>10/1/2015 0:00</td>\n",
       "      <td>Train Passengers</td>\n",
       "      <td>1961</td>\n",
       "      <td>POINT (-78.91 42.91)</td>\n",
       "    </tr>\n",
       "    <tr>\n",
       "      <th>167382</th>\n",
       "      <td>Calexico East</td>\n",
       "      <td>California</td>\n",
       "      <td>2507</td>\n",
       "      <td>US-Mexico Border</td>\n",
       "      <td>9/1/2007 0:00</td>\n",
       "      <td>Pedestrians</td>\n",
       "      <td>468</td>\n",
       "      <td>POINT (-115.39 32.67)</td>\n",
       "    </tr>\n",
       "    <tr>\n",
       "      <th>314396</th>\n",
       "      <td>Sault Sainte Marie</td>\n",
       "      <td>Michigan</td>\n",
       "      <td>3803</td>\n",
       "      <td>US-Canada Border</td>\n",
       "      <td>3/1/1998 0:00</td>\n",
       "      <td>Train Passengers</td>\n",
       "      <td>102</td>\n",
       "      <td>POINT (-84.36000000000001 46.51)</td>\n",
       "    </tr>\n",
       "  </tbody>\n",
       "</table>\n",
       "</div>"
      ],
      "text/plain": [
       "                    Port Name       State  Port Code            Border  \\\n",
       "39100   Buffalo-Niagara Falls    New York        901  US-Canada Border   \n",
       "167382          Calexico East  California       2507  US-Mexico Border   \n",
       "314396     Sault Sainte Marie    Michigan       3803  US-Canada Border   \n",
       "\n",
       "                  Date           Measure  Value  \\\n",
       "39100   10/1/2015 0:00  Train Passengers   1961   \n",
       "167382   9/1/2007 0:00       Pedestrians    468   \n",
       "314396   3/1/1998 0:00  Train Passengers    102   \n",
       "\n",
       "                                Location  \n",
       "39100               POINT (-78.91 42.91)  \n",
       "167382             POINT (-115.39 32.67)  \n",
       "314396  POINT (-84.36000000000001 46.51)  "
      ]
     },
     "execution_count": 46,
     "metadata": {},
     "output_type": "execute_result"
    }
   ],
   "source": [
    "df.sample(3)"
   ]
  },
  {
   "cell_type": "code",
   "execution_count": 47,
   "metadata": {},
   "outputs": [],
   "source": [
    "# Drop unnecessary columns \n",
    "df.drop(['Port Code','Port Name'],axis=1,inplace=True)"
   ]
  },
  {
   "cell_type": "code",
   "execution_count": 48,
   "metadata": {},
   "outputs": [
    {
     "data": {
      "text/html": [
       "<div>\n",
       "<style scoped>\n",
       "    .dataframe tbody tr th:only-of-type {\n",
       "        vertical-align: middle;\n",
       "    }\n",
       "\n",
       "    .dataframe tbody tr th {\n",
       "        vertical-align: top;\n",
       "    }\n",
       "\n",
       "    .dataframe thead th {\n",
       "        text-align: right;\n",
       "    }\n",
       "</style>\n",
       "<table border=\"1\" class=\"dataframe\">\n",
       "  <thead>\n",
       "    <tr style=\"text-align: right;\">\n",
       "      <th></th>\n",
       "      <th>State</th>\n",
       "      <th>Border</th>\n",
       "      <th>Date</th>\n",
       "      <th>Measure</th>\n",
       "      <th>Value</th>\n",
       "      <th>Location</th>\n",
       "    </tr>\n",
       "  </thead>\n",
       "  <tbody>\n",
       "    <tr>\n",
       "      <th>115197</th>\n",
       "      <td>Maine</td>\n",
       "      <td>US-Canada Border</td>\n",
       "      <td>12/1/2010 0:00</td>\n",
       "      <td>Personal Vehicle Passengers</td>\n",
       "      <td>5042</td>\n",
       "      <td>POINT (-67.43 45.57)</td>\n",
       "    </tr>\n",
       "    <tr>\n",
       "      <th>279633</th>\n",
       "      <td>North Dakota</td>\n",
       "      <td>US-Canada Border</td>\n",
       "      <td>7/1/2000 0:00</td>\n",
       "      <td>Personal Vehicle Passengers</td>\n",
       "      <td>6880</td>\n",
       "      <td>POINT (-102.27 49)</td>\n",
       "    </tr>\n",
       "    <tr>\n",
       "      <th>218608</th>\n",
       "      <td>California</td>\n",
       "      <td>US-Mexico Border</td>\n",
       "      <td>7/1/2004 0:00</td>\n",
       "      <td>Personal Vehicle Passengers</td>\n",
       "      <td>122830</td>\n",
       "      <td>POINT (-114.73000000000002 32.72)</td>\n",
       "    </tr>\n",
       "  </tbody>\n",
       "</table>\n",
       "</div>"
      ],
      "text/plain": [
       "               State            Border            Date  \\\n",
       "115197         Maine  US-Canada Border  12/1/2010 0:00   \n",
       "279633  North Dakota  US-Canada Border   7/1/2000 0:00   \n",
       "218608    California  US-Mexico Border   7/1/2004 0:00   \n",
       "\n",
       "                            Measure   Value                           Location  \n",
       "115197  Personal Vehicle Passengers    5042               POINT (-67.43 45.57)  \n",
       "279633  Personal Vehicle Passengers    6880                 POINT (-102.27 49)  \n",
       "218608  Personal Vehicle Passengers  122830  POINT (-114.73000000000002 32.72)  "
      ]
     },
     "execution_count": 48,
     "metadata": {},
     "output_type": "execute_result"
    }
   ],
   "source": [
    "df.sample(3)"
   ]
  },
  {
   "cell_type": "code",
   "execution_count": null,
   "metadata": {},
   "outputs": [],
   "source": []
  }
 ],
 "metadata": {
  "kernelspec": {
   "display_name": "Python 3",
   "language": "python",
   "name": "python3"
  },
  "language_info": {
   "codemirror_mode": {
    "name": "ipython",
    "version": 3
   },
   "file_extension": ".py",
   "mimetype": "text/x-python",
   "name": "python",
   "nbconvert_exporter": "python",
   "pygments_lexer": "ipython3",
   "version": "3.6.5"
  }
 },
 "nbformat": 4,
 "nbformat_minor": 2
}
