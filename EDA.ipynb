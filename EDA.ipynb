{
  "nbformat": 4,
  "nbformat_minor": 0,
  "metadata": {
    "kernelspec": {
      "display_name": "Python 3",
      "language": "python",
      "name": "python3"
    },
    "language_info": {
      "codemirror_mode": {
        "name": "ipython",
        "version": 3
      },
      "file_extension": ".py",
      "mimetype": "text/x-python",
      "name": "python",
      "nbconvert_exporter": "python",
      "pygments_lexer": "ipython3",
      "version": "3.6.5"
    },
    "colab": {
      "name": "EDA.ipynb",
      "provenance": [],
      "include_colab_link": true
    }
  },
  "cells": [
    {
      "cell_type": "markdown",
      "metadata": {
        "id": "view-in-github",
        "colab_type": "text"
      },
      "source": [
        "<a href=\"https://colab.research.google.com/github/maxrgnt/pythdc2-project2/blob/master/EDA.ipynb\" target=\"_parent\"><img src=\"https://colab.research.google.com/assets/colab-badge.svg\" alt=\"Open In Colab\"/></a>"
      ]
    },
    {
      "cell_type": "code",
      "metadata": {
        "id": "Ze60cO11dlYz",
        "colab_type": "code",
        "colab": {}
      },
      "source": [
        "# Panel Data\n",
        "import pandas as pd\n",
        "# System folders\n",
        "import os\n",
        "from pathlib import Path\n",
        "# Visualization\n",
        "import plotly.graph_objs as go\n",
        "import seaborn as sns\n",
        "%matplotlib inline"
      ],
      "execution_count": 0,
      "outputs": []
    },
    {
      "cell_type": "code",
      "metadata": {
        "id": "tU15eJ6U7SAy",
        "colab_type": "code",
        "outputId": "17177fd1-2efe-4121-ac2f-6ef37b413b48",
        "colab": {
          "base_uri": "https://localhost:8080/",
          "height": 97
        }
      },
      "source": [
        "url = 'https://raw.githubusercontent.com/maxrgnt/pythdc2-project2/master/data/unemployment.csv'\n",
        "bls = pd.read_csv(url)\n",
        "print(bls.shape)\n",
        "bls.sample(1)"
      ],
      "execution_count": 2,
      "outputs": [
        {
          "output_type": "stream",
          "text": [
            "(322, 5)\n"
          ],
          "name": "stdout"
        },
        {
          "output_type": "execute_result",
          "data": {
            "text/html": [
              "<div>\n",
              "<style scoped>\n",
              "    .dataframe tbody tr th:only-of-type {\n",
              "        vertical-align: middle;\n",
              "    }\n",
              "\n",
              "    .dataframe tbody tr th {\n",
              "        vertical-align: top;\n",
              "    }\n",
              "\n",
              "    .dataframe thead th {\n",
              "        text-align: right;\n",
              "    }\n",
              "</style>\n",
              "<table border=\"1\" class=\"dataframe\">\n",
              "  <thead>\n",
              "    <tr style=\"text-align: right;\">\n",
              "      <th></th>\n",
              "      <th>State</th>\n",
              "      <th>Year</th>\n",
              "      <th>Abrv</th>\n",
              "      <th>UnemploymentRate</th>\n",
              "      <th>LaborRate</th>\n",
              "    </tr>\n",
              "  </thead>\n",
              "  <tbody>\n",
              "    <tr>\n",
              "      <th>163</th>\n",
              "      <td>New York</td>\n",
              "      <td>2007</td>\n",
              "      <td>NY</td>\n",
              "      <td>0.047738</td>\n",
              "      <td>0.626784</td>\n",
              "    </tr>\n",
              "  </tbody>\n",
              "</table>\n",
              "</div>"
            ],
            "text/plain": [
              "        State  Year Abrv  UnemploymentRate  LaborRate\n",
              "163  New York  2007   NY          0.047738   0.626784"
            ]
          },
          "metadata": {
            "tags": []
          },
          "execution_count": 2
        }
      ]
    },
    {
      "cell_type": "code",
      "metadata": {
        "id": "gog8zUZs7R1l",
        "colab_type": "code",
        "outputId": "0c543406-7141-4048-e085-199ed397275e",
        "colab": {
          "base_uri": "https://localhost:8080/",
          "height": 97
        }
      },
      "source": [
        "url = 'https://raw.githubusercontent.com/maxrgnt/pythdc2-project2/master/data/pctChangeGDP.csv'\n",
        "bea = pd.read_csv(url)\n",
        "print(bea.shape)\n",
        "bea.sample(1)"
      ],
      "execution_count": 3,
      "outputs": [
        {
          "output_type": "stream",
          "text": [
            "(308, 4)\n"
          ],
          "name": "stdout"
        },
        {
          "output_type": "execute_result",
          "data": {
            "text/html": [
              "<div>\n",
              "<style scoped>\n",
              "    .dataframe tbody tr th:only-of-type {\n",
              "        vertical-align: middle;\n",
              "    }\n",
              "\n",
              "    .dataframe tbody tr th {\n",
              "        vertical-align: top;\n",
              "    }\n",
              "\n",
              "    .dataframe thead th {\n",
              "        text-align: right;\n",
              "    }\n",
              "</style>\n",
              "<table border=\"1\" class=\"dataframe\">\n",
              "  <thead>\n",
              "    <tr style=\"text-align: right;\">\n",
              "      <th></th>\n",
              "      <th>State</th>\n",
              "      <th>Abrv</th>\n",
              "      <th>Year</th>\n",
              "      <th>Value</th>\n",
              "    </tr>\n",
              "  </thead>\n",
              "  <tbody>\n",
              "    <tr>\n",
              "      <th>264</th>\n",
              "      <td>Vermont</td>\n",
              "      <td>VT</td>\n",
              "      <td>2015</td>\n",
              "      <td>3.3</td>\n",
              "    </tr>\n",
              "  </tbody>\n",
              "</table>\n",
              "</div>"
            ],
            "text/plain": [
              "       State Abrv  Year  Value\n",
              "264  Vermont   VT  2015    3.3"
            ]
          },
          "metadata": {
            "tags": []
          },
          "execution_count": 3
        }
      ]
    },
    {
      "cell_type": "code",
      "metadata": {
        "id": "8zYAzV7ndlY4",
        "colab_type": "code",
        "outputId": "31e3aef8-98f3-46a1-8970-1c12abad0a7e",
        "colab": {
          "base_uri": "https://localhost:8080/",
          "height": 97
        }
      },
      "source": [
        "# read in the data\n",
        "url='https://raw.githubusercontent.com/maxrgnt/pythdc2-project2/master/data/borderCrossing.csv'\n",
        "bts = pd.read_csv(url)\n",
        "print(bts.shape)\n",
        "bts.sample(1)"
      ],
      "execution_count": 4,
      "outputs": [
        {
          "output_type": "stream",
          "text": [
            "(114588, 8)\n"
          ],
          "name": "stdout"
        },
        {
          "output_type": "execute_result",
          "data": {
            "text/html": [
              "<div>\n",
              "<style scoped>\n",
              "    .dataframe tbody tr th:only-of-type {\n",
              "        vertical-align: middle;\n",
              "    }\n",
              "\n",
              "    .dataframe tbody tr th {\n",
              "        vertical-align: top;\n",
              "    }\n",
              "\n",
              "    .dataframe thead th {\n",
              "        text-align: right;\n",
              "    }\n",
              "</style>\n",
              "<table border=\"1\" class=\"dataframe\">\n",
              "  <thead>\n",
              "    <tr style=\"text-align: right;\">\n",
              "      <th></th>\n",
              "      <th>Abrv</th>\n",
              "      <th>State</th>\n",
              "      <th>Longitude</th>\n",
              "      <th>Latitude</th>\n",
              "      <th>Border</th>\n",
              "      <th>Year</th>\n",
              "      <th>Measure</th>\n",
              "      <th>Value</th>\n",
              "    </tr>\n",
              "  </thead>\n",
              "  <tbody>\n",
              "    <tr>\n",
              "      <th>12914</th>\n",
              "      <td>WA</td>\n",
              "      <td>Washington</td>\n",
              "      <td>-117.83</td>\n",
              "      <td>49.0</td>\n",
              "      <td>US-Canada Border</td>\n",
              "      <td>2015</td>\n",
              "      <td>Train Passengers</td>\n",
              "      <td>0</td>\n",
              "    </tr>\n",
              "  </tbody>\n",
              "</table>\n",
              "</div>"
            ],
            "text/plain": [
              "      Abrv       State  Longitude  ...  Year           Measure  Value\n",
              "12914   WA  Washington    -117.83  ...  2015  Train Passengers      0\n",
              "\n",
              "[1 rows x 8 columns]"
            ]
          },
          "metadata": {
            "tags": []
          },
          "execution_count": 4
        }
      ]
    },
    {
      "cell_type": "code",
      "metadata": {
        "id": "fcO9e6BxLxMm",
        "colab_type": "code",
        "colab": {}
      },
      "source": [
        "def checkPctChange(df):\n",
        "  print(df[(df['Abrv']=='TX') & (df['Year']==2014)])\n",
        "  print(df[(df['Abrv']=='TX') & (df['Year']==2015)])\n",
        "  print(df[(df['Abrv']=='TX') & (df['Year']==2016)])"
      ],
      "execution_count": 0,
      "outputs": []
    },
    {
      "cell_type": "code",
      "metadata": {
        "id": "ApX3m9KXvo6e",
        "colab_type": "code",
        "colab": {}
      },
      "source": [
        "def calcPctChange(df, col, pctChange_id):\n",
        "  for y in list(df['Year'].unique()):\n",
        "    states = list(df['Abrv'].unique())\n",
        "    for s in states:\n",
        "      if y != df['Year'].min():\n",
        "        t0 = df.loc[(df['Year'] == y-1) & (df['Abrv'] == s), col].tolist()[0]\n",
        "        t1 = df.loc[(df['Year'] == y) & (df['Abrv'] == s), col].tolist()[0]\n",
        "        df.loc[(df['Year']==y) & (df['Abrv']==s), pctChange_id] = ((t1/t0)-1)*100\n",
        "      else:\n",
        "        df.loc[(df['Year']==y) & (df['Abrv']==s), pctChange_id] = 'N/A'\n",
        "  # set drop index for first year where pctChange not calculated\n",
        "  dropIndex = df.loc[df[pctChange_id]=='N/A'].index\n",
        "  df.drop(dropIndex, inplace=True)"
      ],
      "execution_count": 0,
      "outputs": []
    },
    {
      "cell_type": "code",
      "metadata": {
        "id": "7dxIpqNSbTv1",
        "colab_type": "code",
        "outputId": "05b5c2b8-573e-4372-b43c-848e1fc79f17",
        "colab": {
          "base_uri": "https://localhost:8080/",
          "height": 80
        }
      },
      "source": [
        "bts2 = bts.groupby(['Year','Abrv'])[['Value']].sum().reset_index()\n",
        "bts2.sample(1)"
      ],
      "execution_count": 7,
      "outputs": [
        {
          "output_type": "execute_result",
          "data": {
            "text/html": [
              "<div>\n",
              "<style scoped>\n",
              "    .dataframe tbody tr th:only-of-type {\n",
              "        vertical-align: middle;\n",
              "    }\n",
              "\n",
              "    .dataframe tbody tr th {\n",
              "        vertical-align: top;\n",
              "    }\n",
              "\n",
              "    .dataframe thead th {\n",
              "        text-align: right;\n",
              "    }\n",
              "</style>\n",
              "<table border=\"1\" class=\"dataframe\">\n",
              "  <thead>\n",
              "    <tr style=\"text-align: right;\">\n",
              "      <th></th>\n",
              "      <th>Year</th>\n",
              "      <th>Abrv</th>\n",
              "      <th>Value</th>\n",
              "    </tr>\n",
              "  </thead>\n",
              "  <tbody>\n",
              "    <tr>\n",
              "      <th>91</th>\n",
              "      <td>2002</td>\n",
              "      <td>MT</td>\n",
              "      <td>1344529</td>\n",
              "    </tr>\n",
              "  </tbody>\n",
              "</table>\n",
              "</div>"
            ],
            "text/plain": [
              "    Year Abrv    Value\n",
              "91  2002   MT  1344529"
            ]
          },
          "metadata": {
            "tags": []
          },
          "execution_count": 7
        }
      ]
    },
    {
      "cell_type": "code",
      "metadata": {
        "id": "tI2G2_jggg4Y",
        "colab_type": "code",
        "outputId": "ebd2c5b1-7005-4437-de03-c0440ce06d4c",
        "colab": {
          "base_uri": "https://localhost:8080/",
          "height": 119
        }
      },
      "source": [
        "calcPctChange(bts2, 'Value', 'border')\n",
        "checkPctChange(bts2)"
      ],
      "execution_count": 8,
      "outputs": [
        {
          "output_type": "stream",
          "text": [
            "     Year Abrv     Value   border\n",
            "263  2014   TX  80334766  4.71749\n",
            "     Year Abrv     Value   border\n",
            "277  2015   TX  82726100  2.97671\n",
            "     Year Abrv     Value   border\n",
            "291  2016   TX  85714503  3.61241\n"
          ],
          "name": "stdout"
        }
      ]
    },
    {
      "cell_type": "code",
      "metadata": {
        "id": "UJB7dustccBv",
        "colab_type": "code",
        "outputId": "ece74645-1ab5-4c28-c8b8-729b395aea56",
        "colab": {
          "base_uri": "https://localhost:8080/",
          "height": 119
        }
      },
      "source": [
        "bea.rename(columns={'Value':'gdp'},inplace = True)\n",
        "checkPctChange(bea)"
      ],
      "execution_count": 9,
      "outputs": [
        {
          "output_type": "stream",
          "text": [
            "     State Abrv  Year  gdp\n",
            "249  Texas   TX  2014  4.2\n",
            "     State Abrv  Year  gdp\n",
            "263  Texas   TX  2015  0.2\n",
            "     State Abrv  Year  gdp\n",
            "277  Texas   TX  2016 -0.2\n"
          ],
          "name": "stdout"
        }
      ]
    },
    {
      "cell_type": "code",
      "metadata": {
        "id": "29epFxOWeTjp",
        "colab_type": "code",
        "outputId": "7742db3d-8ef4-443a-b748-799e75b74711",
        "colab": {
          "base_uri": "https://localhost:8080/",
          "height": 119
        }
      },
      "source": [
        "calcPctChange(bls, 'UnemploymentRate', 'unemp')\n",
        "calcPctChange(bls, 'LaborRate', 'labor')\n",
        "checkPctChange(bls)"
      ],
      "execution_count": 11,
      "outputs": [
        {
          "output_type": "stream",
          "text": [
            "     State  Year Abrv  UnemploymentRate  LaborRate    unemp     labor\n",
            "263  Texas  2014   TX          0.053764    0.64867 -19.4988 -0.627148\n",
            "     State  Year Abrv  UnemploymentRate  LaborRate    unemp    labor\n",
            "277  Texas  2015   TX          0.046521   0.637932 -13.4719 -1.65538\n",
            "     State  Year Abrv  UnemploymentRate  LaborRate    unemp      labor\n",
            "291  Texas  2016   TX          0.048399   0.637718  4.03763 -0.0335446\n"
          ],
          "name": "stdout"
        }
      ]
    },
    {
      "cell_type": "code",
      "metadata": {
        "id": "gZLx6YPhmYhj",
        "colab_type": "code",
        "colab": {}
      },
      "source": [
        "df = bls[['Year','Abrv','unemp','labor']].merge(bea[['Year','Abrv','gdp']], how = 'left', left_on=['Year','Abrv'], right_on=['Year','Abrv'],sort=True)\n",
        "df = df.merge(bts2[['Year','Abrv','border']], how = 'left', left_on=['Year','Abrv'], right_on=['Year','Abrv'],sort=True)"
      ],
      "execution_count": 0,
      "outputs": []
    },
    {
      "cell_type": "code",
      "metadata": {
        "id": "A5p0LA52FUuX",
        "colab_type": "code",
        "colab": {}
      },
      "source": [
        "df['Year'] = df['Year'].astype(int)\n",
        "for col in ['border','gdp','unemp','labor']:\n",
        "  df[col] = df[col].astype(float)"
      ],
      "execution_count": 0,
      "outputs": []
    },
    {
      "cell_type": "code",
      "metadata": {
        "id": "RiETqPQ7Fepb",
        "colab_type": "code",
        "colab": {
          "base_uri": "https://localhost:8080/",
          "height": 204
        },
        "outputId": "47622670-2d98-4059-fc06-95d899b70b38"
      },
      "source": [
        "df_melt = df.melt(['Year','Abrv'], var_name='PctChange', value_name='Values')"
      ],
      "execution_count": 15,
      "outputs": [
        {
          "output_type": "execute_result",
          "data": {
            "text/html": [
              "<div>\n",
              "<style scoped>\n",
              "    .dataframe tbody tr th:only-of-type {\n",
              "        vertical-align: middle;\n",
              "    }\n",
              "\n",
              "    .dataframe tbody tr th {\n",
              "        vertical-align: top;\n",
              "    }\n",
              "\n",
              "    .dataframe thead th {\n",
              "        text-align: right;\n",
              "    }\n",
              "</style>\n",
              "<table border=\"1\" class=\"dataframe\">\n",
              "  <thead>\n",
              "    <tr style=\"text-align: right;\">\n",
              "      <th></th>\n",
              "      <th>Year</th>\n",
              "      <th>Abrv</th>\n",
              "      <th>PctChange</th>\n",
              "      <th>Values</th>\n",
              "    </tr>\n",
              "  </thead>\n",
              "  <tbody>\n",
              "    <tr>\n",
              "      <th>284</th>\n",
              "      <td>1999</td>\n",
              "      <td>ME</td>\n",
              "      <td>labor</td>\n",
              "      <td>1.468030</td>\n",
              "    </tr>\n",
              "    <tr>\n",
              "      <th>932</th>\n",
              "      <td>2005</td>\n",
              "      <td>ND</td>\n",
              "      <td>border</td>\n",
              "      <td>-0.091054</td>\n",
              "    </tr>\n",
              "    <tr>\n",
              "      <th>343</th>\n",
              "      <td>2003</td>\n",
              "      <td>MT</td>\n",
              "      <td>labor</td>\n",
              "      <td>-0.259685</td>\n",
              "    </tr>\n",
              "    <tr>\n",
              "      <th>912</th>\n",
              "      <td>2004</td>\n",
              "      <td>CA</td>\n",
              "      <td>border</td>\n",
              "      <td>-5.104863</td>\n",
              "    </tr>\n",
              "    <tr>\n",
              "      <th>881</th>\n",
              "      <td>2001</td>\n",
              "      <td>WA</td>\n",
              "      <td>border</td>\n",
              "      <td>-11.438147</td>\n",
              "    </tr>\n",
              "  </tbody>\n",
              "</table>\n",
              "</div>"
            ],
            "text/plain": [
              "     Year Abrv PctChange     Values\n",
              "284  1999   ME     labor   1.468030\n",
              "932  2005   ND    border  -0.091054\n",
              "343  2003   MT     labor  -0.259685\n",
              "912  2004   CA    border  -5.104863\n",
              "881  2001   WA    border -11.438147"
            ]
          },
          "metadata": {
            "tags": []
          },
          "execution_count": 15
        }
      ]
    },
    {
      "cell_type": "code",
      "metadata": {
        "id": "JrcDaSixFrcm",
        "colab_type": "code",
        "colab": {
          "base_uri": "https://localhost:8080/",
          "height": 419
        },
        "outputId": "0e70f9bc-d4de-4514-97d2-b8bc57643b5c"
      },
      "source": [
        "df_melt"
      ],
      "execution_count": 17,
      "outputs": [
        {
          "output_type": "execute_result",
          "data": {
            "text/html": [
              "<div>\n",
              "<style scoped>\n",
              "    .dataframe tbody tr th:only-of-type {\n",
              "        vertical-align: middle;\n",
              "    }\n",
              "\n",
              "    .dataframe tbody tr th {\n",
              "        vertical-align: top;\n",
              "    }\n",
              "\n",
              "    .dataframe thead th {\n",
              "        text-align: right;\n",
              "    }\n",
              "</style>\n",
              "<table border=\"1\" class=\"dataframe\">\n",
              "  <thead>\n",
              "    <tr style=\"text-align: right;\">\n",
              "      <th></th>\n",
              "      <th>Year</th>\n",
              "      <th>Abrv</th>\n",
              "      <th>PctChange</th>\n",
              "      <th>Values</th>\n",
              "    </tr>\n",
              "  </thead>\n",
              "  <tbody>\n",
              "    <tr>\n",
              "      <th>0</th>\n",
              "      <td>1999</td>\n",
              "      <td>AL</td>\n",
              "      <td>unemp</td>\n",
              "      <td>2.174852</td>\n",
              "    </tr>\n",
              "    <tr>\n",
              "      <th>1</th>\n",
              "      <td>1999</td>\n",
              "      <td>AZ</td>\n",
              "      <td>unemp</td>\n",
              "      <td>3.467337</td>\n",
              "    </tr>\n",
              "    <tr>\n",
              "      <th>2</th>\n",
              "      <td>1999</td>\n",
              "      <td>CA</td>\n",
              "      <td>unemp</td>\n",
              "      <td>-12.426311</td>\n",
              "    </tr>\n",
              "    <tr>\n",
              "      <th>3</th>\n",
              "      <td>1999</td>\n",
              "      <td>ID</td>\n",
              "      <td>unemp</td>\n",
              "      <td>-4.028477</td>\n",
              "    </tr>\n",
              "    <tr>\n",
              "      <th>4</th>\n",
              "      <td>1999</td>\n",
              "      <td>ME</td>\n",
              "      <td>unemp</td>\n",
              "      <td>-12.773011</td>\n",
              "    </tr>\n",
              "    <tr>\n",
              "      <th>...</th>\n",
              "      <td>...</td>\n",
              "      <td>...</td>\n",
              "      <td>...</td>\n",
              "      <td>...</td>\n",
              "    </tr>\n",
              "    <tr>\n",
              "      <th>1115</th>\n",
              "      <td>2018</td>\n",
              "      <td>NM</td>\n",
              "      <td>border</td>\n",
              "      <td>-5.596753</td>\n",
              "    </tr>\n",
              "    <tr>\n",
              "      <th>1116</th>\n",
              "      <td>2018</td>\n",
              "      <td>NY</td>\n",
              "      <td>border</td>\n",
              "      <td>1.546280</td>\n",
              "    </tr>\n",
              "    <tr>\n",
              "      <th>1117</th>\n",
              "      <td>2018</td>\n",
              "      <td>TX</td>\n",
              "      <td>border</td>\n",
              "      <td>2.561109</td>\n",
              "    </tr>\n",
              "    <tr>\n",
              "      <th>1118</th>\n",
              "      <td>2018</td>\n",
              "      <td>VT</td>\n",
              "      <td>border</td>\n",
              "      <td>1.658358</td>\n",
              "    </tr>\n",
              "    <tr>\n",
              "      <th>1119</th>\n",
              "      <td>2018</td>\n",
              "      <td>WA</td>\n",
              "      <td>border</td>\n",
              "      <td>7.124638</td>\n",
              "    </tr>\n",
              "  </tbody>\n",
              "</table>\n",
              "<p>1120 rows × 4 columns</p>\n",
              "</div>"
            ],
            "text/plain": [
              "      Year Abrv PctChange     Values\n",
              "0     1999   AL     unemp   2.174852\n",
              "1     1999   AZ     unemp   3.467337\n",
              "2     1999   CA     unemp -12.426311\n",
              "3     1999   ID     unemp  -4.028477\n",
              "4     1999   ME     unemp -12.773011\n",
              "...    ...  ...       ...        ...\n",
              "1115  2018   NM    border  -5.596753\n",
              "1116  2018   NY    border   1.546280\n",
              "1117  2018   TX    border   2.561109\n",
              "1118  2018   VT    border   1.658358\n",
              "1119  2018   WA    border   7.124638\n",
              "\n",
              "[1120 rows x 4 columns]"
            ]
          },
          "metadata": {
            "tags": []
          },
          "execution_count": 17
        }
      ]
    },
    {
      "cell_type": "code",
      "metadata": {
        "id": "XgzS07IogKRv",
        "colab_type": "code",
        "colab": {}
      },
      "source": [
        "# sns.set(rc={'figure.figsize':(18,6)})\n",
        "# sns.lineplot(x = 'Year', y = 'vals', hue = 'cols', ci=None, data = df_melt);\n",
        "# sns.pairplot(df, vars=['border_pctChange','gdp_pctChange','unemp_pctChange'], kind='reg');"
      ],
      "execution_count": 0,
      "outputs": []
    },
    {
      "cell_type": "code",
      "metadata": {
        "id": "kYeUQFLqmK0_",
        "colab_type": "code",
        "colab": {}
      },
      "source": [
        "# mapbox_access_token = open(\"assets/mytoken.mapbox_token\").read()\n",
        "\n",
        "# fig = go.Figure(go.Scattermapbox(\n",
        "#     lat=df['Latitude'],\n",
        "#     lon=df['Longitude'],\n",
        "#     mode='markers',\n",
        "#     marker=go.scattermapbox.Marker(\n",
        "#         size=20,\n",
        "#         colorscale='Purples',\n",
        "#         color=df['Value']\n",
        "#     ),\n",
        "#     text=df['Value']\n",
        "\n",
        "# ))\n",
        "# fig.update_layout(\n",
        "#     autosize=True,\n",
        "#     hovermode='closest',\n",
        "#     mapbox=go.layout.Mapbox(\n",
        "#         accesstoken=mapbox_access_token,\n",
        "#         bearing=0,\n",
        "#         center=go.layout.mapbox.Center(\n",
        "#             lat=39.8283,\n",
        "#             lon=-98.5795\n",
        "#         ),\n",
        "#         pitch=0,\n",
        "#         zoom=3\n",
        "#     ),\n",
        "# )\n",
        "# fig"
      ],
      "execution_count": 0,
      "outputs": []
    },
    {
      "cell_type": "code",
      "metadata": {
        "id": "bdXqxbEXmNLo",
        "colab_type": "code",
        "colab": {}
      },
      "source": [
        "# fig = go.Figure(data=go.Choropleth(\n",
        "#     locations=df2['StateAbrv'], # Spatial coordinates\n",
        "#     z = df2['Value'].astype(float), # Data to be color-coded\n",
        "#     locationmode = 'USA-states', # set of locations match entries in `locations`\n",
        "#     colorscale = 'Purples',\n",
        "#     colorbar_title = \"Pedestrians\",\n",
        "# ))\n",
        "\n",
        "# fig.update_layout(\n",
        "#     title_text = 'Migration',\n",
        "#     geo_scope='usa', # limite map scope to USA\n",
        "# )\n",
        "\n",
        "# fig.show()"
      ],
      "execution_count": 0,
      "outputs": []
    }
  ]
}