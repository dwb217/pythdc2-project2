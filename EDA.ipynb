{
 "cells": [
  {
   "cell_type": "markdown",
   "metadata": {
    "colab_type": "text",
    "id": "view-in-github"
   },
   "source": [
    "<a href=\"https://colab.research.google.com/github/maxrgnt/pythdc2-project2/blob/master/EDA.ipynb\" target=\"_parent\"><img src=\"https://colab.research.google.com/assets/colab-badge.svg\" alt=\"Open In Colab\"/></a>"
   ]
  },
  {
   "cell_type": "code",
   "execution_count": 1,
   "metadata": {
    "colab": {},
    "colab_type": "code",
    "id": "Ze60cO11dlYz"
   },
   "outputs": [],
   "source": [
    "# Panel Data\n",
    "import pandas as pd\n",
    "# System folders\n",
    "import os\n",
    "from pathlib import Path\n",
    "# Visualization\n",
    "import plotly.graph_objs as go\n",
    "import seaborn as sns\n",
    "%matplotlib inline"
   ]
  },
  {
   "cell_type": "code",
   "execution_count": 2,
   "metadata": {
    "colab": {
     "base_uri": "https://localhost:8080/",
     "height": 97
    },
    "colab_type": "code",
    "id": "tU15eJ6U7SAy",
    "outputId": "17177fd1-2efe-4121-ac2f-6ef37b413b48"
   },
   "outputs": [
    {
     "name": "stdout",
     "output_type": "stream",
     "text": [
      "(322, 5)\n"
     ]
    },
    {
     "data": {
      "text/html": [
       "<div>\n",
       "<style scoped>\n",
       "    .dataframe tbody tr th:only-of-type {\n",
       "        vertical-align: middle;\n",
       "    }\n",
       "\n",
       "    .dataframe tbody tr th {\n",
       "        vertical-align: top;\n",
       "    }\n",
       "\n",
       "    .dataframe thead th {\n",
       "        text-align: right;\n",
       "    }\n",
       "</style>\n",
       "<table border=\"1\" class=\"dataframe\">\n",
       "  <thead>\n",
       "    <tr style=\"text-align: right;\">\n",
       "      <th></th>\n",
       "      <th>State</th>\n",
       "      <th>Year</th>\n",
       "      <th>Abrv</th>\n",
       "      <th>UnemploymentRate</th>\n",
       "      <th>LaborRate</th>\n",
       "    </tr>\n",
       "  </thead>\n",
       "  <tbody>\n",
       "    <tr>\n",
       "      <th>176</th>\n",
       "      <td>New Mexico</td>\n",
       "      <td>2008</td>\n",
       "      <td>NM</td>\n",
       "      <td>0.046694</td>\n",
       "      <td>0.629993</td>\n",
       "    </tr>\n",
       "  </tbody>\n",
       "</table>\n",
       "</div>"
      ],
      "text/plain": [
       "          State  Year Abrv  UnemploymentRate  LaborRate\n",
       "176  New Mexico  2008   NM          0.046694   0.629993"
      ]
     },
     "execution_count": 2,
     "metadata": {},
     "output_type": "execute_result"
    }
   ],
   "source": [
    "url = 'https://raw.githubusercontent.com/maxrgnt/pythdc2-project2/master/data/unemployment.csv'\n",
    "bls = pd.read_csv(url)\n",
    "print(bls.shape)\n",
    "bls.sample(1)"
   ]
  },
  {
   "cell_type": "code",
   "execution_count": 3,
   "metadata": {
    "colab": {
     "base_uri": "https://localhost:8080/",
     "height": 97
    },
    "colab_type": "code",
    "id": "gog8zUZs7R1l",
    "outputId": "0c543406-7141-4048-e085-199ed397275e"
   },
   "outputs": [
    {
     "name": "stdout",
     "output_type": "stream",
     "text": [
      "(308, 4)\n"
     ]
    },
    {
     "data": {
      "text/html": [
       "<div>\n",
       "<style scoped>\n",
       "    .dataframe tbody tr th:only-of-type {\n",
       "        vertical-align: middle;\n",
       "    }\n",
       "\n",
       "    .dataframe tbody tr th {\n",
       "        vertical-align: top;\n",
       "    }\n",
       "\n",
       "    .dataframe thead th {\n",
       "        text-align: right;\n",
       "    }\n",
       "</style>\n",
       "<table border=\"1\" class=\"dataframe\">\n",
       "  <thead>\n",
       "    <tr style=\"text-align: right;\">\n",
       "      <th></th>\n",
       "      <th>State</th>\n",
       "      <th>Abrv</th>\n",
       "      <th>Year</th>\n",
       "      <th>Value</th>\n",
       "    </tr>\n",
       "  </thead>\n",
       "  <tbody>\n",
       "    <tr>\n",
       "      <th>140</th>\n",
       "      <td>Alaska</td>\n",
       "      <td>AL</td>\n",
       "      <td>2007</td>\n",
       "      <td>10.2</td>\n",
       "    </tr>\n",
       "  </tbody>\n",
       "</table>\n",
       "</div>"
      ],
      "text/plain": [
       "      State Abrv  Year  Value\n",
       "140  Alaska   AL  2007   10.2"
      ]
     },
     "execution_count": 3,
     "metadata": {},
     "output_type": "execute_result"
    }
   ],
   "source": [
    "url = 'https://raw.githubusercontent.com/maxrgnt/pythdc2-project2/master/data/pctChangeGDP.csv'\n",
    "bea = pd.read_csv(url)\n",
    "print(bea.shape)\n",
    "bea.sample(1)"
   ]
  },
  {
   "cell_type": "code",
   "execution_count": 4,
   "metadata": {
    "colab": {
     "base_uri": "https://localhost:8080/",
     "height": 97
    },
    "colab_type": "code",
    "id": "8zYAzV7ndlY4",
    "outputId": "31e3aef8-98f3-46a1-8970-1c12abad0a7e"
   },
   "outputs": [
    {
     "name": "stdout",
     "output_type": "stream",
     "text": [
      "(114588, 8)\n"
     ]
    },
    {
     "data": {
      "text/html": [
       "<div>\n",
       "<style scoped>\n",
       "    .dataframe tbody tr th:only-of-type {\n",
       "        vertical-align: middle;\n",
       "    }\n",
       "\n",
       "    .dataframe tbody tr th {\n",
       "        vertical-align: top;\n",
       "    }\n",
       "\n",
       "    .dataframe thead th {\n",
       "        text-align: right;\n",
       "    }\n",
       "</style>\n",
       "<table border=\"1\" class=\"dataframe\">\n",
       "  <thead>\n",
       "    <tr style=\"text-align: right;\">\n",
       "      <th></th>\n",
       "      <th>Abrv</th>\n",
       "      <th>State</th>\n",
       "      <th>Longitude</th>\n",
       "      <th>Latitude</th>\n",
       "      <th>Border</th>\n",
       "      <th>Year</th>\n",
       "      <th>Measure</th>\n",
       "      <th>Value</th>\n",
       "    </tr>\n",
       "  </thead>\n",
       "  <tbody>\n",
       "    <tr>\n",
       "      <th>59270</th>\n",
       "      <td>ME</td>\n",
       "      <td>Maine</td>\n",
       "      <td>-67.79</td>\n",
       "      <td>46.77</td>\n",
       "      <td>US-Canada Border</td>\n",
       "      <td>2006</td>\n",
       "      <td>Pedestrians</td>\n",
       "      <td>2</td>\n",
       "    </tr>\n",
       "  </tbody>\n",
       "</table>\n",
       "</div>"
      ],
      "text/plain": [
       "      Abrv  State  Longitude  Latitude            Border  Year      Measure  \\\n",
       "59270   ME  Maine     -67.79     46.77  US-Canada Border  2006  Pedestrians   \n",
       "\n",
       "       Value  \n",
       "59270      2  "
      ]
     },
     "execution_count": 4,
     "metadata": {},
     "output_type": "execute_result"
    }
   ],
   "source": [
    "# read in the data\n",
    "url='https://raw.githubusercontent.com/maxrgnt/pythdc2-project2/master/data/borderCrossing.csv'\n",
    "bts = pd.read_csv(url)\n",
    "print(bts.shape)\n",
    "bts.sample(1)"
   ]
  },
  {
   "cell_type": "code",
   "execution_count": 5,
   "metadata": {
    "colab": {},
    "colab_type": "code",
    "id": "fcO9e6BxLxMm"
   },
   "outputs": [],
   "source": [
    "def checkPctChange(df):\n",
    "  print(df[(df['Abrv']=='TX') & (df['Year']==2014)])\n",
    "  print(df[(df['Abrv']=='TX') & (df['Year']==2015)])\n",
    "  print(df[(df['Abrv']=='TX') & (df['Year']==2016)])"
   ]
  },
  {
   "cell_type": "code",
   "execution_count": 6,
   "metadata": {
    "colab": {},
    "colab_type": "code",
    "id": "ApX3m9KXvo6e"
   },
   "outputs": [],
   "source": [
    "def calcPctChange(df, col, pctChange_id):\n",
    "  for y in list(df['Year'].unique()):\n",
    "    states = list(df['Abrv'].unique())\n",
    "    for s in states:\n",
    "      if y != df['Year'].min():\n",
    "        t0 = df.loc[(df['Year'] == y-1) & (df['Abrv'] == s), col].tolist()[0]\n",
    "        t1 = df.loc[(df['Year'] == y) & (df['Abrv'] == s), col].tolist()[0]\n",
    "        df.loc[(df['Year']==y) & (df['Abrv']==s), pctChange_id] = ((t1/t0)-1)*100\n",
    "      else:\n",
    "        df.loc[(df['Year']==y) & (df['Abrv']==s), pctChange_id] = 'N/A'\n",
    "  # set drop index for first year where pctChange not calculated\n",
    "  dropIndex = df.loc[df[pctChange_id]=='N/A'].index\n",
    "  df.drop(dropIndex, inplace=True)"
   ]
  },
  {
   "cell_type": "code",
   "execution_count": 7,
   "metadata": {
    "colab": {
     "base_uri": "https://localhost:8080/",
     "height": 80
    },
    "colab_type": "code",
    "id": "7dxIpqNSbTv1",
    "outputId": "05b5c2b8-573e-4372-b43c-848e1fc79f17"
   },
   "outputs": [
    {
     "data": {
      "text/html": [
       "<div>\n",
       "<style scoped>\n",
       "    .dataframe tbody tr th:only-of-type {\n",
       "        vertical-align: middle;\n",
       "    }\n",
       "\n",
       "    .dataframe tbody tr th {\n",
       "        vertical-align: top;\n",
       "    }\n",
       "\n",
       "    .dataframe thead th {\n",
       "        text-align: right;\n",
       "    }\n",
       "</style>\n",
       "<table border=\"1\" class=\"dataframe\">\n",
       "  <thead>\n",
       "    <tr style=\"text-align: right;\">\n",
       "      <th></th>\n",
       "      <th>Year</th>\n",
       "      <th>Abrv</th>\n",
       "      <th>Value</th>\n",
       "    </tr>\n",
       "  </thead>\n",
       "  <tbody>\n",
       "    <tr>\n",
       "      <th>135</th>\n",
       "      <td>2005</td>\n",
       "      <td>NM</td>\n",
       "      <td>2135676</td>\n",
       "    </tr>\n",
       "  </tbody>\n",
       "</table>\n",
       "</div>"
      ],
      "text/plain": [
       "     Year Abrv    Value\n",
       "135  2005   NM  2135676"
      ]
     },
     "execution_count": 7,
     "metadata": {},
     "output_type": "execute_result"
    }
   ],
   "source": [
    "bts2 = bts.groupby(['Year','Abrv'])[['Value']].sum().reset_index()\n",
    "bts2.sample(1)"
   ]
  },
  {
   "cell_type": "code",
   "execution_count": 8,
   "metadata": {
    "colab": {
     "base_uri": "https://localhost:8080/",
     "height": 119
    },
    "colab_type": "code",
    "id": "tI2G2_jggg4Y",
    "outputId": "ebd2c5b1-7005-4437-de03-c0440ce06d4c"
   },
   "outputs": [
    {
     "name": "stdout",
     "output_type": "stream",
     "text": [
      "     Year Abrv     Value   border\n",
      "263  2014   TX  80334766  4.71749\n",
      "     Year Abrv     Value   border\n",
      "277  2015   TX  82726100  2.97671\n",
      "     Year Abrv     Value   border\n",
      "291  2016   TX  85714503  3.61241\n"
     ]
    }
   ],
   "source": [
    "calcPctChange(bts2, 'Value', 'border')\n",
    "checkPctChange(bts2)"
   ]
  },
  {
   "cell_type": "code",
   "execution_count": 9,
   "metadata": {
    "colab": {
     "base_uri": "https://localhost:8080/",
     "height": 119
    },
    "colab_type": "code",
    "id": "UJB7dustccBv",
    "outputId": "ece74645-1ab5-4c28-c8b8-729b395aea56"
   },
   "outputs": [
    {
     "name": "stdout",
     "output_type": "stream",
     "text": [
      "     State Abrv  Year  gdp\n",
      "249  Texas   TX  2014  4.2\n",
      "     State Abrv  Year  gdp\n",
      "263  Texas   TX  2015  0.2\n",
      "     State Abrv  Year  gdp\n",
      "277  Texas   TX  2016 -0.2\n"
     ]
    }
   ],
   "source": [
    "bea.rename(columns={'Value':'gdp'},inplace = True)\n",
    "checkPctChange(bea)"
   ]
  },
  {
   "cell_type": "code",
   "execution_count": 10,
   "metadata": {
    "colab": {
     "base_uri": "https://localhost:8080/",
     "height": 119
    },
    "colab_type": "code",
    "id": "29epFxOWeTjp",
    "outputId": "7742db3d-8ef4-443a-b748-799e75b74711"
   },
   "outputs": [
    {
     "name": "stdout",
     "output_type": "stream",
     "text": [
      "     State  Year Abrv  UnemploymentRate  LaborRate    unemp     labor\n",
      "263  Texas  2014   TX          0.053764    0.64867 -19.4988 -0.627148\n",
      "     State  Year Abrv  UnemploymentRate  LaborRate    unemp    labor\n",
      "277  Texas  2015   TX          0.046521   0.637932 -13.4719 -1.65538\n",
      "     State  Year Abrv  UnemploymentRate  LaborRate    unemp      labor\n",
      "291  Texas  2016   TX          0.048399   0.637718  4.03763 -0.0335446\n"
     ]
    }
   ],
   "source": [
    "calcPctChange(bls, 'UnemploymentRate', 'unemp')\n",
    "calcPctChange(bls, 'LaborRate', 'labor')\n",
    "checkPctChange(bls)"
   ]
  },
  {
   "cell_type": "code",
   "execution_count": 11,
   "metadata": {
    "colab": {},
    "colab_type": "code",
    "id": "gZLx6YPhmYhj"
   },
   "outputs": [],
   "source": [
    "df = bls[['Year','Abrv','unemp','labor']].merge(bea[['Year','Abrv','gdp']], how = 'left', left_on=['Year','Abrv'], right_on=['Year','Abrv'],sort=True)\n",
    "df = df.merge(bts2[['Year','Abrv','border']], how = 'left', left_on=['Year','Abrv'], right_on=['Year','Abrv'],sort=True)"
   ]
  },
  {
   "cell_type": "code",
   "execution_count": 12,
   "metadata": {
    "colab": {},
    "colab_type": "code",
    "id": "A5p0LA52FUuX"
   },
   "outputs": [],
   "source": [
    "df['Year'] = df['Year'].astype(int)\n",
    "for col in ['border','gdp','unemp','labor']:\n",
    "  df[col] = df[col].astype(float)"
   ]
  },
  {
   "cell_type": "code",
   "execution_count": 13,
   "metadata": {
    "colab": {
     "base_uri": "https://localhost:8080/",
     "height": 204
    },
    "colab_type": "code",
    "id": "RiETqPQ7Fepb",
    "outputId": "47622670-2d98-4059-fc06-95d899b70b38"
   },
   "outputs": [],
   "source": [
    "df_melt = df.melt(['Year','Abrv'], var_name='PctChange', value_name='Values')"
   ]
  },
  {
   "cell_type": "code",
   "execution_count": 15,
   "metadata": {
    "colab": {
     "base_uri": "https://localhost:8080/",
     "height": 419
    },
    "colab_type": "code",
    "id": "JrcDaSixFrcm",
    "outputId": "0e70f9bc-d4de-4514-97d2-b8bc57643b5c"
   },
   "outputs": [
    {
     "data": {
      "text/html": [
       "<div>\n",
       "<style scoped>\n",
       "    .dataframe tbody tr th:only-of-type {\n",
       "        vertical-align: middle;\n",
       "    }\n",
       "\n",
       "    .dataframe tbody tr th {\n",
       "        vertical-align: top;\n",
       "    }\n",
       "\n",
       "    .dataframe thead th {\n",
       "        text-align: right;\n",
       "    }\n",
       "</style>\n",
       "<table border=\"1\" class=\"dataframe\">\n",
       "  <thead>\n",
       "    <tr style=\"text-align: right;\">\n",
       "      <th></th>\n",
       "      <th>Year</th>\n",
       "      <th>Abrv</th>\n",
       "      <th>PctChange</th>\n",
       "      <th>Values</th>\n",
       "    </tr>\n",
       "  </thead>\n",
       "  <tbody>\n",
       "    <tr>\n",
       "      <th>404</th>\n",
       "      <td>2005</td>\n",
       "      <td>VT</td>\n",
       "      <td>labor</td>\n",
       "      <td>0.140933</td>\n",
       "    </tr>\n",
       "    <tr>\n",
       "      <th>502</th>\n",
       "      <td>2012</td>\n",
       "      <td>VT</td>\n",
       "      <td>labor</td>\n",
       "      <td>-1.122415</td>\n",
       "    </tr>\n",
       "    <tr>\n",
       "      <th>760</th>\n",
       "      <td>2010</td>\n",
       "      <td>ME</td>\n",
       "      <td>gdp</td>\n",
       "      <td>2.300000</td>\n",
       "    </tr>\n",
       "    <tr>\n",
       "      <th>594</th>\n",
       "      <td>1998</td>\n",
       "      <td>MN</td>\n",
       "      <td>gdp</td>\n",
       "      <td>6.700000</td>\n",
       "    </tr>\n",
       "    <tr>\n",
       "      <th>745</th>\n",
       "      <td>2009</td>\n",
       "      <td>ID</td>\n",
       "      <td>gdp</td>\n",
       "      <td>-3.200000</td>\n",
       "    </tr>\n",
       "    <tr>\n",
       "      <th>1012</th>\n",
       "      <td>2007</td>\n",
       "      <td>ME</td>\n",
       "      <td>border</td>\n",
       "      <td>-24.574350</td>\n",
       "    </tr>\n",
       "    <tr>\n",
       "      <th>1053</th>\n",
       "      <td>2010</td>\n",
       "      <td>ID</td>\n",
       "      <td>border</td>\n",
       "      <td>17.061306</td>\n",
       "    </tr>\n",
       "    <tr>\n",
       "      <th>962</th>\n",
       "      <td>2003</td>\n",
       "      <td>NY</td>\n",
       "      <td>border</td>\n",
       "      <td>-17.304224</td>\n",
       "    </tr>\n",
       "    <tr>\n",
       "      <th>871</th>\n",
       "      <td>2018</td>\n",
       "      <td>ID</td>\n",
       "      <td>gdp</td>\n",
       "      <td>6.300000</td>\n",
       "    </tr>\n",
       "    <tr>\n",
       "      <th>872</th>\n",
       "      <td>2018</td>\n",
       "      <td>ME</td>\n",
       "      <td>gdp</td>\n",
       "      <td>4.300000</td>\n",
       "    </tr>\n",
       "  </tbody>\n",
       "</table>\n",
       "</div>"
      ],
      "text/plain": [
       "      Year Abrv PctChange     Values\n",
       "404   2005   VT     labor   0.140933\n",
       "502   2012   VT     labor  -1.122415\n",
       "760   2010   ME       gdp   2.300000\n",
       "594   1998   MN       gdp   6.700000\n",
       "745   2009   ID       gdp  -3.200000\n",
       "1012  2007   ME    border -24.574350\n",
       "1053  2010   ID    border  17.061306\n",
       "962   2003   NY    border -17.304224\n",
       "871   2018   ID       gdp   6.300000\n",
       "872   2018   ME       gdp   4.300000"
      ]
     },
     "execution_count": 15,
     "metadata": {},
     "output_type": "execute_result"
    }
   ],
   "source": [
    "df_melt.sample(10)"
   ]
  },
  {
   "cell_type": "code",
   "execution_count": 16,
   "metadata": {},
   "outputs": [],
   "source": [
    "# save new data structure\n",
    "df.to_csv(Path.joinpath(Path.cwd(),'data','master.csv'), index = False)"
   ]
  },
  {
   "cell_type": "code",
   "execution_count": 0,
   "metadata": {
    "colab": {},
    "colab_type": "code",
    "id": "XgzS07IogKRv"
   },
   "outputs": [],
   "source": [
    "# sns.set(rc={'figure.figsize':(18,6)})\n",
    "# sns.lineplot(x = 'Year', y = 'vals', hue = 'cols', ci=None, data = df_melt);\n",
    "# sns.pairplot(df, vars=['border_pctChange','gdp_pctChange','unemp_pctChange'], kind='reg');"
   ]
  },
  {
   "cell_type": "code",
   "execution_count": 0,
   "metadata": {
    "colab": {},
    "colab_type": "code",
    "id": "kYeUQFLqmK0_"
   },
   "outputs": [],
   "source": [
    "# mapbox_access_token = open(\"assets/mytoken.mapbox_token\").read()\n",
    "\n",
    "# fig = go.Figure(go.Scattermapbox(\n",
    "#     lat=df['Latitude'],\n",
    "#     lon=df['Longitude'],\n",
    "#     mode='markers',\n",
    "#     marker=go.scattermapbox.Marker(\n",
    "#         size=20,\n",
    "#         colorscale='Purples',\n",
    "#         color=df['Value']\n",
    "#     ),\n",
    "#     text=df['Value']\n",
    "\n",
    "# ))\n",
    "# fig.update_layout(\n",
    "#     autosize=True,\n",
    "#     hovermode='closest',\n",
    "#     mapbox=go.layout.Mapbox(\n",
    "#         accesstoken=mapbox_access_token,\n",
    "#         bearing=0,\n",
    "#         center=go.layout.mapbox.Center(\n",
    "#             lat=39.8283,\n",
    "#             lon=-98.5795\n",
    "#         ),\n",
    "#         pitch=0,\n",
    "#         zoom=3\n",
    "#     ),\n",
    "# )\n",
    "# fig"
   ]
  },
  {
   "cell_type": "code",
   "execution_count": 0,
   "metadata": {
    "colab": {},
    "colab_type": "code",
    "id": "bdXqxbEXmNLo"
   },
   "outputs": [],
   "source": [
    "# fig = go.Figure(data=go.Choropleth(\n",
    "#     locations=df2['StateAbrv'], # Spatial coordinates\n",
    "#     z = df2['Value'].astype(float), # Data to be color-coded\n",
    "#     locationmode = 'USA-states', # set of locations match entries in `locations`\n",
    "#     colorscale = 'Purples',\n",
    "#     colorbar_title = \"Pedestrians\",\n",
    "# ))\n",
    "\n",
    "# fig.update_layout(\n",
    "#     title_text = 'Migration',\n",
    "#     geo_scope='usa', # limite map scope to USA\n",
    "# )\n",
    "\n",
    "# fig.show()"
   ]
  }
 ],
 "metadata": {
  "colab": {
   "include_colab_link": true,
   "name": "EDA.ipynb",
   "provenance": []
  },
  "kernelspec": {
   "display_name": "Python 3",
   "language": "python",
   "name": "python3"
  },
  "language_info": {
   "codemirror_mode": {
    "name": "ipython",
    "version": 3
   },
   "file_extension": ".py",
   "mimetype": "text/x-python",
   "name": "python",
   "nbconvert_exporter": "python",
   "pygments_lexer": "ipython3",
   "version": "3.6.5"
  }
 },
 "nbformat": 4,
 "nbformat_minor": 1
}
