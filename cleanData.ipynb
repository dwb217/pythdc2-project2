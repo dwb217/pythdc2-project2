{
 "cells": [
  {
   "cell_type": "markdown",
   "metadata": {
    "colab_type": "text",
    "id": "view-in-github"
   },
   "source": [
    "<a href=\"https://colab.research.google.com/github/maxrgnt/pythdc2-project2/blob/master/Clean2.ipynb\" target=\"_parent\"><img src=\"https://colab.research.google.com/assets/colab-badge.svg\" alt=\"Open In Colab\"/></a>"
   ]
  },
  {
   "cell_type": "code",
   "execution_count": 2,
   "metadata": {
    "colab": {},
    "colab_type": "code",
    "id": "OPerGvRxkaFE"
   },
   "outputs": [],
   "source": [
    "# Panel Data\n",
    "import pandas as pd\n",
    "# System folders\n",
    "import os\n",
    "from pathlib import Path"
   ]
  },
  {
   "cell_type": "code",
   "execution_count": 1,
   "metadata": {
    "colab": {},
    "colab_type": "code",
    "id": "g7yxFYyLkkUJ"
   },
   "outputs": [],
   "source": [
    "def abbreviate(stateName):\n",
    "    abrvDict = {'Alaska':'AL',\n",
    "                'Arizona':'AZ',\n",
    "                'California':'CA',\n",
    "                'Idaho':'ID',\n",
    "                'Maine':'ME',\n",
    "                'Michigan':'MI',\n",
    "                'Minnesota':'MN',\n",
    "                'Montana':'MT',\n",
    "                'New Mexico':'NM',\n",
    "                'New York':'NY',\n",
    "                'North Dakota':'ND',\n",
    "                'Texas':'TX',\n",
    "                'Vermont':'VT',\n",
    "                'Washington':'WA'}\n",
    "    abrv = ''\n",
    "    if stateName in abrvDict:\n",
    "        abrv = abrvDict[stateName]\n",
    "    return abrv\n",
    "\n",
    "def safeDrop(df, cols):\n",
    "    print(df.shape)\n",
    "    for col in df.columns:\n",
    "        if col in cols:\n",
    "            print(f'removing: {col}')\n",
    "            df.drop([col], axis=1, inplace=True)\n",
    "    print(df.shape)\n",
    "    return df"
   ]
  },
  {
   "cell_type": "markdown",
   "metadata": {
    "colab_type": "text",
    "id": "KIpkC_p9k7_u"
   },
   "source": [
    "## Border Data"
   ]
  },
  {
   "cell_type": "code",
   "execution_count": 37,
   "metadata": {
    "colab": {},
    "colab_type": "code",
    "id": "gRrFbRyzk3iP"
   },
   "outputs": [
    {
     "data": {
      "text/html": [
       "<div>\n",
       "<style scoped>\n",
       "    .dataframe tbody tr th:only-of-type {\n",
       "        vertical-align: middle;\n",
       "    }\n",
       "\n",
       "    .dataframe tbody tr th {\n",
       "        vertical-align: top;\n",
       "    }\n",
       "\n",
       "    .dataframe thead th {\n",
       "        text-align: right;\n",
       "    }\n",
       "</style>\n",
       "<table border=\"1\" class=\"dataframe\">\n",
       "  <thead>\n",
       "    <tr style=\"text-align: right;\">\n",
       "      <th></th>\n",
       "      <th>Abrv</th>\n",
       "      <th>State</th>\n",
       "      <th>Longitude</th>\n",
       "      <th>Latitude</th>\n",
       "      <th>Border</th>\n",
       "      <th>Year</th>\n",
       "      <th>Measure</th>\n",
       "      <th>Value</th>\n",
       "    </tr>\n",
       "  </thead>\n",
       "  <tbody>\n",
       "    <tr>\n",
       "      <th>7829</th>\n",
       "      <td>MT</td>\n",
       "      <td>Montana</td>\n",
       "      <td>-111.96</td>\n",
       "      <td>49.00</td>\n",
       "      <td>US-Canada Border</td>\n",
       "      <td>2016</td>\n",
       "      <td>Pedestrians</td>\n",
       "      <td>184</td>\n",
       "    </tr>\n",
       "    <tr>\n",
       "      <th>25587</th>\n",
       "      <td>ND</td>\n",
       "      <td>North Dakota</td>\n",
       "      <td>-101.30</td>\n",
       "      <td>49.00</td>\n",
       "      <td>US-Canada Border</td>\n",
       "      <td>2013</td>\n",
       "      <td>Personal Vehicle Passengers</td>\n",
       "      <td>2097</td>\n",
       "    </tr>\n",
       "    <tr>\n",
       "      <th>110514</th>\n",
       "      <td>TX</td>\n",
       "      <td>Texas</td>\n",
       "      <td>-100.51</td>\n",
       "      <td>28.71</td>\n",
       "      <td>US-Mexico Border</td>\n",
       "      <td>1996</td>\n",
       "      <td>Train Passengers</td>\n",
       "      <td>420</td>\n",
       "    </tr>\n",
       "  </tbody>\n",
       "</table>\n",
       "</div>"
      ],
      "text/plain": [
       "       Abrv         State  Longitude  Latitude            Border  Year  \\\n",
       "7829     MT       Montana    -111.96     49.00  US-Canada Border  2016   \n",
       "25587    ND  North Dakota    -101.30     49.00  US-Canada Border  2013   \n",
       "110514   TX         Texas    -100.51     28.71  US-Mexico Border  1996   \n",
       "\n",
       "                            Measure  Value  \n",
       "7829                    Pedestrians    184  \n",
       "25587   Personal Vehicle Passengers   2097  \n",
       "110514             Train Passengers    420  "
      ]
     },
     "execution_count": 37,
     "metadata": {},
     "output_type": "execute_result"
    }
   ],
   "source": [
    "dataPath = Path.joinpath(Path.cwd(),'data','borderCrossing.csv')\n",
    "df = pd.read_csv(dataPath)\n",
    "df.sample(3)"
   ]
  },
  {
   "cell_type": "code",
   "execution_count": 38,
   "metadata": {
    "colab": {},
    "colab_type": "code",
    "id": "CLu7zPIklSAa"
   },
   "outputs": [
    {
     "data": {
      "text/plain": [
       "Personal Vehicle Passengers    30196\n",
       "Bus Passengers                 28820\n",
       "Pedestrians                    28697\n",
       "Train Passengers               27623\n",
       "Name: Measure, dtype: int64"
      ]
     },
     "execution_count": 38,
     "metadata": {},
     "output_type": "execute_result"
    }
   ],
   "source": [
    "df['Measure'].value_counts()"
   ]
  },
  {
   "cell_type": "code",
   "execution_count": 39,
   "metadata": {
    "colab": {},
    "colab_type": "code",
    "id": "-hhAnZkOlXSV"
   },
   "outputs": [],
   "source": [
    "# Only interested in Passenger / Pedestrian crossings\n",
    "people = df['Measure'].str.contains('Passengers|Pedestrians', case = False)"
   ]
  },
  {
   "cell_type": "code",
   "execution_count": 40,
   "metadata": {
    "colab": {},
    "colab_type": "code",
    "id": "dUc_9a7Flcyp"
   },
   "outputs": [
    {
     "name": "stdout",
     "output_type": "stream",
     "text": [
      "All measures: (115336, 8)\n",
      "Just people: (115336, 8)\n"
     ]
    }
   ],
   "source": [
    "# Check to see how much data frame shrinks after filtering down\n",
    "print(f'All measures: {df.shape}')\n",
    "#df = df[people] # This gave index error when re-running, changed to df.loc\n",
    "df = df.loc[people]\n",
    "print(f'Just people: {df.shape}')"
   ]
  },
  {
   "cell_type": "code",
   "execution_count": 41,
   "metadata": {
    "colab": {},
    "colab_type": "code",
    "id": "nK9sYDtPlnni"
   },
   "outputs": [],
   "source": [
    "# Break out Location into latitude and longitude,\n",
    "                # substring from 'POINT( ' to ')' and split on ' ' grabbing first then second element set as float,\n",
    "if 'Location' in df.columns:\n",
    "    df['Latitude'] = df['Location'].str[len('POINT ('):-1].str.split(' ').str[1].astype(float)\n",
    "    df['Longitude'] = df['Location'].str[len('POINT ('):-1].str.split(' ').str[0].astype(float)"
   ]
  },
  {
   "cell_type": "code",
   "execution_count": 42,
   "metadata": {},
   "outputs": [
    {
     "name": "stdout",
     "output_type": "stream",
     "text": [
      "(115336, 8)\n",
      "(114588, 8)\n"
     ]
    }
   ],
   "source": [
    "# drop unneeded rows\n",
    "# index of all rows where df['Year'] < 1996\n",
    "print(df.shape)\n",
    "dropIndex = df.loc[df['Year']>2018].index\n",
    "df.drop(dropIndex, inplace=True)\n",
    "print(df.shape)"
   ]
  },
  {
   "cell_type": "code",
   "execution_count": 43,
   "metadata": {
    "colab": {},
    "colab_type": "code",
    "id": "SgEJBkz5lvU8",
    "scrolled": true
   },
   "outputs": [
    {
     "name": "stdout",
     "output_type": "stream",
     "text": [
      "(114588, 8)\n",
      "(114588, 8)\n"
     ]
    }
   ],
   "source": [
    "# Drop unnecessary columns\n",
    "df = safeDrop(df, ['Port Code','Port Name','Location','Unnamed: 0','index'])"
   ]
  },
  {
   "cell_type": "code",
   "execution_count": 44,
   "metadata": {
    "colab": {},
    "colab_type": "code",
    "id": "twbTAdZGl0GQ"
   },
   "outputs": [],
   "source": [
    "# Get state abrv\n",
    "df['Abrv'] = df['State'].apply(abbreviate)"
   ]
  },
  {
   "cell_type": "code",
   "execution_count": 47,
   "metadata": {},
   "outputs": [],
   "source": [
    "# Handle the Date column\n",
    "if 'Date' in df.columns:\n",
    "    df['newDate'] = pd.to_datetime(df['Date'])\n",
    "    df['Year'] = df['newDate'].dt.year.astype(int)"
   ]
  },
  {
   "cell_type": "code",
   "execution_count": 48,
   "metadata": {
    "colab": {},
    "colab_type": "code",
    "id": "rQIpVX1Vl48M"
   },
   "outputs": [],
   "source": [
    "# reorganize columns\n",
    "df = df[['Abrv','State','Longitude','Latitude','Border','Year','Measure','Value']]"
   ]
  },
  {
   "cell_type": "code",
   "execution_count": 49,
   "metadata": {
    "colab": {},
    "colab_type": "code",
    "id": "zgcNVoy9mDEQ",
    "scrolled": true
   },
   "outputs": [
    {
     "data": {
      "text/html": [
       "<div>\n",
       "<style scoped>\n",
       "    .dataframe tbody tr th:only-of-type {\n",
       "        vertical-align: middle;\n",
       "    }\n",
       "\n",
       "    .dataframe tbody tr th {\n",
       "        vertical-align: top;\n",
       "    }\n",
       "\n",
       "    .dataframe thead th {\n",
       "        text-align: right;\n",
       "    }\n",
       "</style>\n",
       "<table border=\"1\" class=\"dataframe\">\n",
       "  <thead>\n",
       "    <tr style=\"text-align: right;\">\n",
       "      <th></th>\n",
       "      <th>Abrv</th>\n",
       "      <th>State</th>\n",
       "      <th>Longitude</th>\n",
       "      <th>Latitude</th>\n",
       "      <th>Border</th>\n",
       "      <th>Year</th>\n",
       "      <th>Measure</th>\n",
       "      <th>Value</th>\n",
       "    </tr>\n",
       "  </thead>\n",
       "  <tbody>\n",
       "    <tr>\n",
       "      <th>748</th>\n",
       "      <td>TX</td>\n",
       "      <td>Texas</td>\n",
       "      <td>-104.37167</td>\n",
       "      <td>29.56056</td>\n",
       "      <td>US-Mexico Border</td>\n",
       "      <td>2018</td>\n",
       "      <td>Bus Passengers</td>\n",
       "      <td>238</td>\n",
       "    </tr>\n",
       "  </tbody>\n",
       "</table>\n",
       "</div>"
      ],
      "text/plain": [
       "    Abrv  State  Longitude  Latitude            Border  Year         Measure  \\\n",
       "748   TX  Texas -104.37167  29.56056  US-Mexico Border  2018  Bus Passengers   \n",
       "\n",
       "     Value  \n",
       "748    238  "
      ]
     },
     "execution_count": 49,
     "metadata": {},
     "output_type": "execute_result"
    }
   ],
   "source": [
    "df.sample(1)"
   ]
  },
  {
   "cell_type": "code",
   "execution_count": 36,
   "metadata": {
    "colab": {},
    "colab_type": "code",
    "id": "hJMjmXHll88_"
   },
   "outputs": [],
   "source": [
    "# Remove non-pedestrian values to shrink file\n",
    "df.to_csv(Path.joinpath(Path.cwd(),'data','borderCrossing.csv'), index = False)"
   ]
  },
  {
   "cell_type": "markdown",
   "metadata": {
    "colab_type": "text",
    "id": "fvmjL7OnmHxm"
   },
   "source": [
    "## GDP Data"
   ]
  },
  {
   "cell_type": "code",
   "execution_count": 18,
   "metadata": {
    "colab": {},
    "colab_type": "code",
    "id": "_Puc3nxumFFP"
   },
   "outputs": [
    {
     "data": {
      "text/html": [
       "<div>\n",
       "<style scoped>\n",
       "    .dataframe tbody tr th:only-of-type {\n",
       "        vertical-align: middle;\n",
       "    }\n",
       "\n",
       "    .dataframe tbody tr th {\n",
       "        vertical-align: top;\n",
       "    }\n",
       "\n",
       "    .dataframe thead th {\n",
       "        text-align: right;\n",
       "    }\n",
       "</style>\n",
       "<table border=\"1\" class=\"dataframe\">\n",
       "  <thead>\n",
       "    <tr style=\"text-align: right;\">\n",
       "      <th></th>\n",
       "      <th>State</th>\n",
       "      <th>Abrv</th>\n",
       "      <th>Year</th>\n",
       "      <th>Value</th>\n",
       "    </tr>\n",
       "  </thead>\n",
       "  <tbody>\n",
       "    <tr>\n",
       "      <th>459</th>\n",
       "      <td>Texas</td>\n",
       "      <td>TX</td>\n",
       "      <td>1996</td>\n",
       "      <td>8.6</td>\n",
       "    </tr>\n",
       "    <tr>\n",
       "      <th>243</th>\n",
       "      <td>Michigan</td>\n",
       "      <td>MI</td>\n",
       "      <td>1981</td>\n",
       "      <td>10.1</td>\n",
       "    </tr>\n",
       "    <tr>\n",
       "      <th>696</th>\n",
       "      <td>North Dakota</td>\n",
       "      <td>ND</td>\n",
       "      <td>2013</td>\n",
       "      <td>4.9</td>\n",
       "    </tr>\n",
       "  </tbody>\n",
       "</table>\n",
       "</div>"
      ],
      "text/plain": [
       "            State Abrv  Year  Value\n",
       "459         Texas   TX  1996    8.6\n",
       "243      Michigan   MI  1981   10.1\n",
       "696  North Dakota   ND  2013    4.9"
      ]
     },
     "execution_count": 18,
     "metadata": {},
     "output_type": "execute_result"
    }
   ],
   "source": [
    "dataPath = Path.joinpath(Path.cwd(),'data','pctChangeGDP.csv')\n",
    "df = pd.read_csv(dataPath)\n",
    "df.sample(3)"
   ]
  },
  {
   "cell_type": "code",
   "execution_count": 19,
   "metadata": {
    "colab": {},
    "colab_type": "code",
    "id": "0O0e1o2EmOOy"
   },
   "outputs": [],
   "source": [
    "# rename GeoName to State\n",
    "df.rename(columns={'GeoName':'State'}, inplace=True)"
   ]
  },
  {
   "cell_type": "code",
   "execution_count": 20,
   "metadata": {
    "colab": {},
    "colab_type": "code",
    "id": "WtZtmbb9mSos"
   },
   "outputs": [],
   "source": [
    "# Get state abrv\n",
    "df['Abrv'] = df['State'].apply(abbreviate)"
   ]
  },
  {
   "cell_type": "code",
   "execution_count": 21,
   "metadata": {
    "colab": {},
    "colab_type": "code",
    "id": "IM8jPsFDmXbj"
   },
   "outputs": [
    {
     "name": "stdout",
     "output_type": "stream",
     "text": [
      "(770, 4)\n",
      "(770, 4)\n"
     ]
    }
   ],
   "source": [
    "# drop unneeded rows\\n\",\n",
    "# index of all rows where df['Abrv'] == ''\n",
    "print(df.shape)\n",
    "dropIndex = df.loc[df['Abrv']==''].index\n",
    "df.drop(dropIndex, inplace=True)\n",
    "print(df.shape)"
   ]
  },
  {
   "cell_type": "code",
   "execution_count": 22,
   "metadata": {},
   "outputs": [
    {
     "name": "stdout",
     "output_type": "stream",
     "text": [
      "(770, 4)\n",
      "(322, 4)\n"
     ]
    }
   ],
   "source": [
    "# drop unneeded rows\n",
    "# index of all rows where df['Year'] < 1996\n",
    "print(df.shape)\n",
    "dropIndex = df.loc[df['Year']<1996].index\n",
    "df.drop(dropIndex, inplace=True)\n",
    "print(df.shape)"
   ]
  },
  {
   "cell_type": "code",
   "execution_count": 23,
   "metadata": {
    "colab": {},
    "colab_type": "code",
    "id": "hVivlteBmc_S"
   },
   "outputs": [
    {
     "name": "stdout",
     "output_type": "stream",
     "text": [
      "(322, 4)\n",
      "(322, 4)\n"
     ]
    }
   ],
   "source": [
    "# SAFE DROP\n",
    "df = safeDrop(df, ['GeoFips'])"
   ]
  },
  {
   "cell_type": "code",
   "execution_count": 24,
   "metadata": {
    "colab": {},
    "colab_type": "code",
    "id": "xTX-tPbcmiTd"
   },
   "outputs": [],
   "source": [
    "if 'Year' not in df.columns:\n",
    "  df = pd.melt(df, id_vars=['State','Abrv'], var_name='Year', value_name = 'Value')"
   ]
  },
  {
   "cell_type": "code",
   "execution_count": 27,
   "metadata": {
    "colab": {},
    "colab_type": "code",
    "id": "CDY5cQvYmmrR"
   },
   "outputs": [
    {
     "data": {
      "text/html": [
       "<div>\n",
       "<style scoped>\n",
       "    .dataframe tbody tr th:only-of-type {\n",
       "        vertical-align: middle;\n",
       "    }\n",
       "\n",
       "    .dataframe tbody tr th {\n",
       "        vertical-align: top;\n",
       "    }\n",
       "\n",
       "    .dataframe thead th {\n",
       "        text-align: right;\n",
       "    }\n",
       "</style>\n",
       "<table border=\"1\" class=\"dataframe\">\n",
       "  <thead>\n",
       "    <tr style=\"text-align: right;\">\n",
       "      <th></th>\n",
       "      <th>State</th>\n",
       "      <th>Abrv</th>\n",
       "      <th>Year</th>\n",
       "      <th>Value</th>\n",
       "    </tr>\n",
       "  </thead>\n",
       "  <tbody>\n",
       "    <tr>\n",
       "      <th>471</th>\n",
       "      <td>New York</td>\n",
       "      <td>NY</td>\n",
       "      <td>1997</td>\n",
       "      <td>7.2</td>\n",
       "    </tr>\n",
       "    <tr>\n",
       "      <th>592</th>\n",
       "      <td>Maine</td>\n",
       "      <td>ME</td>\n",
       "      <td>2006</td>\n",
       "      <td>4.5</td>\n",
       "    </tr>\n",
       "    <tr>\n",
       "      <th>544</th>\n",
       "      <td>Vermont</td>\n",
       "      <td>VT</td>\n",
       "      <td>2002</td>\n",
       "      <td>4.6</td>\n",
       "    </tr>\n",
       "    <tr>\n",
       "      <th>497</th>\n",
       "      <td>Montana</td>\n",
       "      <td>MT</td>\n",
       "      <td>1999</td>\n",
       "      <td>1.9</td>\n",
       "    </tr>\n",
       "    <tr>\n",
       "      <th>723</th>\n",
       "      <td>New York</td>\n",
       "      <td>NY</td>\n",
       "      <td>2015</td>\n",
       "      <td>4.2</td>\n",
       "    </tr>\n",
       "  </tbody>\n",
       "</table>\n",
       "</div>"
      ],
      "text/plain": [
       "        State Abrv  Year  Value\n",
       "471  New York   NY  1997    7.2\n",
       "592     Maine   ME  2006    4.5\n",
       "544   Vermont   VT  2002    4.6\n",
       "497   Montana   MT  1999    1.9\n",
       "723  New York   NY  2015    4.2"
      ]
     },
     "execution_count": 27,
     "metadata": {},
     "output_type": "execute_result"
    }
   ],
   "source": [
    "df.sample(5)"
   ]
  },
  {
   "cell_type": "code",
   "execution_count": 28,
   "metadata": {
    "colab": {},
    "colab_type": "code",
    "id": "kKAmXymVmo6O"
   },
   "outputs": [],
   "source": [
    "# Un-pivoting\n",
    "df.to_csv(Path.joinpath(Path.cwd(),'data','pctChangeGDP.csv'), index = False)"
   ]
  },
  {
   "cell_type": "markdown",
   "metadata": {
    "colab_type": "text",
    "id": "qlKVqbazmtwM"
   },
   "source": [
    "## Unemployment Data"
   ]
  },
  {
   "cell_type": "code",
   "execution_count": 29,
   "metadata": {
    "colab": {},
    "colab_type": "code",
    "id": "NZnyHN1qmuGj"
   },
   "outputs": [
    {
     "data": {
      "text/html": [
       "<div>\n",
       "<style scoped>\n",
       "    .dataframe tbody tr th:only-of-type {\n",
       "        vertical-align: middle;\n",
       "    }\n",
       "\n",
       "    .dataframe tbody tr th {\n",
       "        vertical-align: top;\n",
       "    }\n",
       "\n",
       "    .dataframe thead th {\n",
       "        text-align: right;\n",
       "    }\n",
       "</style>\n",
       "<table border=\"1\" class=\"dataframe\">\n",
       "  <thead>\n",
       "    <tr style=\"text-align: right;\">\n",
       "      <th></th>\n",
       "      <th>State</th>\n",
       "      <th>Year</th>\n",
       "      <th>Abrv</th>\n",
       "      <th>UnemploymentRate</th>\n",
       "      <th>LaborRate</th>\n",
       "    </tr>\n",
       "  </thead>\n",
       "  <tbody>\n",
       "    <tr>\n",
       "      <th>455</th>\n",
       "      <td>Montana</td>\n",
       "      <td>2008</td>\n",
       "      <td>MT</td>\n",
       "      <td>0.053411</td>\n",
       "      <td>0.669954</td>\n",
       "    </tr>\n",
       "    <tr>\n",
       "      <th>281</th>\n",
       "      <td>Arizona</td>\n",
       "      <td>1996</td>\n",
       "      <td>AZ</td>\n",
       "      <td>0.058962</td>\n",
       "      <td>0.659505</td>\n",
       "    </tr>\n",
       "    <tr>\n",
       "      <th>403</th>\n",
       "      <td>Texas</td>\n",
       "      <td>2004</td>\n",
       "      <td>TX</td>\n",
       "      <td>0.063247</td>\n",
       "      <td>0.673439</td>\n",
       "    </tr>\n",
       "  </tbody>\n",
       "</table>\n",
       "</div>"
      ],
      "text/plain": [
       "       State  Year Abrv  UnemploymentRate  LaborRate\n",
       "455  Montana  2008   MT          0.053411   0.669954\n",
       "281  Arizona  1996   AZ          0.058962   0.659505\n",
       "403    Texas  2004   TX          0.063247   0.673439"
      ]
     },
     "execution_count": 29,
     "metadata": {},
     "output_type": "execute_result"
    }
   ],
   "source": [
    "dataPath = Path.joinpath(Path.cwd(),'data','unemployment.csv')\n",
    "df = pd.read_csv(dataPath)\n",
    "df.sample(3)"
   ]
  },
  {
   "cell_type": "code",
   "execution_count": 30,
   "metadata": {
    "colab": {},
    "colab_type": "code",
    "id": "kVpljKXdm6QF"
   },
   "outputs": [],
   "source": [
    "# rename GeoName to State\n",
    "df.rename(columns={'Stata':'State'}, inplace=True)"
   ]
  },
  {
   "cell_type": "code",
   "execution_count": 31,
   "metadata": {
    "colab": {},
    "colab_type": "code",
    "id": "Nk31fGeQnBLR"
   },
   "outputs": [
    {
     "name": "stdout",
     "output_type": "stream",
     "text": [
      "(602, 5)\n",
      "(602, 5)\n"
     ]
    }
   ],
   "source": [
    "# get abbreviations\n",
    "df['Abrv'] = df['State'].apply(abbreviate)\n",
    "# drop unneeded rows\n",
    "# index of all rows where df['Abrv'] == ''\n",
    "print(df.shape)\n",
    "dropIndex = df.loc[df['Abrv']==''].index\n",
    "df.drop(dropIndex, inplace=True)\n",
    "print(df.shape)"
   ]
  },
  {
   "cell_type": "code",
   "execution_count": 32,
   "metadata": {},
   "outputs": [
    {
     "name": "stdout",
     "output_type": "stream",
     "text": [
      "(602, 5)\n",
      "(322, 5)\n"
     ]
    }
   ],
   "source": [
    "# drop unneeded rows\n",
    "# index of all rows where df['Year'] < 1996\n",
    "print(df.shape)\n",
    "dropIndex = df.loc[df['Year']<1996].index\n",
    "df.drop(dropIndex, inplace=True)\n",
    "print(df.shape)"
   ]
  },
  {
   "cell_type": "code",
   "execution_count": 33,
   "metadata": {},
   "outputs": [],
   "source": [
    "for col in ['Unemployed','Employed','LaborForce','Population']:\n",
    "    if col in list(df.columns):\n",
    "        df['UnemploymentRate'] = df['Unemployed'].div(df['Employed'])\n",
    "        df['LaborRate'] = df['LaborForce'].div(df['Population'])"
   ]
  },
  {
   "cell_type": "code",
   "execution_count": 34,
   "metadata": {},
   "outputs": [
    {
     "name": "stdout",
     "output_type": "stream",
     "text": [
      "(322, 5)\n",
      "(322, 5)\n"
     ]
    }
   ],
   "source": [
    "# drop unneeded columns\n",
    "df = safeDrop(df, ['FIPS','PercentOfPopulation','PercentOfLaborEmp','PercentOfLaborUnemp','Population','LaborForce','Employed','Unemployed'])"
   ]
  },
  {
   "cell_type": "code",
   "execution_count": 35,
   "metadata": {
    "colab": {},
    "colab_type": "code",
    "id": "GJCA5wM4nHxo",
    "scrolled": true
   },
   "outputs": [
    {
     "data": {
      "text/html": [
       "<div>\n",
       "<style scoped>\n",
       "    .dataframe tbody tr th:only-of-type {\n",
       "        vertical-align: middle;\n",
       "    }\n",
       "\n",
       "    .dataframe tbody tr th {\n",
       "        vertical-align: top;\n",
       "    }\n",
       "\n",
       "    .dataframe thead th {\n",
       "        text-align: right;\n",
       "    }\n",
       "</style>\n",
       "<table border=\"1\" class=\"dataframe\">\n",
       "  <thead>\n",
       "    <tr style=\"text-align: right;\">\n",
       "      <th></th>\n",
       "      <th>State</th>\n",
       "      <th>Year</th>\n",
       "      <th>Abrv</th>\n",
       "      <th>UnemploymentRate</th>\n",
       "      <th>LaborRate</th>\n",
       "    </tr>\n",
       "  </thead>\n",
       "  <tbody>\n",
       "    <tr>\n",
       "      <th>385</th>\n",
       "      <td>Montana</td>\n",
       "      <td>2003</td>\n",
       "      <td>MT</td>\n",
       "      <td>0.049465</td>\n",
       "      <td>0.665608</td>\n",
       "    </tr>\n",
       "    <tr>\n",
       "      <th>515</th>\n",
       "      <td>Texas</td>\n",
       "      <td>2012</td>\n",
       "      <td>TX</td>\n",
       "      <td>0.072071</td>\n",
       "      <td>0.655321</td>\n",
       "    </tr>\n",
       "    <tr>\n",
       "      <th>361</th>\n",
       "      <td>Texas</td>\n",
       "      <td>2001</td>\n",
       "      <td>TX</td>\n",
       "      <td>0.052111</td>\n",
       "      <td>0.679757</td>\n",
       "    </tr>\n",
       "  </tbody>\n",
       "</table>\n",
       "</div>"
      ],
      "text/plain": [
       "       State  Year Abrv  UnemploymentRate  LaborRate\n",
       "385  Montana  2003   MT          0.049465   0.665608\n",
       "515    Texas  2012   TX          0.072071   0.655321\n",
       "361    Texas  2001   TX          0.052111   0.679757"
      ]
     },
     "execution_count": 35,
     "metadata": {},
     "output_type": "execute_result"
    }
   ],
   "source": [
    "df.sample(3)"
   ]
  },
  {
   "cell_type": "code",
   "execution_count": 36,
   "metadata": {
    "colab": {},
    "colab_type": "code",
    "id": "4nAk3cCAnK6h"
   },
   "outputs": [],
   "source": [
    "# Un-pivoting\n",
    "df.to_csv(Path.joinpath(Path.cwd(),'data','unemployment.csv'), index = False)"
   ]
  },
  {
   "cell_type": "code",
   "execution_count": null,
   "metadata": {},
   "outputs": [],
   "source": []
  }
 ],
 "metadata": {
  "colab": {
   "include_colab_link": true,
   "name": "Untitled0.ipynb",
   "provenance": []
  },
  "kernelspec": {
   "display_name": "Python 3",
   "language": "python",
   "name": "python3"
  },
  "language_info": {
   "codemirror_mode": {
    "name": "ipython",
    "version": 3
   },
   "file_extension": ".py",
   "mimetype": "text/x-python",
   "name": "python",
   "nbconvert_exporter": "python",
   "pygments_lexer": "ipython3",
   "version": "3.6.5"
  }
 },
 "nbformat": 4,
 "nbformat_minor": 1
}
