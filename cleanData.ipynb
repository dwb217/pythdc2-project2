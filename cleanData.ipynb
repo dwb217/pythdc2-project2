{
 "cells": [
  {
   "cell_type": "markdown",
   "metadata": {
    "colab_type": "text",
    "id": "view-in-github"
   },
   "source": [
    "<a href=\"https://colab.research.google.com/github/maxrgnt/pythdc2-project2/blob/master/Clean2.ipynb\" target=\"_parent\"><img src=\"https://colab.research.google.com/assets/colab-badge.svg\" alt=\"Open In Colab\"/></a>"
   ]
  },
  {
   "cell_type": "code",
   "execution_count": 1,
   "metadata": {
    "colab": {},
    "colab_type": "code",
    "id": "OPerGvRxkaFE"
   },
   "outputs": [],
   "source": [
    "# Panel Data\n",
    "import pandas as pd\n",
    "# System folders\n",
    "import os\n",
    "from pathlib import Path"
   ]
  },
  {
   "cell_type": "code",
   "execution_count": 2,
   "metadata": {
    "colab": {},
    "colab_type": "code",
    "id": "g7yxFYyLkkUJ"
   },
   "outputs": [],
   "source": [
    "def abbreviate(stateName):\n",
    "    abrvDict = {'Alaska':'AL',\n",
    "                'Arizona':'AZ',\n",
    "                'California':'CA',\n",
    "                'Idaho':'ID',\n",
    "                'Maine':'ME',\n",
    "                'Michigan':'MI',\n",
    "                'Minnesota':'MN',\n",
    "                'Montana':'MT',\n",
    "                'New Mexico':'NM',\n",
    "                'New York':'NY',\n",
    "                'North Dakota':'ND',\n",
    "                'Texas':'TX',\n",
    "                'Vermont':'VT',\n",
    "                'Washington':'WA'}\n",
    "    abrv = ''\n",
    "    if stateName in abrvDict:\n",
    "        abrv = abrvDict[stateName]\n",
    "    return abrv\n",
    "\n",
    "def safeDrop(df, cols):\n",
    "    print(df.shape)\n",
    "    for col in df.columns:\n",
    "        if col in cols:\n",
    "            print(f'removing: {col}')\n",
    "            df.drop([col], axis=1, inplace=True)\n",
    "    print(df.shape)\n",
    "    return df"
   ]
  },
  {
   "cell_type": "markdown",
   "metadata": {
    "colab_type": "text",
    "id": "KIpkC_p9k7_u"
   },
   "source": [
    "## Border Data"
   ]
  },
  {
   "cell_type": "code",
   "execution_count": 66,
   "metadata": {
    "colab": {},
    "colab_type": "code",
    "id": "gRrFbRyzk3iP"
   },
   "outputs": [
    {
     "data": {
      "text/html": [
       "<div>\n",
       "<style scoped>\n",
       "    .dataframe tbody tr th:only-of-type {\n",
       "        vertical-align: middle;\n",
       "    }\n",
       "\n",
       "    .dataframe tbody tr th {\n",
       "        vertical-align: top;\n",
       "    }\n",
       "\n",
       "    .dataframe thead th {\n",
       "        text-align: right;\n",
       "    }\n",
       "</style>\n",
       "<table border=\"1\" class=\"dataframe\">\n",
       "  <thead>\n",
       "    <tr style=\"text-align: right;\">\n",
       "      <th></th>\n",
       "      <th>Port Name</th>\n",
       "      <th>State</th>\n",
       "      <th>Port Code</th>\n",
       "      <th>Border</th>\n",
       "      <th>Date</th>\n",
       "      <th>Measure</th>\n",
       "      <th>Value</th>\n",
       "      <th>Location</th>\n",
       "    </tr>\n",
       "  </thead>\n",
       "  <tbody>\n",
       "    <tr>\n",
       "      <th>46899</th>\n",
       "      <td>Limestone</td>\n",
       "      <td>Maine</td>\n",
       "      <td>118</td>\n",
       "      <td>US-Canada Border</td>\n",
       "      <td>39934</td>\n",
       "      <td>Personal Vehicle Passengers</td>\n",
       "      <td>5390</td>\n",
       "      <td>POINT (-67.79 46.92)</td>\n",
       "    </tr>\n",
       "    <tr>\n",
       "      <th>41974</th>\n",
       "      <td>El Paso</td>\n",
       "      <td>Texas</td>\n",
       "      <td>2402</td>\n",
       "      <td>US-Mexico Border</td>\n",
       "      <td>40269</td>\n",
       "      <td>Personal Vehicle Passengers</td>\n",
       "      <td>1575984</td>\n",
       "      <td>POINT (-106.45 31.76)</td>\n",
       "    </tr>\n",
       "    <tr>\n",
       "      <th>15777</th>\n",
       "      <td>Port Huron</td>\n",
       "      <td>Michigan</td>\n",
       "      <td>3802</td>\n",
       "      <td>US-Canada Border</td>\n",
       "      <td>42064</td>\n",
       "      <td>Bus Passengers</td>\n",
       "      <td>4483</td>\n",
       "      <td>POINT (-82.42 43)</td>\n",
       "    </tr>\n",
       "  </tbody>\n",
       "</table>\n",
       "</div>"
      ],
      "text/plain": [
       "        Port Name     State  Port Code            Border   Date  \\\n",
       "46899   Limestone     Maine        118  US-Canada Border  39934   \n",
       "41974     El Paso     Texas       2402  US-Mexico Border  40269   \n",
       "15777  Port Huron  Michigan       3802  US-Canada Border  42064   \n",
       "\n",
       "                           Measure    Value               Location  \n",
       "46899  Personal Vehicle Passengers     5390   POINT (-67.79 46.92)  \n",
       "41974  Personal Vehicle Passengers  1575984  POINT (-106.45 31.76)  \n",
       "15777               Bus Passengers     4483      POINT (-82.42 43)  "
      ]
     },
     "execution_count": 66,
     "metadata": {},
     "output_type": "execute_result"
    }
   ],
   "source": [
    "dataPath = Path.joinpath(Path.cwd(),'sourceData','borderCrossing.csv')\n",
    "df = pd.read_csv(dataPath)\n",
    "df.sample(3)"
   ]
  },
  {
   "cell_type": "code",
   "execution_count": 67,
   "metadata": {
    "colab": {},
    "colab_type": "code",
    "id": "CLu7zPIklSAa"
   },
   "outputs": [
    {
     "data": {
      "text/plain": [
       "Personal Vehicle Passengers    30196\n",
       "Bus Passengers                 28820\n",
       "Pedestrians                    28697\n",
       "Train Passengers               27623\n",
       "Name: Measure, dtype: int64"
      ]
     },
     "execution_count": 67,
     "metadata": {},
     "output_type": "execute_result"
    }
   ],
   "source": [
    "df['Measure'].value_counts()"
   ]
  },
  {
   "cell_type": "code",
   "execution_count": 68,
   "metadata": {
    "colab": {},
    "colab_type": "code",
    "id": "-hhAnZkOlXSV"
   },
   "outputs": [],
   "source": [
    "# Only interested in Passenger / Pedestrian crossings\n",
    "people = df['Measure'].str.contains('Passengers|Pedestrians', case = False)"
   ]
  },
  {
   "cell_type": "code",
   "execution_count": 69,
   "metadata": {
    "colab": {},
    "colab_type": "code",
    "id": "dUc_9a7Flcyp"
   },
   "outputs": [
    {
     "name": "stdout",
     "output_type": "stream",
     "text": [
      "All measures: (115336, 8)\n",
      "Just people: (115336, 8)\n"
     ]
    }
   ],
   "source": [
    "# Check to see how much data frame shrinks after filtering down\n",
    "print(f'All measures: {df.shape}')\n",
    "#df = df[people] # This gave index error when re-running, changed to df.loc\n",
    "df = df.loc[people]\n",
    "print(f'Just people: {df.shape}')"
   ]
  },
  {
   "cell_type": "code",
   "execution_count": 70,
   "metadata": {
    "colab": {},
    "colab_type": "code",
    "id": "nK9sYDtPlnni"
   },
   "outputs": [],
   "source": [
    "# Break out Location into latitude and longitude,\n",
    "                # substring from 'POINT( ' to ')' and split on ' ' grabbing first then second element set as float,\n",
    "if 'Location' in df.columns:\n",
    "    df['Latitude'] = df['Location'].str[len('POINT ('):-1].str.split(' ').str[1].astype(float)\n",
    "    df['Longitude'] = df['Location'].str[len('POINT ('):-1].str.split(' ').str[0].astype(float)"
   ]
  },
  {
   "cell_type": "code",
   "execution_count": 71,
   "metadata": {
    "colab": {},
    "colab_type": "code",
    "id": "SgEJBkz5lvU8",
    "scrolled": true
   },
   "outputs": [
    {
     "name": "stdout",
     "output_type": "stream",
     "text": [
      "(115336, 10)\n",
      "removing: Port Name\n",
      "removing: Port Code\n",
      "removing: Location\n",
      "(115336, 7)\n"
     ]
    }
   ],
   "source": [
    "# Drop unnecessary columns\n",
    "df = safeDrop(df, ['Port Code','Port Name','Location','Unnamed: 0','index'])"
   ]
  },
  {
   "cell_type": "code",
   "execution_count": 72,
   "metadata": {
    "colab": {},
    "colab_type": "code",
    "id": "twbTAdZGl0GQ"
   },
   "outputs": [],
   "source": [
    "# Get state abrv\n",
    "df['Abrv'] = df['State'].apply(abbreviate)"
   ]
  },
  {
   "cell_type": "code",
   "execution_count": 73,
   "metadata": {},
   "outputs": [],
   "source": [
    "# Handle the Date column\n",
    "if 'Date' in df.columns:\n",
    "    df['newDate'] = pd.to_datetime(df['Date'])\n",
    "    df['Year'] = df['newDate'].dt.year.astype(int)"
   ]
  },
  {
   "cell_type": "code",
   "execution_count": 74,
   "metadata": {},
   "outputs": [
    {
     "name": "stdout",
     "output_type": "stream",
     "text": [
      "(115336, 10)\n",
      "(115336, 10)\n"
     ]
    }
   ],
   "source": [
    "# drop unneeded rows\n",
    "# index of all rows where df['Year'] < 1996\n",
    "print(df.shape)\n",
    "dropIndex = df.loc[df['Year'].astype(int)>2018].index\n",
    "df.drop(dropIndex, inplace=True)\n",
    "print(df.shape)"
   ]
  },
  {
   "cell_type": "code",
   "execution_count": 75,
   "metadata": {
    "colab": {},
    "colab_type": "code",
    "id": "rQIpVX1Vl48M"
   },
   "outputs": [],
   "source": [
    "# reorganize columns\n",
    "df = df[['Abrv','State','Longitude','Latitude','Border','Year','Measure','Value']]"
   ]
  },
  {
   "cell_type": "code",
   "execution_count": 76,
   "metadata": {
    "colab": {},
    "colab_type": "code",
    "id": "zgcNVoy9mDEQ",
    "scrolled": true
   },
   "outputs": [
    {
     "data": {
      "text/html": [
       "<div>\n",
       "<style scoped>\n",
       "    .dataframe tbody tr th:only-of-type {\n",
       "        vertical-align: middle;\n",
       "    }\n",
       "\n",
       "    .dataframe tbody tr th {\n",
       "        vertical-align: top;\n",
       "    }\n",
       "\n",
       "    .dataframe thead th {\n",
       "        text-align: right;\n",
       "    }\n",
       "</style>\n",
       "<table border=\"1\" class=\"dataframe\">\n",
       "  <thead>\n",
       "    <tr style=\"text-align: right;\">\n",
       "      <th></th>\n",
       "      <th>Abrv</th>\n",
       "      <th>State</th>\n",
       "      <th>Longitude</th>\n",
       "      <th>Latitude</th>\n",
       "      <th>Border</th>\n",
       "      <th>Year</th>\n",
       "      <th>Measure</th>\n",
       "      <th>Value</th>\n",
       "    </tr>\n",
       "  </thead>\n",
       "  <tbody>\n",
       "    <tr>\n",
       "      <th>95331</th>\n",
       "      <td>ME</td>\n",
       "      <td>Maine</td>\n",
       "      <td>-70.40</td>\n",
       "      <td>45.81</td>\n",
       "      <td>US-Canada Border</td>\n",
       "      <td>1970</td>\n",
       "      <td>Pedestrians</td>\n",
       "      <td>59</td>\n",
       "    </tr>\n",
       "    <tr>\n",
       "      <th>108480</th>\n",
       "      <td>WA</td>\n",
       "      <td>Washington</td>\n",
       "      <td>-122.26</td>\n",
       "      <td>49.00</td>\n",
       "      <td>US-Canada Border</td>\n",
       "      <td>1970</td>\n",
       "      <td>Bus Passengers</td>\n",
       "      <td>5288</td>\n",
       "    </tr>\n",
       "    <tr>\n",
       "      <th>91495</th>\n",
       "      <td>TX</td>\n",
       "      <td>Texas</td>\n",
       "      <td>-106.45</td>\n",
       "      <td>31.76</td>\n",
       "      <td>US-Mexico Border</td>\n",
       "      <td>1970</td>\n",
       "      <td>Personal Vehicle Passengers</td>\n",
       "      <td>4050300</td>\n",
       "    </tr>\n",
       "    <tr>\n",
       "      <th>108929</th>\n",
       "      <td>WA</td>\n",
       "      <td>Washington</td>\n",
       "      <td>-117.83</td>\n",
       "      <td>49.00</td>\n",
       "      <td>US-Canada Border</td>\n",
       "      <td>1970</td>\n",
       "      <td>Bus Passengers</td>\n",
       "      <td>516</td>\n",
       "    </tr>\n",
       "    <tr>\n",
       "      <th>57154</th>\n",
       "      <td>VT</td>\n",
       "      <td>Vermont</td>\n",
       "      <td>-72.09</td>\n",
       "      <td>45.01</td>\n",
       "      <td>US-Canada Border</td>\n",
       "      <td>1970</td>\n",
       "      <td>Bus Passengers</td>\n",
       "      <td>6921</td>\n",
       "    </tr>\n",
       "  </tbody>\n",
       "</table>\n",
       "</div>"
      ],
      "text/plain": [
       "       Abrv       State  Longitude  Latitude            Border  Year  \\\n",
       "95331    ME       Maine     -70.40     45.81  US-Canada Border  1970   \n",
       "108480   WA  Washington    -122.26     49.00  US-Canada Border  1970   \n",
       "91495    TX       Texas    -106.45     31.76  US-Mexico Border  1970   \n",
       "108929   WA  Washington    -117.83     49.00  US-Canada Border  1970   \n",
       "57154    VT     Vermont     -72.09     45.01  US-Canada Border  1970   \n",
       "\n",
       "                            Measure    Value  \n",
       "95331                   Pedestrians       59  \n",
       "108480               Bus Passengers     5288  \n",
       "91495   Personal Vehicle Passengers  4050300  \n",
       "108929               Bus Passengers      516  \n",
       "57154                Bus Passengers     6921  "
      ]
     },
     "execution_count": 76,
     "metadata": {},
     "output_type": "execute_result"
    }
   ],
   "source": [
    "df.sample(5)"
   ]
  },
  {
   "cell_type": "code",
   "execution_count": 51,
   "metadata": {
    "colab": {},
    "colab_type": "code",
    "id": "hJMjmXHll88_"
   },
   "outputs": [],
   "source": [
    "# Remove non-pedestrian values to shrink file\n",
    "# df.to_csv(Path.joinpath(Path.cwd(),'data','borderCrossing.csv'), index = False)"
   ]
  },
  {
   "cell_type": "markdown",
   "metadata": {
    "colab_type": "text",
    "id": "fvmjL7OnmHxm"
   },
   "source": [
    "## GDP Data"
   ]
  },
  {
   "cell_type": "code",
   "execution_count": 10,
   "metadata": {
    "colab": {},
    "colab_type": "code",
    "id": "_Puc3nxumFFP"
   },
   "outputs": [
    {
     "data": {
      "text/html": [
       "<div>\n",
       "<style scoped>\n",
       "    .dataframe tbody tr th:only-of-type {\n",
       "        vertical-align: middle;\n",
       "    }\n",
       "\n",
       "    .dataframe tbody tr th {\n",
       "        vertical-align: top;\n",
       "    }\n",
       "\n",
       "    .dataframe thead th {\n",
       "        text-align: right;\n",
       "    }\n",
       "</style>\n",
       "<table border=\"1\" class=\"dataframe\">\n",
       "  <thead>\n",
       "    <tr style=\"text-align: right;\">\n",
       "      <th></th>\n",
       "      <th>GeoFips</th>\n",
       "      <th>GeoName</th>\n",
       "      <th>1964</th>\n",
       "      <th>1965</th>\n",
       "      <th>1966</th>\n",
       "      <th>1967</th>\n",
       "      <th>1968</th>\n",
       "      <th>1969</th>\n",
       "      <th>1970</th>\n",
       "      <th>1971</th>\n",
       "      <th>...</th>\n",
       "      <th>2009</th>\n",
       "      <th>2010</th>\n",
       "      <th>2011</th>\n",
       "      <th>2012</th>\n",
       "      <th>2013</th>\n",
       "      <th>2014</th>\n",
       "      <th>2015</th>\n",
       "      <th>2016</th>\n",
       "      <th>2017</th>\n",
       "      <th>2018</th>\n",
       "    </tr>\n",
       "  </thead>\n",
       "  <tbody>\n",
       "    <tr>\n",
       "      <th>35</th>\n",
       "      <td>38000</td>\n",
       "      <td>North Dakota</td>\n",
       "      <td>-2.0</td>\n",
       "      <td>14.7</td>\n",
       "      <td>1.2</td>\n",
       "      <td>1.5</td>\n",
       "      <td>4.5</td>\n",
       "      <td>11.2</td>\n",
       "      <td>5.3</td>\n",
       "      <td>14.7</td>\n",
       "      <td>...</td>\n",
       "      <td>0.9</td>\n",
       "      <td>10.7</td>\n",
       "      <td>16.2</td>\n",
       "      <td>24.7</td>\n",
       "      <td>4.9</td>\n",
       "      <td>8.7</td>\n",
       "      <td>-6.2</td>\n",
       "      <td>-7.6</td>\n",
       "      <td>1.7</td>\n",
       "      <td>6.0</td>\n",
       "    </tr>\n",
       "    <tr>\n",
       "      <th>44</th>\n",
       "      <td>48000</td>\n",
       "      <td>Texas</td>\n",
       "      <td>7.2</td>\n",
       "      <td>8.0</td>\n",
       "      <td>8.6</td>\n",
       "      <td>8.5</td>\n",
       "      <td>11.5</td>\n",
       "      <td>9.2</td>\n",
       "      <td>7.7</td>\n",
       "      <td>9.6</td>\n",
       "      <td>...</td>\n",
       "      <td>-6.0</td>\n",
       "      <td>6.3</td>\n",
       "      <td>7.6</td>\n",
       "      <td>6.0</td>\n",
       "      <td>6.4</td>\n",
       "      <td>4.2</td>\n",
       "      <td>0.2</td>\n",
       "      <td>-0.2</td>\n",
       "      <td>5.8</td>\n",
       "      <td>7.3</td>\n",
       "    </tr>\n",
       "    <tr>\n",
       "      <th>48</th>\n",
       "      <td>53000</td>\n",
       "      <td>Washington</td>\n",
       "      <td>2.0</td>\n",
       "      <td>8.2</td>\n",
       "      <td>15.7</td>\n",
       "      <td>9.7</td>\n",
       "      <td>8.7</td>\n",
       "      <td>6.3</td>\n",
       "      <td>0.1</td>\n",
       "      <td>3.6</td>\n",
       "      <td>...</td>\n",
       "      <td>-0.6</td>\n",
       "      <td>3.4</td>\n",
       "      <td>3.8</td>\n",
       "      <td>5.6</td>\n",
       "      <td>4.6</td>\n",
       "      <td>5.5</td>\n",
       "      <td>6.4</td>\n",
       "      <td>4.8</td>\n",
       "      <td>6.0</td>\n",
       "      <td>7.8</td>\n",
       "    </tr>\n",
       "  </tbody>\n",
       "</table>\n",
       "<p>3 rows × 57 columns</p>\n",
       "</div>"
      ],
      "text/plain": [
       "    GeoFips       GeoName  1964  1965  1966  1967  1968  1969  1970  1971  \\\n",
       "35    38000  North Dakota  -2.0  14.7   1.2   1.5   4.5  11.2   5.3  14.7   \n",
       "44    48000         Texas   7.2   8.0   8.6   8.5  11.5   9.2   7.7   9.6   \n",
       "48    53000    Washington   2.0   8.2  15.7   9.7   8.7   6.3   0.1   3.6   \n",
       "\n",
       "    ...   2009  2010  2011  2012  2013  2014  2015  2016  2017  2018  \n",
       "35  ...    0.9  10.7  16.2  24.7   4.9   8.7  -6.2  -7.6   1.7   6.0  \n",
       "44  ...   -6.0   6.3   7.6   6.0   6.4   4.2   0.2  -0.2   5.8   7.3  \n",
       "48  ...   -0.6   3.4   3.8   5.6   4.6   5.5   6.4   4.8   6.0   7.8  \n",
       "\n",
       "[3 rows x 57 columns]"
      ]
     },
     "execution_count": 10,
     "metadata": {},
     "output_type": "execute_result"
    }
   ],
   "source": [
    "dataPath = Path.joinpath(Path.cwd(),'sourceData','pctChangeGDP.csv')\n",
    "df = pd.read_csv(dataPath)\n",
    "df.sample(3)"
   ]
  },
  {
   "cell_type": "code",
   "execution_count": 11,
   "metadata": {
    "colab": {},
    "colab_type": "code",
    "id": "0O0e1o2EmOOy"
   },
   "outputs": [],
   "source": [
    "# rename GeoName to State\n",
    "df.rename(columns={'GeoName':'State'}, inplace=True)"
   ]
  },
  {
   "cell_type": "code",
   "execution_count": 12,
   "metadata": {
    "colab": {},
    "colab_type": "code",
    "id": "WtZtmbb9mSos"
   },
   "outputs": [],
   "source": [
    "# Get state abrv\n",
    "df['Abrv'] = df['State'].apply(abbreviate)"
   ]
  },
  {
   "cell_type": "code",
   "execution_count": 15,
   "metadata": {
    "colab": {},
    "colab_type": "code",
    "id": "IM8jPsFDmXbj"
   },
   "outputs": [
    {
     "name": "stdout",
     "output_type": "stream",
     "text": [
      "(14, 58)\n",
      "(14, 58)\n"
     ]
    }
   ],
   "source": [
    "# drop unneeded rows\\n\",\n",
    "# index of all rows where df['Abrv'] == ''\n",
    "print(df.shape)\n",
    "dropIndex = df.loc[df['Abrv']==''].index\n",
    "df.drop(dropIndex, inplace=True)\n",
    "print(df.shape)"
   ]
  },
  {
   "cell_type": "code",
   "execution_count": 16,
   "metadata": {
    "colab": {},
    "colab_type": "code",
    "id": "hVivlteBmc_S"
   },
   "outputs": [
    {
     "name": "stdout",
     "output_type": "stream",
     "text": [
      "(14, 58)\n",
      "removing: GeoFips\n",
      "(14, 57)\n"
     ]
    }
   ],
   "source": [
    "# SAFE DROP\n",
    "df = safeDrop(df, ['GeoFips'])"
   ]
  },
  {
   "cell_type": "code",
   "execution_count": 17,
   "metadata": {
    "colab": {},
    "colab_type": "code",
    "id": "xTX-tPbcmiTd"
   },
   "outputs": [],
   "source": [
    "if 'Year' not in df.columns:\n",
    "  df = pd.melt(df, id_vars=['State','Abrv'], var_name='Year', value_name = 'Value')"
   ]
  },
  {
   "cell_type": "code",
   "execution_count": 21,
   "metadata": {},
   "outputs": [
    {
     "name": "stdout",
     "output_type": "stream",
     "text": [
      "(770, 4)\n",
      "(308, 4)\n"
     ]
    }
   ],
   "source": [
    "# drop unneeded rows\n",
    "# index of all rows where df['Year'] < 1996\n",
    "print(df.shape)\n",
    "dropIndex = df.loc[df['Year'].astype(int)<1997].index\n",
    "df.drop(dropIndex, inplace=True)\n",
    "print(df.shape)"
   ]
  },
  {
   "cell_type": "code",
   "execution_count": 31,
   "metadata": {
    "colab": {},
    "colab_type": "code",
    "id": "CDY5cQvYmmrR",
    "scrolled": true
   },
   "outputs": [
    {
     "data": {
      "text/html": [
       "<div>\n",
       "<style scoped>\n",
       "    .dataframe tbody tr th:only-of-type {\n",
       "        vertical-align: middle;\n",
       "    }\n",
       "\n",
       "    .dataframe tbody tr th {\n",
       "        vertical-align: top;\n",
       "    }\n",
       "\n",
       "    .dataframe thead th {\n",
       "        text-align: right;\n",
       "    }\n",
       "</style>\n",
       "<table border=\"1\" class=\"dataframe\">\n",
       "  <thead>\n",
       "    <tr style=\"text-align: right;\">\n",
       "      <th></th>\n",
       "      <th>FIPS</th>\n",
       "      <th>State</th>\n",
       "      <th>Year</th>\n",
       "      <th>Population</th>\n",
       "      <th>LaborForce</th>\n",
       "      <th>PercentOfPopulation</th>\n",
       "      <th>Employed</th>\n",
       "      <th>PercentOfLaborEmp</th>\n",
       "      <th>Unemployed</th>\n",
       "      <th>PercentOfLaborUnemp</th>\n",
       "      <th>Abrv</th>\n",
       "    </tr>\n",
       "  </thead>\n",
       "  <tbody>\n",
       "    <tr>\n",
       "      <th>1670</th>\n",
       "      <td>30</td>\n",
       "      <td>Montana</td>\n",
       "      <td>2007</td>\n",
       "      <td>750440.0</td>\n",
       "      <td>502070.0</td>\n",
       "      <td>66.9</td>\n",
       "      <td>484189.0</td>\n",
       "      <td>64.5</td>\n",
       "      <td>17881.0</td>\n",
       "      <td>3.6</td>\n",
       "      <td>MT</td>\n",
       "    </tr>\n",
       "    <tr>\n",
       "      <th>2228</th>\n",
       "      <td>4</td>\n",
       "      <td>Arizona</td>\n",
       "      <td>2018</td>\n",
       "      <td>5606275.0</td>\n",
       "      <td>3439755.0</td>\n",
       "      <td>61.4</td>\n",
       "      <td>3273550.0</td>\n",
       "      <td>58.4</td>\n",
       "      <td>166205.0</td>\n",
       "      <td>4.8</td>\n",
       "      <td>AZ</td>\n",
       "    </tr>\n",
       "    <tr>\n",
       "      <th>1427</th>\n",
       "      <td>53</td>\n",
       "      <td>Washington</td>\n",
       "      <td>2002</td>\n",
       "      <td>4601381.0</td>\n",
       "      <td>3082839.0</td>\n",
       "      <td>67.0</td>\n",
       "      <td>2854762.0</td>\n",
       "      <td>62.0</td>\n",
       "      <td>228077.0</td>\n",
       "      <td>7.4</td>\n",
       "      <td>WA</td>\n",
       "    </tr>\n",
       "    <tr>\n",
       "      <th>1379</th>\n",
       "      <td>2</td>\n",
       "      <td>Alaska</td>\n",
       "      <td>2002</td>\n",
       "      <td>452064.0</td>\n",
       "      <td>326401.0</td>\n",
       "      <td>72.2</td>\n",
       "      <td>302580.0</td>\n",
       "      <td>66.9</td>\n",
       "      <td>23821.0</td>\n",
       "      <td>7.3</td>\n",
       "      <td>AL</td>\n",
       "    </tr>\n",
       "    <tr>\n",
       "      <th>1308</th>\n",
       "      <td>38</td>\n",
       "      <td>North Dakota</td>\n",
       "      <td>2000</td>\n",
       "      <td>485026.0</td>\n",
       "      <td>342568.0</td>\n",
       "      <td>70.6</td>\n",
       "      <td>332407.0</td>\n",
       "      <td>68.5</td>\n",
       "      <td>10161.0</td>\n",
       "      <td>3.0</td>\n",
       "      <td>ND</td>\n",
       "    </tr>\n",
       "  </tbody>\n",
       "</table>\n",
       "</div>"
      ],
      "text/plain": [
       "      FIPS         State  Year  Population  LaborForce  PercentOfPopulation  \\\n",
       "1670    30       Montana  2007    750440.0    502070.0                 66.9   \n",
       "2228     4       Arizona  2018   5606275.0   3439755.0                 61.4   \n",
       "1427    53    Washington  2002   4601381.0   3082839.0                 67.0   \n",
       "1379     2        Alaska  2002    452064.0    326401.0                 72.2   \n",
       "1308    38  North Dakota  2000    485026.0    342568.0                 70.6   \n",
       "\n",
       "       Employed  PercentOfLaborEmp  Unemployed  PercentOfLaborUnemp Abrv  \n",
       "1670   484189.0               64.5     17881.0                  3.6   MT  \n",
       "2228  3273550.0               58.4    166205.0                  4.8   AZ  \n",
       "1427  2854762.0               62.0    228077.0                  7.4   WA  \n",
       "1379   302580.0               66.9     23821.0                  7.3   AL  \n",
       "1308   332407.0               68.5     10161.0                  3.0   ND  "
      ]
     },
     "execution_count": 31,
     "metadata": {},
     "output_type": "execute_result"
    }
   ],
   "source": [
    "df.sample(5)"
   ]
  },
  {
   "cell_type": "code",
   "execution_count": 13,
   "metadata": {
    "colab": {},
    "colab_type": "code",
    "id": "kKAmXymVmo6O"
   },
   "outputs": [],
   "source": [
    "# Un-pivoting\n",
    "# df.to_csv(Path.joinpath(Path.cwd(),'data','pctChangeGDP.csv'), index = False)"
   ]
  },
  {
   "cell_type": "markdown",
   "metadata": {
    "colab_type": "text",
    "id": "qlKVqbazmtwM"
   },
   "source": [
    "## Unemployment Data"
   ]
  },
  {
   "cell_type": "code",
   "execution_count": 35,
   "metadata": {
    "colab": {},
    "colab_type": "code",
    "id": "NZnyHN1qmuGj"
   },
   "outputs": [
    {
     "data": {
      "text/html": [
       "<div>\n",
       "<style scoped>\n",
       "    .dataframe tbody tr th:only-of-type {\n",
       "        vertical-align: middle;\n",
       "    }\n",
       "\n",
       "    .dataframe tbody tr th {\n",
       "        vertical-align: top;\n",
       "    }\n",
       "\n",
       "    .dataframe thead th {\n",
       "        text-align: right;\n",
       "    }\n",
       "</style>\n",
       "<table border=\"1\" class=\"dataframe\">\n",
       "  <thead>\n",
       "    <tr style=\"text-align: right;\">\n",
       "      <th></th>\n",
       "      <th>FIPS</th>\n",
       "      <th>Stata</th>\n",
       "      <th>Year</th>\n",
       "      <th>Population</th>\n",
       "      <th>LaborForce</th>\n",
       "      <th>PercentOfPopulation</th>\n",
       "      <th>Employed</th>\n",
       "      <th>PercentOfLaborEmp</th>\n",
       "      <th>Unemployed</th>\n",
       "      <th>PercentOfLaborUnemp</th>\n",
       "    </tr>\n",
       "  </thead>\n",
       "  <tbody>\n",
       "    <tr>\n",
       "      <th>526</th>\n",
       "      <td>53</td>\n",
       "      <td>Washington</td>\n",
       "      <td>1985</td>\n",
       "      <td>3258750.0</td>\n",
       "      <td>2097674.0</td>\n",
       "      <td>64.4</td>\n",
       "      <td>1922407.0</td>\n",
       "      <td>59.0</td>\n",
       "      <td>175267.0</td>\n",
       "      <td>8.4</td>\n",
       "    </tr>\n",
       "    <tr>\n",
       "      <th>791</th>\n",
       "      <td>53</td>\n",
       "      <td>Washington</td>\n",
       "      <td>1990</td>\n",
       "      <td>3676359.0</td>\n",
       "      <td>2525326.0</td>\n",
       "      <td>68.7</td>\n",
       "      <td>2392891.0</td>\n",
       "      <td>65.1</td>\n",
       "      <td>132435.0</td>\n",
       "      <td>5.2</td>\n",
       "    </tr>\n",
       "    <tr>\n",
       "      <th>119</th>\n",
       "      <td>16</td>\n",
       "      <td>Idaho</td>\n",
       "      <td>1978</td>\n",
       "      <td>631667.0</td>\n",
       "      <td>416943.0</td>\n",
       "      <td>66.0</td>\n",
       "      <td>394249.0</td>\n",
       "      <td>62.4</td>\n",
       "      <td>22694.0</td>\n",
       "      <td>5.4</td>\n",
       "    </tr>\n",
       "  </tbody>\n",
       "</table>\n",
       "</div>"
      ],
      "text/plain": [
       "     FIPS       Stata  Year  Population  LaborForce  PercentOfPopulation  \\\n",
       "526    53  Washington  1985   3258750.0   2097674.0                 64.4   \n",
       "791    53  Washington  1990   3676359.0   2525326.0                 68.7   \n",
       "119    16       Idaho  1978    631667.0    416943.0                 66.0   \n",
       "\n",
       "      Employed  PercentOfLaborEmp  Unemployed  PercentOfLaborUnemp  \n",
       "526  1922407.0               59.0    175267.0                  8.4  \n",
       "791  2392891.0               65.1    132435.0                  5.2  \n",
       "119   394249.0               62.4     22694.0                  5.4  "
      ]
     },
     "execution_count": 35,
     "metadata": {},
     "output_type": "execute_result"
    }
   ],
   "source": [
    "dataPath = Path.joinpath(Path.cwd(),'sourceData','unemployment.csv')\n",
    "df = pd.read_csv(dataPath)\n",
    "df.sample(3)"
   ]
  },
  {
   "cell_type": "code",
   "execution_count": 36,
   "metadata": {
    "colab": {},
    "colab_type": "code",
    "id": "kVpljKXdm6QF"
   },
   "outputs": [],
   "source": [
    "# rename GeoName to State\n",
    "df.rename(columns={'Stata':'State'}, inplace=True)"
   ]
  },
  {
   "cell_type": "code",
   "execution_count": 37,
   "metadata": {
    "colab": {},
    "colab_type": "code",
    "id": "Nk31fGeQnBLR"
   },
   "outputs": [
    {
     "name": "stdout",
     "output_type": "stream",
     "text": [
      "(2279, 11)\n",
      "(602, 11)\n"
     ]
    }
   ],
   "source": [
    "# get abbreviations\n",
    "df['Abrv'] = df['State'].apply(abbreviate)\n",
    "# drop unneeded rows\n",
    "# index of all rows where df['Abrv'] == ''\n",
    "print(df.shape)\n",
    "dropIndex = df.loc[df['Abrv']==''].index\n",
    "df.drop(dropIndex, inplace=True)\n",
    "print(df.shape)"
   ]
  },
  {
   "cell_type": "code",
   "execution_count": 38,
   "metadata": {},
   "outputs": [
    {
     "name": "stdout",
     "output_type": "stream",
     "text": [
      "(602, 11)\n",
      "(322, 11)\n"
     ]
    }
   ],
   "source": [
    "# drop unneeded rows\n",
    "# index of all rows where df['Year'] < 1996\n",
    "print(df.shape)\n",
    "dropIndex = df.loc[df['Year']<1996].index\n",
    "df.drop(dropIndex, inplace=True)\n",
    "print(df.shape)"
   ]
  },
  {
   "cell_type": "code",
   "execution_count": 39,
   "metadata": {},
   "outputs": [],
   "source": [
    "for col in ['Unemployed','Employed','LaborForce','Population']:\n",
    "    if col in list(df.columns):\n",
    "        df['UnemploymentRate'] = df['Unemployed'].div(df['Employed'])\n",
    "        df['LaborRate'] = df['LaborForce'].div(df['Population'])"
   ]
  },
  {
   "cell_type": "code",
   "execution_count": 40,
   "metadata": {},
   "outputs": [
    {
     "name": "stdout",
     "output_type": "stream",
     "text": [
      "(322, 13)\n",
      "removing: FIPS\n",
      "removing: Population\n",
      "removing: LaborForce\n",
      "removing: PercentOfPopulation\n",
      "removing: Employed\n",
      "removing: PercentOfLaborEmp\n",
      "removing: Unemployed\n",
      "removing: PercentOfLaborUnemp\n",
      "(322, 5)\n"
     ]
    }
   ],
   "source": [
    "# drop unneeded columns\n",
    "df = safeDrop(df, ['FIPS','PercentOfPopulation','PercentOfLaborEmp','PercentOfLaborUnemp','Population','LaborForce','Employed','Unemployed'])"
   ]
  },
  {
   "cell_type": "code",
   "execution_count": 41,
   "metadata": {
    "colab": {},
    "colab_type": "code",
    "id": "GJCA5wM4nHxo",
    "scrolled": true
   },
   "outputs": [
    {
     "data": {
      "text/html": [
       "<div>\n",
       "<style scoped>\n",
       "    .dataframe tbody tr th:only-of-type {\n",
       "        vertical-align: middle;\n",
       "    }\n",
       "\n",
       "    .dataframe tbody tr th {\n",
       "        vertical-align: top;\n",
       "    }\n",
       "\n",
       "    .dataframe thead th {\n",
       "        text-align: right;\n",
       "    }\n",
       "</style>\n",
       "<table border=\"1\" class=\"dataframe\">\n",
       "  <thead>\n",
       "    <tr style=\"text-align: right;\">\n",
       "      <th></th>\n",
       "      <th>State</th>\n",
       "      <th>Year</th>\n",
       "      <th>Abrv</th>\n",
       "      <th>UnemploymentRate</th>\n",
       "      <th>LaborRate</th>\n",
       "    </tr>\n",
       "  </thead>\n",
       "  <tbody>\n",
       "    <tr>\n",
       "      <th>1931</th>\n",
       "      <td>Michigan</td>\n",
       "      <td>2012</td>\n",
       "      <td>MI</td>\n",
       "      <td>0.100323</td>\n",
       "      <td>0.599791</td>\n",
       "    </tr>\n",
       "    <tr>\n",
       "      <th>1617</th>\n",
       "      <td>Montana</td>\n",
       "      <td>2006</td>\n",
       "      <td>MT</td>\n",
       "      <td>0.036184</td>\n",
       "      <td>0.667396</td>\n",
       "    </tr>\n",
       "    <tr>\n",
       "      <th>1750</th>\n",
       "      <td>Alaska</td>\n",
       "      <td>2009</td>\n",
       "      <td>AL</td>\n",
       "      <td>0.083953</td>\n",
       "      <td>0.702570</td>\n",
       "    </tr>\n",
       "  </tbody>\n",
       "</table>\n",
       "</div>"
      ],
      "text/plain": [
       "         State  Year Abrv  UnemploymentRate  LaborRate\n",
       "1931  Michigan  2012   MI          0.100323   0.599791\n",
       "1617   Montana  2006   MT          0.036184   0.667396\n",
       "1750    Alaska  2009   AL          0.083953   0.702570"
      ]
     },
     "execution_count": 41,
     "metadata": {},
     "output_type": "execute_result"
    }
   ],
   "source": [
    "df.sample(3)"
   ]
  },
  {
   "cell_type": "code",
   "execution_count": 36,
   "metadata": {
    "colab": {},
    "colab_type": "code",
    "id": "4nAk3cCAnK6h"
   },
   "outputs": [],
   "source": [
    "# Un-pivoting\n",
    "# df.to_csv(Path.joinpath(Path.cwd(),'data','unemployment.csv'), index = False)"
   ]
  },
  {
   "cell_type": "code",
   "execution_count": null,
   "metadata": {},
   "outputs": [],
   "source": []
  }
 ],
 "metadata": {
  "colab": {
   "include_colab_link": true,
   "name": "Untitled0.ipynb",
   "provenance": []
  },
  "kernelspec": {
   "display_name": "Python 3",
   "language": "python",
   "name": "python3"
  },
  "language_info": {
   "codemirror_mode": {
    "name": "ipython",
    "version": 3
   },
   "file_extension": ".py",
   "mimetype": "text/x-python",
   "name": "python",
   "nbconvert_exporter": "python",
   "pygments_lexer": "ipython3",
   "version": "3.6.5"
  }
 },
 "nbformat": 4,
 "nbformat_minor": 1
}
