{
 "cells": [
  {
   "cell_type": "markdown",
   "metadata": {
    "colab_type": "text",
    "id": "view-in-github"
   },
   "source": [
    "<a href=\"https://colab.research.google.com/github/maxrgnt/pythdc2-project2/blob/master/Clean2.ipynb\" target=\"_parent\"><img src=\"https://colab.research.google.com/assets/colab-badge.svg\" alt=\"Open In Colab\"/></a>"
   ]
  },
  {
   "cell_type": "code",
   "execution_count": 1,
   "metadata": {
    "colab": {},
    "colab_type": "code",
    "id": "OPerGvRxkaFE"
   },
   "outputs": [],
   "source": [
    "# Panel Data\n",
    "import pandas as pd\n",
    "# System folders\n",
    "import os\n",
    "from pathlib import Path"
   ]
  },
  {
   "cell_type": "code",
   "execution_count": 2,
   "metadata": {
    "colab": {},
    "colab_type": "code",
    "id": "g7yxFYyLkkUJ"
   },
   "outputs": [],
   "source": [
    "def abbreviate(stateName):\n",
    "    abrvDict = {'Alaska':'AL',\n",
    "                'Arizona':'AZ',\n",
    "                'California':'CA',\n",
    "                'Idaho':'ID',\n",
    "                'Maine':'ME',\n",
    "                'Michigan':'MI',\n",
    "                'Minnesota':'MN',\n",
    "                'Montana':'MT',\n",
    "                'New Mexico':'NM',\n",
    "                'New York':'NY',\n",
    "                'North Dakota':'ND',\n",
    "                'Ohio':'OH',\n",
    "                'Texas':'TX',\n",
    "                'Vermont':'VT',\n",
    "                'Washington':'WA'}\n",
    "    abrv = ''\n",
    "    if stateName in abrvDict:\n",
    "        abrv = abrvDict[stateName]\n",
    "    return abrv\n",
    "\n",
    "def safeDrop(df, cols):\n",
    "    print(df.shape)\n",
    "    for col in df.columns:\n",
    "        if col in cols:\n",
    "            print(f'removing: {col}')\n",
    "            df.drop([col], axis=1, inplace=True)\n",
    "    print(df.shape)\n",
    "    return df"
   ]
  },
  {
   "cell_type": "markdown",
   "metadata": {
    "colab_type": "text",
    "id": "KIpkC_p9k7_u"
   },
   "source": [
    "## Border Data"
   ]
  },
  {
   "cell_type": "code",
   "execution_count": 26,
   "metadata": {
    "colab": {},
    "colab_type": "code",
    "id": "gRrFbRyzk3iP"
   },
   "outputs": [
    {
     "data": {
      "text/html": [
       "<div>\n",
       "<style scoped>\n",
       "    .dataframe tbody tr th:only-of-type {\n",
       "        vertical-align: middle;\n",
       "    }\n",
       "\n",
       "    .dataframe tbody tr th {\n",
       "        vertical-align: top;\n",
       "    }\n",
       "\n",
       "    .dataframe thead th {\n",
       "        text-align: right;\n",
       "    }\n",
       "</style>\n",
       "<table border=\"1\" class=\"dataframe\">\n",
       "  <thead>\n",
       "    <tr style=\"text-align: right;\">\n",
       "      <th></th>\n",
       "      <th>Abrv</th>\n",
       "      <th>State</th>\n",
       "      <th>Longitude</th>\n",
       "      <th>Latitude</th>\n",
       "      <th>Border</th>\n",
       "      <th>Date</th>\n",
       "      <th>Measure</th>\n",
       "      <th>Value</th>\n",
       "    </tr>\n",
       "  </thead>\n",
       "  <tbody>\n",
       "    <tr>\n",
       "      <th>68230</th>\n",
       "      <td>WA</td>\n",
       "      <td>Washington</td>\n",
       "      <td>-118.22</td>\n",
       "      <td>49.00</td>\n",
       "      <td>US-Canada Border</td>\n",
       "      <td>5/1/2005 0:00</td>\n",
       "      <td>Bus Passengers</td>\n",
       "      <td>88</td>\n",
       "    </tr>\n",
       "    <tr>\n",
       "      <th>83296</th>\n",
       "      <td>MN</td>\n",
       "      <td>Minnesota</td>\n",
       "      <td>-93.40</td>\n",
       "      <td>48.61</td>\n",
       "      <td>US-Canada Border</td>\n",
       "      <td>6/1/2002 0:00</td>\n",
       "      <td>Pedestrians</td>\n",
       "      <td>3143</td>\n",
       "    </tr>\n",
       "    <tr>\n",
       "      <th>6628</th>\n",
       "      <td>ND</td>\n",
       "      <td>North Dakota</td>\n",
       "      <td>-100.56</td>\n",
       "      <td>49.00</td>\n",
       "      <td>US-Canada Border</td>\n",
       "      <td>2/1/2017 0:00</td>\n",
       "      <td>Personal Vehicle Passengers</td>\n",
       "      <td>2012</td>\n",
       "    </tr>\n",
       "  </tbody>\n",
       "</table>\n",
       "</div>"
      ],
      "text/plain": [
       "      Abrv         State  Longitude  Latitude            Border  \\\n",
       "68230   WA    Washington    -118.22     49.00  US-Canada Border   \n",
       "83296   MN     Minnesota     -93.40     48.61  US-Canada Border   \n",
       "6628    ND  North Dakota    -100.56     49.00  US-Canada Border   \n",
       "\n",
       "                Date                      Measure  Value  \n",
       "68230  5/1/2005 0:00               Bus Passengers     88  \n",
       "83296  6/1/2002 0:00                  Pedestrians   3143  \n",
       "6628   2/1/2017 0:00  Personal Vehicle Passengers   2012  "
      ]
     },
     "execution_count": 26,
     "metadata": {},
     "output_type": "execute_result"
    }
   ],
   "source": [
    "dataPath = Path.joinpath(Path.cwd(),'data','borderCrossing.csv')\n",
    "df = pd.read_csv(dataPath)\n",
    "df.sample(3)"
   ]
  },
  {
   "cell_type": "code",
   "execution_count": 27,
   "metadata": {
    "colab": {},
    "colab_type": "code",
    "id": "CLu7zPIklSAa"
   },
   "outputs": [
    {
     "data": {
      "text/plain": [
       "Personal Vehicle Passengers    30196\n",
       "Bus Passengers                 28820\n",
       "Pedestrians                    28697\n",
       "Train Passengers               27623\n",
       "Name: Measure, dtype: int64"
      ]
     },
     "execution_count": 27,
     "metadata": {},
     "output_type": "execute_result"
    }
   ],
   "source": [
    "df['Measure'].value_counts()"
   ]
  },
  {
   "cell_type": "code",
   "execution_count": 28,
   "metadata": {
    "colab": {},
    "colab_type": "code",
    "id": "-hhAnZkOlXSV"
   },
   "outputs": [],
   "source": [
    "# Only interested in Passenger / Pedestrian crossings\n",
    "people = df['Measure'].str.contains('Passengers|Pedestrians', case = False)"
   ]
  },
  {
   "cell_type": "code",
   "execution_count": 29,
   "metadata": {
    "colab": {},
    "colab_type": "code",
    "id": "dUc_9a7Flcyp"
   },
   "outputs": [
    {
     "name": "stdout",
     "output_type": "stream",
     "text": [
      "All measures: (115336, 8)\n",
      "Just people: (115336, 8)\n"
     ]
    }
   ],
   "source": [
    "# Check to see how much data frame shrinks after filtering down\n",
    "print(f'All measures: {df.shape}')\n",
    "#df = df[people] # This gave index error when re-running, changed to df.loc\n",
    "df = df.loc[people]\n",
    "print(f'Just people: {df.shape}')"
   ]
  },
  {
   "cell_type": "code",
   "execution_count": 30,
   "metadata": {
    "colab": {},
    "colab_type": "code",
    "id": "nK9sYDtPlnni"
   },
   "outputs": [],
   "source": [
    "# Break out Location into latitude and longitude,\n",
    "                # substring from 'POINT( ' to ')' and split on ' ' grabbing first then second element set as float,\n",
    "if 'Location' in df.columns:\n",
    "    df['Latitude'] = df['Location'].str[len('POINT ('):-1].str.split(' ').str[1].astype(float)\n",
    "    df['Longitude'] = df['Location'].str[len('POINT ('):-1].str.split(' ').str[0].astype(float)"
   ]
  },
  {
   "cell_type": "code",
   "execution_count": 31,
   "metadata": {
    "colab": {},
    "colab_type": "code",
    "id": "SgEJBkz5lvU8"
   },
   "outputs": [
    {
     "name": "stdout",
     "output_type": "stream",
     "text": [
      "(115336, 8)\n",
      "(115336, 8)\n"
     ]
    }
   ],
   "source": [
    "# Drop unnecessary columns\n",
    "df = safeDrop(df, ['Port Code','Port Name','Location','Unnamed: 0','index'])"
   ]
  },
  {
   "cell_type": "code",
   "execution_count": 32,
   "metadata": {
    "colab": {},
    "colab_type": "code",
    "id": "twbTAdZGl0GQ"
   },
   "outputs": [],
   "source": [
    "# Get state abrv\n",
    "df['Abrv'] = df['State'].apply(abbreviate)"
   ]
  },
  {
   "cell_type": "code",
   "execution_count": 33,
   "metadata": {},
   "outputs": [],
   "source": [
    "# Handle the Date column\n",
    "df['newDate'] = pd.to_datetime(df['Date'])\n",
    "df['Year'] = df['newDate'].dt.year.astype(int)"
   ]
  },
  {
   "cell_type": "code",
   "execution_count": 34,
   "metadata": {
    "colab": {},
    "colab_type": "code",
    "id": "rQIpVX1Vl48M"
   },
   "outputs": [],
   "source": [
    "# reorganize columns\n",
    "df = df[['Abrv','State','Longitude','Latitude','Border','Year','Measure','Value']]"
   ]
  },
  {
   "cell_type": "code",
   "execution_count": 35,
   "metadata": {
    "colab": {},
    "colab_type": "code",
    "id": "zgcNVoy9mDEQ",
    "scrolled": true
   },
   "outputs": [
    {
     "data": {
      "text/html": [
       "<div>\n",
       "<style scoped>\n",
       "    .dataframe tbody tr th:only-of-type {\n",
       "        vertical-align: middle;\n",
       "    }\n",
       "\n",
       "    .dataframe tbody tr th {\n",
       "        vertical-align: top;\n",
       "    }\n",
       "\n",
       "    .dataframe thead th {\n",
       "        text-align: right;\n",
       "    }\n",
       "</style>\n",
       "<table border=\"1\" class=\"dataframe\">\n",
       "  <thead>\n",
       "    <tr style=\"text-align: right;\">\n",
       "      <th></th>\n",
       "      <th>Abrv</th>\n",
       "      <th>State</th>\n",
       "      <th>Longitude</th>\n",
       "      <th>Latitude</th>\n",
       "      <th>Border</th>\n",
       "      <th>Year</th>\n",
       "      <th>Measure</th>\n",
       "      <th>Value</th>\n",
       "    </tr>\n",
       "  </thead>\n",
       "  <tbody>\n",
       "    <tr>\n",
       "      <th>0</th>\n",
       "      <td>NY</td>\n",
       "      <td>New York</td>\n",
       "      <td>-73.44253</td>\n",
       "      <td>44.99001</td>\n",
       "      <td>US-Canada Border</td>\n",
       "      <td>2019</td>\n",
       "      <td>Personal Vehicle Passengers</td>\n",
       "      <td>16377</td>\n",
       "    </tr>\n",
       "  </tbody>\n",
       "</table>\n",
       "</div>"
      ],
      "text/plain": [
       "  Abrv     State  Longitude  Latitude            Border  Year  \\\n",
       "0   NY  New York  -73.44253  44.99001  US-Canada Border  2019   \n",
       "\n",
       "                       Measure  Value  \n",
       "0  Personal Vehicle Passengers  16377  "
      ]
     },
     "execution_count": 35,
     "metadata": {},
     "output_type": "execute_result"
    }
   ],
   "source": [
    "df.head(1)"
   ]
  },
  {
   "cell_type": "code",
   "execution_count": 36,
   "metadata": {
    "colab": {},
    "colab_type": "code",
    "id": "hJMjmXHll88_"
   },
   "outputs": [],
   "source": [
    "# Remove non-pedestrian values to shrink file\n",
    "df.to_csv(Path.joinpath(Path.cwd(),'data','borderCrossing.csv'), index = False)"
   ]
  },
  {
   "cell_type": "markdown",
   "metadata": {
    "colab_type": "text",
    "id": "fvmjL7OnmHxm"
   },
   "source": [
    "## GDP Data"
   ]
  },
  {
   "cell_type": "code",
   "execution_count": 13,
   "metadata": {
    "colab": {},
    "colab_type": "code",
    "id": "_Puc3nxumFFP"
   },
   "outputs": [
    {
     "data": {
      "text/html": [
       "<div>\n",
       "<style scoped>\n",
       "    .dataframe tbody tr th:only-of-type {\n",
       "        vertical-align: middle;\n",
       "    }\n",
       "\n",
       "    .dataframe tbody tr th {\n",
       "        vertical-align: top;\n",
       "    }\n",
       "\n",
       "    .dataframe thead th {\n",
       "        text-align: right;\n",
       "    }\n",
       "</style>\n",
       "<table border=\"1\" class=\"dataframe\">\n",
       "  <thead>\n",
       "    <tr style=\"text-align: right;\">\n",
       "      <th></th>\n",
       "      <th>State</th>\n",
       "      <th>Abrv</th>\n",
       "      <th>Year</th>\n",
       "      <th>Value</th>\n",
       "    </tr>\n",
       "  </thead>\n",
       "  <tbody>\n",
       "    <tr>\n",
       "      <th>120</th>\n",
       "      <td>Alaska</td>\n",
       "      <td>AL</td>\n",
       "      <td>1972</td>\n",
       "      <td>8.0</td>\n",
       "    </tr>\n",
       "    <tr>\n",
       "      <th>94</th>\n",
       "      <td>Maine</td>\n",
       "      <td>ME</td>\n",
       "      <td>1970</td>\n",
       "      <td>7.2</td>\n",
       "    </tr>\n",
       "    <tr>\n",
       "      <th>568</th>\n",
       "      <td>Vermont</td>\n",
       "      <td>VT</td>\n",
       "      <td>2001</td>\n",
       "      <td>5.3</td>\n",
       "    </tr>\n",
       "  </tbody>\n",
       "</table>\n",
       "</div>"
      ],
      "text/plain": [
       "       State Abrv  Year  Value\n",
       "120   Alaska   AL  1972    8.0\n",
       "94     Maine   ME  1970    7.2\n",
       "568  Vermont   VT  2001    5.3"
      ]
     },
     "execution_count": 13,
     "metadata": {},
     "output_type": "execute_result"
    }
   ],
   "source": [
    "dataPath = Path.joinpath(Path.cwd(),'data','pctChangeGDP.csv')\n",
    "df = pd.read_csv(dataPath)\n",
    "df.sample(3)"
   ]
  },
  {
   "cell_type": "code",
   "execution_count": 14,
   "metadata": {
    "colab": {},
    "colab_type": "code",
    "id": "0O0e1o2EmOOy"
   },
   "outputs": [],
   "source": [
    "# rename GeoName to State\n",
    "df.rename(columns={'GeoName':'State'}, inplace=True)"
   ]
  },
  {
   "cell_type": "code",
   "execution_count": 15,
   "metadata": {
    "colab": {},
    "colab_type": "code",
    "id": "WtZtmbb9mSos"
   },
   "outputs": [],
   "source": [
    "# Get state abrv\n",
    "df['Abrv'] = df['State'].apply(abbreviate)"
   ]
  },
  {
   "cell_type": "code",
   "execution_count": 16,
   "metadata": {
    "colab": {},
    "colab_type": "code",
    "id": "IM8jPsFDmXbj"
   },
   "outputs": [],
   "source": [
    "# drop unneeded rows\\n\",\n",
    "# index of all rows where df['Abrv'] == ''\n",
    "dropIndex = df.loc[df['Abrv']==''].index\n",
    "df.drop(dropIndex, inplace=True)"
   ]
  },
  {
   "cell_type": "code",
   "execution_count": 17,
   "metadata": {
    "colab": {},
    "colab_type": "code",
    "id": "hVivlteBmc_S"
   },
   "outputs": [
    {
     "name": "stdout",
     "output_type": "stream",
     "text": [
      "(825, 4)\n",
      "(825, 4)\n"
     ]
    }
   ],
   "source": [
    "# SAFE DROP\n",
    "df = safeDrop(df, ['GeoFips'])"
   ]
  },
  {
   "cell_type": "code",
   "execution_count": 18,
   "metadata": {
    "colab": {},
    "colab_type": "code",
    "id": "xTX-tPbcmiTd"
   },
   "outputs": [],
   "source": [
    "if 'Year' not in df.columns:\n",
    "  df = pd.melt(df, id_vars=['State','Abrv'], var_name='Year', value_name = 'Value')"
   ]
  },
  {
   "cell_type": "code",
   "execution_count": 19,
   "metadata": {
    "colab": {},
    "colab_type": "code",
    "id": "CDY5cQvYmmrR"
   },
   "outputs": [
    {
     "data": {
      "text/html": [
       "<div>\n",
       "<style scoped>\n",
       "    .dataframe tbody tr th:only-of-type {\n",
       "        vertical-align: middle;\n",
       "    }\n",
       "\n",
       "    .dataframe tbody tr th {\n",
       "        vertical-align: top;\n",
       "    }\n",
       "\n",
       "    .dataframe thead th {\n",
       "        text-align: right;\n",
       "    }\n",
       "</style>\n",
       "<table border=\"1\" class=\"dataframe\">\n",
       "  <thead>\n",
       "    <tr style=\"text-align: right;\">\n",
       "      <th></th>\n",
       "      <th>State</th>\n",
       "      <th>Abrv</th>\n",
       "      <th>Year</th>\n",
       "      <th>Value</th>\n",
       "    </tr>\n",
       "  </thead>\n",
       "  <tbody>\n",
       "    <tr>\n",
       "      <th>0</th>\n",
       "      <td>Alaska</td>\n",
       "      <td>AL</td>\n",
       "      <td>1964</td>\n",
       "      <td>13.6</td>\n",
       "    </tr>\n",
       "    <tr>\n",
       "      <th>1</th>\n",
       "      <td>Arizona</td>\n",
       "      <td>AZ</td>\n",
       "      <td>1964</td>\n",
       "      <td>7.5</td>\n",
       "    </tr>\n",
       "    <tr>\n",
       "      <th>2</th>\n",
       "      <td>California</td>\n",
       "      <td>CA</td>\n",
       "      <td>1964</td>\n",
       "      <td>8.4</td>\n",
       "    </tr>\n",
       "    <tr>\n",
       "      <th>3</th>\n",
       "      <td>Idaho</td>\n",
       "      <td>ID</td>\n",
       "      <td>1964</td>\n",
       "      <td>5.7</td>\n",
       "    </tr>\n",
       "    <tr>\n",
       "      <th>4</th>\n",
       "      <td>Maine</td>\n",
       "      <td>ME</td>\n",
       "      <td>1964</td>\n",
       "      <td>7.6</td>\n",
       "    </tr>\n",
       "  </tbody>\n",
       "</table>\n",
       "</div>"
      ],
      "text/plain": [
       "        State Abrv  Year  Value\n",
       "0      Alaska   AL  1964   13.6\n",
       "1     Arizona   AZ  1964    7.5\n",
       "2  California   CA  1964    8.4\n",
       "3       Idaho   ID  1964    5.7\n",
       "4       Maine   ME  1964    7.6"
      ]
     },
     "execution_count": 19,
     "metadata": {},
     "output_type": "execute_result"
    }
   ],
   "source": [
    "df.head()"
   ]
  },
  {
   "cell_type": "code",
   "execution_count": 0,
   "metadata": {
    "colab": {},
    "colab_type": "code",
    "id": "kKAmXymVmo6O"
   },
   "outputs": [],
   "source": [
    "# Un-pivoting\n",
    "df.to_csv(Path.joinpath(Path.cwd(),'data','pctChangeGDP.csv'), index = False)"
   ]
  },
  {
   "cell_type": "markdown",
   "metadata": {
    "colab_type": "text",
    "id": "qlKVqbazmtwM"
   },
   "source": [
    "## Unemployment Data"
   ]
  },
  {
   "cell_type": "code",
   "execution_count": 20,
   "metadata": {
    "colab": {},
    "colab_type": "code",
    "id": "NZnyHN1qmuGj"
   },
   "outputs": [
    {
     "data": {
      "text/html": [
       "<div>\n",
       "<style scoped>\n",
       "    .dataframe tbody tr th:only-of-type {\n",
       "        vertical-align: middle;\n",
       "    }\n",
       "\n",
       "    .dataframe tbody tr th {\n",
       "        vertical-align: top;\n",
       "    }\n",
       "\n",
       "    .dataframe thead th {\n",
       "        text-align: right;\n",
       "    }\n",
       "</style>\n",
       "<table border=\"1\" class=\"dataframe\">\n",
       "  <thead>\n",
       "    <tr style=\"text-align: right;\">\n",
       "      <th></th>\n",
       "      <th>State</th>\n",
       "      <th>Year</th>\n",
       "      <th>Population</th>\n",
       "      <th>LaborForce</th>\n",
       "      <th>Employed</th>\n",
       "      <th>Unemployed</th>\n",
       "      <th>Abrv</th>\n",
       "    </tr>\n",
       "  </thead>\n",
       "  <tbody>\n",
       "    <tr>\n",
       "      <th>130</th>\n",
       "      <td>North Dakota</td>\n",
       "      <td>1984</td>\n",
       "      <td>489250.0</td>\n",
       "      <td>326772.0</td>\n",
       "      <td>309531.0</td>\n",
       "      <td>17241.0</td>\n",
       "      <td>ND</td>\n",
       "    </tr>\n",
       "    <tr>\n",
       "      <th>492</th>\n",
       "      <td>Texas</td>\n",
       "      <td>2008</td>\n",
       "      <td>17740350.0</td>\n",
       "      <td>11664390.0</td>\n",
       "      <td>11104115.0</td>\n",
       "      <td>560275.0</td>\n",
       "      <td>TX</td>\n",
       "    </tr>\n",
       "    <tr>\n",
       "      <th>121</th>\n",
       "      <td>Arizona</td>\n",
       "      <td>1984</td>\n",
       "      <td>2268833.0</td>\n",
       "      <td>1431770.0</td>\n",
       "      <td>1357616.0</td>\n",
       "      <td>74154.0</td>\n",
       "      <td>AZ</td>\n",
       "    </tr>\n",
       "  </tbody>\n",
       "</table>\n",
       "</div>"
      ],
      "text/plain": [
       "            State  Year  Population  LaborForce    Employed  Unemployed Abrv\n",
       "130  North Dakota  1984    489250.0    326772.0    309531.0     17241.0   ND\n",
       "492         Texas  2008  17740350.0  11664390.0  11104115.0    560275.0   TX\n",
       "121       Arizona  1984   2268833.0   1431770.0   1357616.0     74154.0   AZ"
      ]
     },
     "execution_count": 20,
     "metadata": {},
     "output_type": "execute_result"
    }
   ],
   "source": [
    "dataPath = Path.joinpath(Path.cwd(),'data','unemployment.csv')\n",
    "df = pd.read_csv(dataPath)\n",
    "df.sample(3)"
   ]
  },
  {
   "cell_type": "code",
   "execution_count": 21,
   "metadata": {
    "colab": {},
    "colab_type": "code",
    "id": "kVpljKXdm6QF"
   },
   "outputs": [],
   "source": [
    "# rename GeoName to State\n",
    "df.rename(columns={'Stata':'State'}, inplace=True)"
   ]
  },
  {
   "cell_type": "code",
   "execution_count": 22,
   "metadata": {
    "colab": {},
    "colab_type": "code",
    "id": "l_TU-AgZm97o"
   },
   "outputs": [
    {
     "name": "stdout",
     "output_type": "stream",
     "text": [
      "(645, 7)\n",
      "(645, 7)\n"
     ]
    }
   ],
   "source": [
    "# drop unneeded columns\n",
    "df = safeDrop(df, ['FIPS','PercentOfPopulation','PercentOfLaborEmp','PercentOfLaborUnemp'])"
   ]
  },
  {
   "cell_type": "code",
   "execution_count": 23,
   "metadata": {
    "colab": {},
    "colab_type": "code",
    "id": "Nk31fGeQnBLR"
   },
   "outputs": [],
   "source": [
    "# get abbreviations\n",
    "df['Abrv'] = df['State'].apply(abbreviate)\n",
    "# drop unneeded rows\n",
    "# index of all rows where df['Abrv'] == ''\n",
    "dropIndex = df.loc[df['Abrv']==''].index\n",
    "df.drop(dropIndex, inplace=True)"
   ]
  },
  {
   "cell_type": "code",
   "execution_count": 24,
   "metadata": {
    "colab": {},
    "colab_type": "code",
    "id": "GJCA5wM4nHxo"
   },
   "outputs": [
    {
     "data": {
      "text/html": [
       "<div>\n",
       "<style scoped>\n",
       "    .dataframe tbody tr th:only-of-type {\n",
       "        vertical-align: middle;\n",
       "    }\n",
       "\n",
       "    .dataframe tbody tr th {\n",
       "        vertical-align: top;\n",
       "    }\n",
       "\n",
       "    .dataframe thead th {\n",
       "        text-align: right;\n",
       "    }\n",
       "</style>\n",
       "<table border=\"1\" class=\"dataframe\">\n",
       "  <thead>\n",
       "    <tr style=\"text-align: right;\">\n",
       "      <th></th>\n",
       "      <th>State</th>\n",
       "      <th>Year</th>\n",
       "      <th>Population</th>\n",
       "      <th>LaborForce</th>\n",
       "      <th>Employed</th>\n",
       "      <th>Unemployed</th>\n",
       "      <th>Abrv</th>\n",
       "    </tr>\n",
       "  </thead>\n",
       "  <tbody>\n",
       "    <tr>\n",
       "      <th>212</th>\n",
       "      <td>California</td>\n",
       "      <td>1990</td>\n",
       "      <td>22598254.0</td>\n",
       "      <td>15138423.0</td>\n",
       "      <td>14264158.0</td>\n",
       "      <td>874265.0</td>\n",
       "      <td>CA</td>\n",
       "    </tr>\n",
       "    <tr>\n",
       "      <th>440</th>\n",
       "      <td>Michigan</td>\n",
       "      <td>2005</td>\n",
       "      <td>7736940.0</td>\n",
       "      <td>5083130.0</td>\n",
       "      <td>4738902.0</td>\n",
       "      <td>344228.0</td>\n",
       "      <td>MI</td>\n",
       "    </tr>\n",
       "    <tr>\n",
       "      <th>229</th>\n",
       "      <td>Maine</td>\n",
       "      <td>1991</td>\n",
       "      <td>943988.0</td>\n",
       "      <td>645139.0</td>\n",
       "      <td>596503.0</td>\n",
       "      <td>48636.0</td>\n",
       "      <td>ME</td>\n",
       "    </tr>\n",
       "  </tbody>\n",
       "</table>\n",
       "</div>"
      ],
      "text/plain": [
       "          State  Year  Population  LaborForce    Employed  Unemployed Abrv\n",
       "212  California  1990  22598254.0  15138423.0  14264158.0    874265.0   CA\n",
       "440    Michigan  2005   7736940.0   5083130.0   4738902.0    344228.0   MI\n",
       "229       Maine  1991    943988.0    645139.0    596503.0     48636.0   ME"
      ]
     },
     "execution_count": 24,
     "metadata": {},
     "output_type": "execute_result"
    }
   ],
   "source": [
    "df.sample(3)"
   ]
  },
  {
   "cell_type": "code",
   "execution_count": 0,
   "metadata": {
    "colab": {},
    "colab_type": "code",
    "id": "4nAk3cCAnK6h"
   },
   "outputs": [],
   "source": [
    "# Un-pivoting\n",
    "df.to_csv(Path.joinpath(Path.cwd(),'data','unemployment.csv'), index = False)"
   ]
  }
 ],
 "metadata": {
  "colab": {
   "include_colab_link": true,
   "name": "Untitled0.ipynb",
   "provenance": []
  },
  "kernelspec": {
   "display_name": "Python 3",
   "language": "python",
   "name": "python3"
  },
  "language_info": {
   "codemirror_mode": {
    "name": "ipython",
    "version": 3
   },
   "file_extension": ".py",
   "mimetype": "text/x-python",
   "name": "python",
   "nbconvert_exporter": "python",
   "pygments_lexer": "ipython3",
   "version": "3.6.5"
  }
 },
 "nbformat": 4,
 "nbformat_minor": 1
}
