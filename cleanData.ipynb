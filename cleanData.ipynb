{
 "cells": [
  {
   "cell_type": "markdown",
   "metadata": {
    "colab_type": "text",
    "id": "view-in-github"
   },
   "source": [
    "<a href=\"https://colab.research.google.com/github/maxrgnt/pythdc2-project2/blob/master/cleanBorderData.ipynb\" target=\"_parent\"><img src=\"https://colab.research.google.com/assets/colab-badge.svg\" alt=\"Open In Colab\"/></a>"
   ]
  },
  {
   "cell_type": "code",
   "execution_count": 2,
   "metadata": {
    "colab": {},
    "colab_type": "code",
    "id": "zZOjglh2iKLv",
    "outputId": "dfde44bb-fb29-4544-95e4-1c8e314a2ae4"
   },
   "outputs": [],
   "source": [
    "# Panel Data\n",
    "import pandas as pd\n",
    "# # System folders\n",
    "import os\n",
    "from pathlib import Path"
   ]
  },
  {
   "cell_type": "code",
   "execution_count": 3,
   "metadata": {},
   "outputs": [],
   "source": [
    "def abbreviate(stateName):\n",
    "    abrvDict = {'Alaska':'AL',\n",
    "               'Arizona':'AZ',\n",
    "               'California':'CA',\n",
    "               'Idaho':'ID',\n",
    "               'Maine':'ME',\n",
    "               'Michigan':'MI',\n",
    "               'Minnesota':'MN',\n",
    "               'Montana':'MT',\n",
    "               'New Mexico':'NM',\n",
    "               'New York':'NY',\n",
    "               'North Dakota':'ND',\n",
    "               'Ohio':'OH',\n",
    "               'Texas':'TX',\n",
    "               'Vermont':'VT',\n",
    "               'Washington':'WA'}\n",
    "    abrv = ''\n",
    "    if stateName in abrvDict:\n",
    "        abrv = abrvDict[stateName]\n",
    "    return abrv\n",
    "\n",
    "def safeDrop(df, cols):\n",
    "    print(df.shape)\n",
    "    for col in df.columns:\n",
    "        if col in cols:\n",
    "            print(f'removing: {col}')\n",
    "            df.drop([col], axis=1, inplace=True)\n",
    "    print(df.shape)\n",
    "    return df"
   ]
  },
  {
   "cell_type": "markdown",
   "metadata": {},
   "source": [
    "## Border Data"
   ]
  },
  {
   "cell_type": "code",
   "execution_count": 217,
   "metadata": {},
   "outputs": [
    {
     "data": {
      "text/html": [
       "<div>\n",
       "<style scoped>\n",
       "    .dataframe tbody tr th:only-of-type {\n",
       "        vertical-align: middle;\n",
       "    }\n",
       "\n",
       "    .dataframe tbody tr th {\n",
       "        vertical-align: top;\n",
       "    }\n",
       "\n",
       "    .dataframe thead th {\n",
       "        text-align: right;\n",
       "    }\n",
       "</style>\n",
       "<table border=\"1\" class=\"dataframe\">\n",
       "  <thead>\n",
       "    <tr style=\"text-align: right;\">\n",
       "      <th></th>\n",
       "      <th>Abrv</th>\n",
       "      <th>State</th>\n",
       "      <th>Longitude</th>\n",
       "      <th>Latitude</th>\n",
       "      <th>Border</th>\n",
       "      <th>Date</th>\n",
       "      <th>Measure</th>\n",
       "      <th>Value</th>\n",
       "    </tr>\n",
       "  </thead>\n",
       "  <tbody>\n",
       "    <tr>\n",
       "      <th>63294</th>\n",
       "      <td>MN</td>\n",
       "      <td>Minnesota</td>\n",
       "      <td>-94.59</td>\n",
       "      <td>48.72</td>\n",
       "      <td>US-Canada Border</td>\n",
       "      <td>4/1/2006 0:00</td>\n",
       "      <td>Train Passengers</td>\n",
       "      <td>313</td>\n",
       "    </tr>\n",
       "    <tr>\n",
       "      <th>51520</th>\n",
       "      <td>TX</td>\n",
       "      <td>Texas</td>\n",
       "      <td>-99.51</td>\n",
       "      <td>27.50</td>\n",
       "      <td>US-Mexico Border</td>\n",
       "      <td>6/1/2008 0:00</td>\n",
       "      <td>Personal Vehicle Passengers</td>\n",
       "      <td>1207569</td>\n",
       "    </tr>\n",
       "    <tr>\n",
       "      <th>48163</th>\n",
       "      <td>AZ</td>\n",
       "      <td>Arizona</td>\n",
       "      <td>-112.82</td>\n",
       "      <td>31.88</td>\n",
       "      <td>US-Mexico Border</td>\n",
       "      <td>2/1/2009 0:00</td>\n",
       "      <td>Personal Vehicle Passengers</td>\n",
       "      <td>74478</td>\n",
       "    </tr>\n",
       "  </tbody>\n",
       "</table>\n",
       "</div>"
      ],
      "text/plain": [
       "      Abrv      State  Longitude  Latitude            Border           Date  \\\n",
       "63294   MN  Minnesota     -94.59     48.72  US-Canada Border  4/1/2006 0:00   \n",
       "51520   TX      Texas     -99.51     27.50  US-Mexico Border  6/1/2008 0:00   \n",
       "48163   AZ    Arizona    -112.82     31.88  US-Mexico Border  2/1/2009 0:00   \n",
       "\n",
       "                           Measure    Value  \n",
       "63294             Train Passengers      313  \n",
       "51520  Personal Vehicle Passengers  1207569  \n",
       "48163  Personal Vehicle Passengers    74478  "
      ]
     },
     "execution_count": 217,
     "metadata": {},
     "output_type": "execute_result"
    }
   ],
   "source": [
    "dataPath = Path.joinpath(Path.cwd(),'data','borderCrossing.csv')\n",
    "df = pd.read_csv(dataPath)\n",
    "df.sample(3)"
   ]
  },
  {
   "cell_type": "code",
   "execution_count": 208,
   "metadata": {
    "colab": {},
    "colab_type": "code",
    "id": "h6ElHMthUy8y",
    "scrolled": true
   },
   "outputs": [
    {
     "data": {
      "text/plain": [
       "Personal Vehicle Passengers    30196\n",
       "Bus Passengers                 28820\n",
       "Pedestrians                    28697\n",
       "Train Passengers               27623\n",
       "Name: Measure, dtype: int64"
      ]
     },
     "execution_count": 208,
     "metadata": {},
     "output_type": "execute_result"
    }
   ],
   "source": [
    "df['Measure'].value_counts()"
   ]
  },
  {
   "cell_type": "code",
   "execution_count": 209,
   "metadata": {
    "colab": {},
    "colab_type": "code",
    "id": "xyQvAKLniKL2"
   },
   "outputs": [],
   "source": [
    "# Only interested in Passenger / Pedestrian crossings\n",
    "people = df['Measure'].str.contains('Passengers|Pedestrians', case = False)"
   ]
  },
  {
   "cell_type": "code",
   "execution_count": 210,
   "metadata": {
    "colab": {},
    "colab_type": "code",
    "id": "ROv9rm-_iKL7",
    "outputId": "a91c68a7-6bf5-45f0-ed5d-bb59f01f8916"
   },
   "outputs": [
    {
     "name": "stdout",
     "output_type": "stream",
     "text": [
      "All measures: (115336, 9)\n",
      "Just people: (115336, 9)\n"
     ]
    }
   ],
   "source": [
    "# Check to see how much data frame shrinks after filtering down\n",
    "print(f'All measures: {df.shape}')\n",
    "#df = df[people] # This gave index error when re-running, changed to df.loc\n",
    "df = df.loc[people]\n",
    "print(f'Just people: {df.shape}')"
   ]
  },
  {
   "cell_type": "code",
   "execution_count": 211,
   "metadata": {
    "colab": {},
    "colab_type": "code",
    "id": "cwloIalUVW-Y"
   },
   "outputs": [],
   "source": [
    "# Break out Location into latitude and longitude\n",
    "                # substring from 'POINT( ' to ')' and split on ' ' grabbing first then second element set as float\n",
    "if 'Location' in df.columns:\n",
    "    df['Latitude'] = df['Location'].str[len('POINT ('):-1].str.split(' ').str[1].astype(float)\n",
    "    df['Longitude'] = df['Location'].str[len('POINT ('):-1].str.split(' ').str[0].astype(float)"
   ]
  },
  {
   "cell_type": "code",
   "execution_count": 212,
   "metadata": {},
   "outputs": [
    {
     "name": "stdout",
     "output_type": "stream",
     "text": [
      "(115336, 9)\n",
      "removing: Unnamed: 0\n",
      "(115336, 8)\n"
     ]
    }
   ],
   "source": [
    "# Drop unnecessary columns \n",
    "df = safeDrop(df, ['Port Code','Port Name','Location','Unnamed: 0','index'])"
   ]
  },
  {
   "cell_type": "code",
   "execution_count": 213,
   "metadata": {},
   "outputs": [],
   "source": [
    "# Get state abrv\n",
    "df['Abrv'] = df['State'].apply(abbreviate)"
   ]
  },
  {
   "cell_type": "code",
   "execution_count": 214,
   "metadata": {},
   "outputs": [],
   "source": [
    "# reorganize columns\n",
    "df = df[['Abrv','State','Longitude','Latitude','Border','Date','Measure','Value']]"
   ]
  },
  {
   "cell_type": "code",
   "execution_count": 215,
   "metadata": {
    "scrolled": true
   },
   "outputs": [
    {
     "data": {
      "text/html": [
       "<div>\n",
       "<style scoped>\n",
       "    .dataframe tbody tr th:only-of-type {\n",
       "        vertical-align: middle;\n",
       "    }\n",
       "\n",
       "    .dataframe tbody tr th {\n",
       "        vertical-align: top;\n",
       "    }\n",
       "\n",
       "    .dataframe thead th {\n",
       "        text-align: right;\n",
       "    }\n",
       "</style>\n",
       "<table border=\"1\" class=\"dataframe\">\n",
       "  <thead>\n",
       "    <tr style=\"text-align: right;\">\n",
       "      <th></th>\n",
       "      <th>Abrv</th>\n",
       "      <th>State</th>\n",
       "      <th>Longitude</th>\n",
       "      <th>Latitude</th>\n",
       "      <th>Border</th>\n",
       "      <th>Date</th>\n",
       "      <th>Measure</th>\n",
       "      <th>Value</th>\n",
       "    </tr>\n",
       "  </thead>\n",
       "  <tbody>\n",
       "    <tr>\n",
       "      <th>0</th>\n",
       "      <td>NY</td>\n",
       "      <td>New York</td>\n",
       "      <td>-73.44253</td>\n",
       "      <td>44.99001</td>\n",
       "      <td>US-Canada Border</td>\n",
       "      <td>3/1/2019 0:00</td>\n",
       "      <td>Personal Vehicle Passengers</td>\n",
       "      <td>16377</td>\n",
       "    </tr>\n",
       "    <tr>\n",
       "      <th>1</th>\n",
       "      <td>ND</td>\n",
       "      <td>North Dakota</td>\n",
       "      <td>-97.24333</td>\n",
       "      <td>48.96639</td>\n",
       "      <td>US-Canada Border</td>\n",
       "      <td>3/1/2019 0:00</td>\n",
       "      <td>Bus Passengers</td>\n",
       "      <td>1054</td>\n",
       "    </tr>\n",
       "    <tr>\n",
       "      <th>2</th>\n",
       "      <td>ND</td>\n",
       "      <td>North Dakota</td>\n",
       "      <td>-98.99457</td>\n",
       "      <td>48.94105</td>\n",
       "      <td>US-Canada Border</td>\n",
       "      <td>3/1/2019 0:00</td>\n",
       "      <td>Personal Vehicle Passengers</td>\n",
       "      <td>509</td>\n",
       "    </tr>\n",
       "    <tr>\n",
       "      <th>3</th>\n",
       "      <td>WA</td>\n",
       "      <td>Washington</td>\n",
       "      <td>-122.44316</td>\n",
       "      <td>48.94802</td>\n",
       "      <td>US-Canada Border</td>\n",
       "      <td>3/1/2019 0:00</td>\n",
       "      <td>Pedestrians</td>\n",
       "      <td>79</td>\n",
       "    </tr>\n",
       "    <tr>\n",
       "      <th>4</th>\n",
       "      <td>ME</td>\n",
       "      <td>Maine</td>\n",
       "      <td>-67.42955</td>\n",
       "      <td>45.55984</td>\n",
       "      <td>US-Canada Border</td>\n",
       "      <td>3/1/2019 0:00</td>\n",
       "      <td>Pedestrians</td>\n",
       "      <td>3</td>\n",
       "    </tr>\n",
       "  </tbody>\n",
       "</table>\n",
       "</div>"
      ],
      "text/plain": [
       "  Abrv         State  Longitude  Latitude            Border           Date  \\\n",
       "0   NY      New York  -73.44253  44.99001  US-Canada Border  3/1/2019 0:00   \n",
       "1   ND  North Dakota  -97.24333  48.96639  US-Canada Border  3/1/2019 0:00   \n",
       "2   ND  North Dakota  -98.99457  48.94105  US-Canada Border  3/1/2019 0:00   \n",
       "3   WA    Washington -122.44316  48.94802  US-Canada Border  3/1/2019 0:00   \n",
       "4   ME         Maine  -67.42955  45.55984  US-Canada Border  3/1/2019 0:00   \n",
       "\n",
       "                       Measure  Value  \n",
       "0  Personal Vehicle Passengers  16377  \n",
       "1               Bus Passengers   1054  \n",
       "2  Personal Vehicle Passengers    509  \n",
       "3                  Pedestrians     79  \n",
       "4                  Pedestrians      3  "
      ]
     },
     "execution_count": 215,
     "metadata": {},
     "output_type": "execute_result"
    }
   ],
   "source": [
    "df.head()"
   ]
  },
  {
   "cell_type": "code",
   "execution_count": 216,
   "metadata": {
    "colab": {},
    "colab_type": "code",
    "id": "wLZSXrjpiKL-"
   },
   "outputs": [],
   "source": [
    "# Remove non-pedestrian values to shrink file\n",
    "df.to_csv(Path.joinpath(Path.cwd(),'data','borderCrossing.csv'), index = False)"
   ]
  },
  {
   "cell_type": "markdown",
   "metadata": {},
   "source": [
    "## GDP Data"
   ]
  },
  {
   "cell_type": "code",
   "execution_count": 234,
   "metadata": {},
   "outputs": [
    {
     "data": {
      "text/html": [
       "<div>\n",
       "<style scoped>\n",
       "    .dataframe tbody tr th:only-of-type {\n",
       "        vertical-align: middle;\n",
       "    }\n",
       "\n",
       "    .dataframe tbody tr th {\n",
       "        vertical-align: top;\n",
       "    }\n",
       "\n",
       "    .dataframe thead th {\n",
       "        text-align: right;\n",
       "    }\n",
       "</style>\n",
       "<table border=\"1\" class=\"dataframe\">\n",
       "  <thead>\n",
       "    <tr style=\"text-align: right;\">\n",
       "      <th></th>\n",
       "      <th>State</th>\n",
       "      <th>Abrv</th>\n",
       "      <th>Year</th>\n",
       "      <th>Value</th>\n",
       "    </tr>\n",
       "  </thead>\n",
       "  <tbody>\n",
       "    <tr>\n",
       "      <th>39</th>\n",
       "      <td>New York</td>\n",
       "      <td>NY</td>\n",
       "      <td>1966</td>\n",
       "      <td>7.7</td>\n",
       "    </tr>\n",
       "    <tr>\n",
       "      <th>223</th>\n",
       "      <td>Vermont</td>\n",
       "      <td>VT</td>\n",
       "      <td>1978</td>\n",
       "      <td>17.8</td>\n",
       "    </tr>\n",
       "    <tr>\n",
       "      <th>87</th>\n",
       "      <td>Texas</td>\n",
       "      <td>TX</td>\n",
       "      <td>1969</td>\n",
       "      <td>9.2</td>\n",
       "    </tr>\n",
       "  </tbody>\n",
       "</table>\n",
       "</div>"
      ],
      "text/plain": [
       "        State Abrv  Year  Value\n",
       "39   New York   NY  1966    7.7\n",
       "223   Vermont   VT  1978   17.8\n",
       "87      Texas   TX  1969    9.2"
      ]
     },
     "execution_count": 234,
     "metadata": {},
     "output_type": "execute_result"
    }
   ],
   "source": [
    "dataPath = Path.joinpath(Path.cwd(),'data','pctChangeGDP.csv')\n",
    "df = pd.read_csv(dataPath)\n",
    "df.sample(3)"
   ]
  },
  {
   "cell_type": "code",
   "execution_count": 220,
   "metadata": {},
   "outputs": [],
   "source": [
    "# rename GeoName to State\n",
    "df.rename(columns={'GeoName':'State'}, inplace=True)"
   ]
  },
  {
   "cell_type": "code",
   "execution_count": 221,
   "metadata": {},
   "outputs": [],
   "source": [
    "# Get state abrv\n",
    "df['Abrv'] = df['State'].apply(abbreviate)"
   ]
  },
  {
   "cell_type": "code",
   "execution_count": 225,
   "metadata": {},
   "outputs": [],
   "source": [
    "# drop unneeded rows\n",
    "# index of all rows where df['Abrv'] == ''\n",
    "dropIndex = df.loc[df['Abrv']==''].index\n",
    "df.drop(dropIndex, inplace=True)"
   ]
  },
  {
   "cell_type": "code",
   "execution_count": 226,
   "metadata": {},
   "outputs": [
    {
     "name": "stdout",
     "output_type": "stream",
     "text": [
      "(15, 57)\n",
      "(15, 57)\n"
     ]
    }
   ],
   "source": [
    "# SAFE DROP\n",
    "df = safeDrop(df, ['GeoFips'])"
   ]
  },
  {
   "cell_type": "code",
   "execution_count": 235,
   "metadata": {},
   "outputs": [],
   "source": [
    "if 'Year' not in df.columns:\n",
    "    df = pd.melt(df, id_vars=['State','Abrv'], var_name='Year', value_name = 'Value')"
   ]
  },
  {
   "cell_type": "code",
   "execution_count": 236,
   "metadata": {},
   "outputs": [
    {
     "data": {
      "text/html": [
       "<div>\n",
       "<style scoped>\n",
       "    .dataframe tbody tr th:only-of-type {\n",
       "        vertical-align: middle;\n",
       "    }\n",
       "\n",
       "    .dataframe tbody tr th {\n",
       "        vertical-align: top;\n",
       "    }\n",
       "\n",
       "    .dataframe thead th {\n",
       "        text-align: right;\n",
       "    }\n",
       "</style>\n",
       "<table border=\"1\" class=\"dataframe\">\n",
       "  <thead>\n",
       "    <tr style=\"text-align: right;\">\n",
       "      <th></th>\n",
       "      <th>State</th>\n",
       "      <th>Abrv</th>\n",
       "      <th>Year</th>\n",
       "      <th>Value</th>\n",
       "    </tr>\n",
       "  </thead>\n",
       "  <tbody>\n",
       "    <tr>\n",
       "      <th>0</th>\n",
       "      <td>Alaska</td>\n",
       "      <td>AL</td>\n",
       "      <td>1964</td>\n",
       "      <td>13.6</td>\n",
       "    </tr>\n",
       "    <tr>\n",
       "      <th>1</th>\n",
       "      <td>Arizona</td>\n",
       "      <td>AZ</td>\n",
       "      <td>1964</td>\n",
       "      <td>7.5</td>\n",
       "    </tr>\n",
       "    <tr>\n",
       "      <th>2</th>\n",
       "      <td>California</td>\n",
       "      <td>CA</td>\n",
       "      <td>1964</td>\n",
       "      <td>8.4</td>\n",
       "    </tr>\n",
       "    <tr>\n",
       "      <th>3</th>\n",
       "      <td>Idaho</td>\n",
       "      <td>ID</td>\n",
       "      <td>1964</td>\n",
       "      <td>5.7</td>\n",
       "    </tr>\n",
       "    <tr>\n",
       "      <th>4</th>\n",
       "      <td>Maine</td>\n",
       "      <td>ME</td>\n",
       "      <td>1964</td>\n",
       "      <td>7.6</td>\n",
       "    </tr>\n",
       "  </tbody>\n",
       "</table>\n",
       "</div>"
      ],
      "text/plain": [
       "        State Abrv  Year  Value\n",
       "0      Alaska   AL  1964   13.6\n",
       "1     Arizona   AZ  1964    7.5\n",
       "2  California   CA  1964    8.4\n",
       "3       Idaho   ID  1964    5.7\n",
       "4       Maine   ME  1964    7.6"
      ]
     },
     "execution_count": 236,
     "metadata": {},
     "output_type": "execute_result"
    }
   ],
   "source": [
    "df.head()"
   ]
  },
  {
   "cell_type": "code",
   "execution_count": 233,
   "metadata": {},
   "outputs": [],
   "source": [
    "# Un-pivoting\n",
    "df.to_csv(Path.joinpath(Path.cwd(),'data','pctChangeGDP.csv'), index = False)"
   ]
  },
  {
   "cell_type": "markdown",
   "metadata": {},
   "source": [
    "## Unemployment Data"
   ]
  },
  {
   "cell_type": "code",
   "execution_count": 4,
   "metadata": {},
   "outputs": [
    {
     "data": {
      "text/html": [
       "<div>\n",
       "<style scoped>\n",
       "    .dataframe tbody tr th:only-of-type {\n",
       "        vertical-align: middle;\n",
       "    }\n",
       "\n",
       "    .dataframe tbody tr th {\n",
       "        vertical-align: top;\n",
       "    }\n",
       "\n",
       "    .dataframe thead th {\n",
       "        text-align: right;\n",
       "    }\n",
       "</style>\n",
       "<table border=\"1\" class=\"dataframe\">\n",
       "  <thead>\n",
       "    <tr style=\"text-align: right;\">\n",
       "      <th></th>\n",
       "      <th>FIPS</th>\n",
       "      <th>Stata</th>\n",
       "      <th>Year</th>\n",
       "      <th>Population</th>\n",
       "      <th>LaborForce</th>\n",
       "      <th>PercentOfPopulation</th>\n",
       "      <th>Employed</th>\n",
       "      <th>PercentOfLaborEmp</th>\n",
       "      <th>Unemployed</th>\n",
       "      <th>PercentOfLaborUnemp</th>\n",
       "    </tr>\n",
       "  </thead>\n",
       "  <tbody>\n",
       "    <tr>\n",
       "      <th>1998</th>\n",
       "      <td>39</td>\n",
       "      <td>Ohio</td>\n",
       "      <td>2013</td>\n",
       "      <td>9057552.0</td>\n",
       "      <td>5716730.0</td>\n",
       "      <td>63.1</td>\n",
       "      <td>5290609.0</td>\n",
       "      <td>58.4</td>\n",
       "      <td>426121.0</td>\n",
       "      <td>7.5</td>\n",
       "    </tr>\n",
       "    <tr>\n",
       "      <th>2119</th>\n",
       "      <td>56</td>\n",
       "      <td>Wyoming</td>\n",
       "      <td>2015</td>\n",
       "      <td>450698.0</td>\n",
       "      <td>304403.0</td>\n",
       "      <td>67.5</td>\n",
       "      <td>291295.0</td>\n",
       "      <td>64.6</td>\n",
       "      <td>13108.0</td>\n",
       "      <td>4.3</td>\n",
       "    </tr>\n",
       "    <tr>\n",
       "      <th>545</th>\n",
       "      <td>18</td>\n",
       "      <td>Indiana</td>\n",
       "      <td>1986</td>\n",
       "      <td>4120000.0</td>\n",
       "      <td>2748410.0</td>\n",
       "      <td>66.7</td>\n",
       "      <td>2560101.0</td>\n",
       "      <td>62.1</td>\n",
       "      <td>188309.0</td>\n",
       "      <td>6.9</td>\n",
       "    </tr>\n",
       "  </tbody>\n",
       "</table>\n",
       "</div>"
      ],
      "text/plain": [
       "      FIPS    Stata  Year  Population  LaborForce  PercentOfPopulation  \\\n",
       "1998    39     Ohio  2013   9057552.0   5716730.0                 63.1   \n",
       "2119    56  Wyoming  2015    450698.0    304403.0                 67.5   \n",
       "545     18  Indiana  1986   4120000.0   2748410.0                 66.7   \n",
       "\n",
       "       Employed  PercentOfLaborEmp  Unemployed  PercentOfLaborUnemp  \n",
       "1998  5290609.0               58.4    426121.0                  7.5  \n",
       "2119   291295.0               64.6     13108.0                  4.3  \n",
       "545   2560101.0               62.1    188309.0                  6.9  "
      ]
     },
     "execution_count": 4,
     "metadata": {},
     "output_type": "execute_result"
    }
   ],
   "source": [
    "dataPath = Path.joinpath(Path.cwd(),'data','unemployment.csv')\n",
    "df = pd.read_csv(dataPath)\n",
    "df.sample(3)"
   ]
  },
  {
   "cell_type": "code",
   "execution_count": 5,
   "metadata": {},
   "outputs": [],
   "source": [
    "# rename GeoName to State\n",
    "df.rename(columns={'Stata':'State'}, inplace=True)"
   ]
  },
  {
   "cell_type": "code",
   "execution_count": 11,
   "metadata": {},
   "outputs": [
    {
     "name": "stdout",
     "output_type": "stream",
     "text": [
      "(2279, 6)\n",
      "(2279, 6)\n"
     ]
    }
   ],
   "source": [
    "# drop unneeded columns\n",
    "df = safeDrop(df, ['FIPS','PercentOfPopulation','PercentOfLaborEmp','PercentOfLaborUnemp'])"
   ]
  },
  {
   "cell_type": "code",
   "execution_count": 17,
   "metadata": {},
   "outputs": [],
   "source": [
    "# get abbreviations\n",
    "df['Abrv'] = df['State'].apply(abbreviate)\n",
    "# drop unneeded rows\n",
    "# index of all rows where df['Abrv'] == ''\n",
    "dropIndex = df.loc[df['Abrv']==''].index\n",
    "df.drop(dropIndex, inplace=True)"
   ]
  },
  {
   "cell_type": "code",
   "execution_count": 18,
   "metadata": {
    "scrolled": true
   },
   "outputs": [
    {
     "data": {
      "text/html": [
       "<div>\n",
       "<style scoped>\n",
       "    .dataframe tbody tr th:only-of-type {\n",
       "        vertical-align: middle;\n",
       "    }\n",
       "\n",
       "    .dataframe tbody tr th {\n",
       "        vertical-align: top;\n",
       "    }\n",
       "\n",
       "    .dataframe thead th {\n",
       "        text-align: right;\n",
       "    }\n",
       "</style>\n",
       "<table border=\"1\" class=\"dataframe\">\n",
       "  <thead>\n",
       "    <tr style=\"text-align: right;\">\n",
       "      <th></th>\n",
       "      <th>State</th>\n",
       "      <th>Year</th>\n",
       "      <th>Population</th>\n",
       "      <th>LaborForce</th>\n",
       "      <th>Employed</th>\n",
       "      <th>Unemployed</th>\n",
       "      <th>Abrv</th>\n",
       "    </tr>\n",
       "  </thead>\n",
       "  <tbody>\n",
       "    <tr>\n",
       "      <th>2152</th>\n",
       "      <td>New Mexico</td>\n",
       "      <td>2016</td>\n",
       "      <td>1618355.0</td>\n",
       "      <td>936348.0</td>\n",
       "      <td>874424.0</td>\n",
       "      <td>61924.0</td>\n",
       "      <td>NM</td>\n",
       "    </tr>\n",
       "    <tr>\n",
       "      <th>1003</th>\n",
       "      <td>Washington</td>\n",
       "      <td>1994</td>\n",
       "      <td>4036254.0</td>\n",
       "      <td>2739472.0</td>\n",
       "      <td>2559932.0</td>\n",
       "      <td>179540.0</td>\n",
       "      <td>WA</td>\n",
       "    </tr>\n",
       "    <tr>\n",
       "      <th>172</th>\n",
       "      <td>Idaho</td>\n",
       "      <td>1979</td>\n",
       "      <td>647917.0</td>\n",
       "      <td>429329.0</td>\n",
       "      <td>404370.0</td>\n",
       "      <td>24959.0</td>\n",
       "      <td>ID</td>\n",
       "    </tr>\n",
       "  </tbody>\n",
       "</table>\n",
       "</div>"
      ],
      "text/plain": [
       "           State  Year  Population  LaborForce   Employed  Unemployed Abrv\n",
       "2152  New Mexico  2016   1618355.0    936348.0   874424.0     61924.0   NM\n",
       "1003  Washington  1994   4036254.0   2739472.0  2559932.0    179540.0   WA\n",
       "172        Idaho  1979    647917.0    429329.0   404370.0     24959.0   ID"
      ]
     },
     "execution_count": 18,
     "metadata": {},
     "output_type": "execute_result"
    }
   ],
   "source": [
    "df.sample(3)"
   ]
  },
  {
   "cell_type": "code",
   "execution_count": 19,
   "metadata": {},
   "outputs": [],
   "source": [
    "# Un-pivoting\n",
    "df.to_csv(Path.joinpath(Path.cwd(),'data','unemployment.csv'), index = False)"
   ]
  },
  {
   "cell_type": "code",
   "execution_count": null,
   "metadata": {},
   "outputs": [],
   "source": []
  }
 ],
 "metadata": {
  "colab": {
   "include_colab_link": true,
   "name": "cleanBorderData.ipynb",
   "provenance": []
  },
  "kernelspec": {
   "display_name": "Python 3",
   "language": "python",
   "name": "python3"
  },
  "language_info": {
   "codemirror_mode": {
    "name": "ipython",
    "version": 3
   },
   "file_extension": ".py",
   "mimetype": "text/x-python",
   "name": "python",
   "nbconvert_exporter": "python",
   "pygments_lexer": "ipython3",
   "version": "3.6.5"
  }
 },
 "nbformat": 4,
 "nbformat_minor": 1
}
