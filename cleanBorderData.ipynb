{
  "nbformat": 4,
  "nbformat_minor": 0,
  "metadata": {
    "kernelspec": {
      "display_name": "Python 3",
      "language": "python",
      "name": "python3"
    },
    "language_info": {
      "codemirror_mode": {
        "name": "ipython",
        "version": 3
      },
      "file_extension": ".py",
      "mimetype": "text/x-python",
      "name": "python",
      "nbconvert_exporter": "python",
      "pygments_lexer": "ipython3",
      "version": "3.6.5"
    },
    "colab": {
      "name": "cleanBorderData.ipynb",
      "provenance": [],
      "include_colab_link": true
    }
  },
  "cells": [
    {
      "cell_type": "markdown",
      "metadata": {
        "id": "view-in-github",
        "colab_type": "text"
      },
      "source": [
        "<a href=\"https://colab.research.google.com/github/maxrgnt/pythdc2-project2/blob/master/cleanBorderData.ipynb\" target=\"_parent\"><img src=\"https://colab.research.google.com/assets/colab-badge.svg\" alt=\"Open In Colab\"/></a>"
      ]
    },
    {
      "cell_type": "code",
      "metadata": {
        "id": "zZOjglh2iKLv",
        "colab_type": "code",
        "outputId": "dfde44bb-fb29-4544-95e4-1c8e314a2ae4",
        "colab": {}
      },
      "source": [
        "\n",
        "# Panel Data\n",
        "import pandas as pd\n",
        "# # System folders\n",
        "import os\n",
        "from pathlib import Path\n",
        "\n",
        "dataPath = Path.joinpath(Path.cwd(),'data','borderCrossing.csv')\n",
        "df = pd.read_csv(dataPath)\n",
        "df.sample(3)\n",
        "\n",
        "# read in the data\n",
        "# url='https://raw.githubusercontent.com/maxrgnt/pythdc2-project2/master/data/borderCrossing.csv'\n",
        "# df = pd.read_csv(url)\n",
        "# df.sample(3)\n"
      ],
      "execution_count": 0,
      "outputs": [
        {
          "output_type": "execute_result",
          "data": {
            "text/html": [
              "<div>\n",
              "<style scoped>\n",
              "    .dataframe tbody tr th:only-of-type {\n",
              "        vertical-align: middle;\n",
              "    }\n",
              "\n",
              "    .dataframe tbody tr th {\n",
              "        vertical-align: top;\n",
              "    }\n",
              "\n",
              "    .dataframe thead th {\n",
              "        text-align: right;\n",
              "    }\n",
              "</style>\n",
              "<table border=\"1\" class=\"dataframe\">\n",
              "  <thead>\n",
              "    <tr style=\"text-align: right;\">\n",
              "      <th></th>\n",
              "      <th>Port Name</th>\n",
              "      <th>State</th>\n",
              "      <th>Port Code</th>\n",
              "      <th>Border</th>\n",
              "      <th>Date</th>\n",
              "      <th>Measure</th>\n",
              "      <th>Value</th>\n",
              "      <th>Location</th>\n",
              "    </tr>\n",
              "  </thead>\n",
              "  <tbody>\n",
              "    <tr>\n",
              "      <th>154066</th>\n",
              "      <td>Westhope</td>\n",
              "      <td>North Dakota</td>\n",
              "      <td>3419</td>\n",
              "      <td>US-Canada Border</td>\n",
              "      <td>7/1/2008 0:00</td>\n",
              "      <td>Train Passengers</td>\n",
              "      <td>0</td>\n",
              "      <td>POINT (-101.02 49)</td>\n",
              "    </tr>\n",
              "    <tr>\n",
              "      <th>314367</th>\n",
              "      <td>Neche</td>\n",
              "      <td>North Dakota</td>\n",
              "      <td>3404</td>\n",
              "      <td>US-Canada Border</td>\n",
              "      <td>3/1/1998 0:00</td>\n",
              "      <td>Trains</td>\n",
              "      <td>0</td>\n",
              "      <td>POINT (-97.56 49)</td>\n",
              "    </tr>\n",
              "    <tr>\n",
              "      <th>126925</th>\n",
              "      <td>Del Rio</td>\n",
              "      <td>Texas</td>\n",
              "      <td>2302</td>\n",
              "      <td>US-Mexico Border</td>\n",
              "      <td>3/1/2010 0:00</td>\n",
              "      <td>Personal Vehicles</td>\n",
              "      <td>112247</td>\n",
              "      <td>POINT (-100.93 29.330000000000002)</td>\n",
              "    </tr>\n",
              "  </tbody>\n",
              "</table>\n",
              "</div>"
            ],
            "text/plain": [
              "       Port Name         State  Port Code            Border           Date  \\\n",
              "154066  Westhope  North Dakota       3419  US-Canada Border  7/1/2008 0:00   \n",
              "314367     Neche  North Dakota       3404  US-Canada Border  3/1/1998 0:00   \n",
              "126925   Del Rio         Texas       2302  US-Mexico Border  3/1/2010 0:00   \n",
              "\n",
              "                  Measure   Value                            Location  \n",
              "154066   Train Passengers       0                  POINT (-101.02 49)  \n",
              "314367             Trains       0                   POINT (-97.56 49)  \n",
              "126925  Personal Vehicles  112247  POINT (-100.93 29.330000000000002)  "
            ]
          },
          "metadata": {
            "tags": []
          },
          "execution_count": 4
        }
      ]
    },
    {
      "cell_type": "code",
      "metadata": {
        "id": "h6ElHMthUy8y",
        "colab_type": "code",
        "colab": {}
      },
      "source": [
        "df['Measure'].value_counts()"
      ],
      "execution_count": 0,
      "outputs": []
    },
    {
      "cell_type": "code",
      "metadata": {
        "id": "xyQvAKLniKL2",
        "colab_type": "code",
        "colab": {}
      },
      "source": [
        "# Only interested in Passenger / Pedestrian crossings\n",
        "people = df['Measure'].str.contains('Passengers|Pedestrians', case = False)"
      ],
      "execution_count": 0,
      "outputs": []
    },
    {
      "cell_type": "code",
      "metadata": {
        "id": "ROv9rm-_iKL7",
        "colab_type": "code",
        "outputId": "a91c68a7-6bf5-45f0-ed5d-bb59f01f8916",
        "colab": {}
      },
      "source": [
        "# Check to see how much data frame shrinks after filtering down\n",
        "print(f'All measures: {df.shape}')\n",
        "#df = df[people] # This gave index error when re-running, changed to df.loc\n",
        "df = df.loc[people]\n",
        "print(f'Just people: {df.shape}')"
      ],
      "execution_count": 0,
      "outputs": [
        {
          "output_type": "stream",
          "text": [
            "All measures: (346733, 8)\n",
            "Just people: (115336, 8)\n"
          ],
          "name": "stdout"
        }
      ]
    },
    {
      "cell_type": "code",
      "metadata": {
        "id": "ITixFVTFU8xA",
        "colab_type": "code",
        "colab": {}
      },
      "source": [
        "# Drop unnecessary columns \n",
        "df.drop(['Port Code','Port Name'],axis=1,inplace=True)"
      ],
      "execution_count": 0,
      "outputs": []
    },
    {
      "cell_type": "code",
      "metadata": {
        "id": "cwloIalUVW-Y",
        "colab_type": "code",
        "colab": {}
      },
      "source": [
        "# Break out Location into latitude and longitude\n",
        "                # substring from 'POINT( ' to ')' and split on ' ' grabbing first then second element set as float\n",
        "df['Latitude'] = df['Location'].str[len('POINT ('):-1].str.split(' ').str[1].astype(float)\n",
        "df['Longitude'] = df['Location'].str[len('POINT ('):-1].str.split(' ').str[0].astype(float)"
      ],
      "execution_count": 0,
      "outputs": []
    },
    {
      "cell_type": "code",
      "metadata": {
        "id": "wLZSXrjpiKL-",
        "colab_type": "code",
        "colab": {}
      },
      "source": [
        "# Remove non-pedestrian values to shrink file\n",
        "# df.to_csv(Path.joinpath(Path.cwd(),'data','borderCrossing.csv'))"
      ],
      "execution_count": 0,
      "outputs": []
    }
  ]
}