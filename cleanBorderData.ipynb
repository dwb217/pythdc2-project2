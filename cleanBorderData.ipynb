{
 "cells": [
  {
   "cell_type": "markdown",
   "metadata": {
    "colab_type": "text",
    "id": "view-in-github"
   },
   "source": [
    "<a href=\"https://colab.research.google.com/github/maxrgnt/pythdc2-project2/blob/master/cleanBorderData.ipynb\" target=\"_parent\"><img src=\"https://colab.research.google.com/assets/colab-badge.svg\" alt=\"Open In Colab\"/></a>"
   ]
  },
  {
   "cell_type": "code",
   "execution_count": 42,
   "metadata": {
    "colab": {},
    "colab_type": "code",
    "id": "zZOjglh2iKLv",
    "outputId": "dfde44bb-fb29-4544-95e4-1c8e314a2ae4"
   },
   "outputs": [
    {
     "data": {
      "text/html": [
       "<div>\n",
       "<style scoped>\n",
       "    .dataframe tbody tr th:only-of-type {\n",
       "        vertical-align: middle;\n",
       "    }\n",
       "\n",
       "    .dataframe tbody tr th {\n",
       "        vertical-align: top;\n",
       "    }\n",
       "\n",
       "    .dataframe thead th {\n",
       "        text-align: right;\n",
       "    }\n",
       "</style>\n",
       "<table border=\"1\" class=\"dataframe\">\n",
       "  <thead>\n",
       "    <tr style=\"text-align: right;\">\n",
       "      <th></th>\n",
       "      <th>Unnamed: 0</th>\n",
       "      <th>Port Name</th>\n",
       "      <th>State</th>\n",
       "      <th>Port Code</th>\n",
       "      <th>Border</th>\n",
       "      <th>Date</th>\n",
       "      <th>Measure</th>\n",
       "      <th>Value</th>\n",
       "      <th>Location</th>\n",
       "    </tr>\n",
       "  </thead>\n",
       "  <tbody>\n",
       "    <tr>\n",
       "      <th>9808</th>\n",
       "      <td>30151</td>\n",
       "      <td>Del Bonita</td>\n",
       "      <td>Montana</td>\n",
       "      <td>3322</td>\n",
       "      <td>US-Canada Border</td>\n",
       "      <td>4/1/2016 0:00</td>\n",
       "      <td>Train Passengers</td>\n",
       "      <td>0</td>\n",
       "      <td>POINT (-112.79 49)</td>\n",
       "    </tr>\n",
       "    <tr>\n",
       "      <th>27260</th>\n",
       "      <td>82539</td>\n",
       "      <td>Point Roberts</td>\n",
       "      <td>Washington</td>\n",
       "      <td>3017</td>\n",
       "      <td>US-Canada Border</td>\n",
       "      <td>1/1/2013 0:00</td>\n",
       "      <td>Personal Vehicle Passengers</td>\n",
       "      <td>109723</td>\n",
       "      <td>POINT (-123.07000000000001 49)</td>\n",
       "    </tr>\n",
       "    <tr>\n",
       "      <th>55586</th>\n",
       "      <td>167469</td>\n",
       "      <td>Fort Kent</td>\n",
       "      <td>Maine</td>\n",
       "      <td>110</td>\n",
       "      <td>US-Canada Border</td>\n",
       "      <td>9/1/2007 0:00</td>\n",
       "      <td>Pedestrians</td>\n",
       "      <td>1364</td>\n",
       "      <td>POINT (-68.6 47.25)</td>\n",
       "    </tr>\n",
       "  </tbody>\n",
       "</table>\n",
       "</div>"
      ],
      "text/plain": [
       "       Unnamed: 0      Port Name       State  Port Code            Border  \\\n",
       "9808        30151     Del Bonita     Montana       3322  US-Canada Border   \n",
       "27260       82539  Point Roberts  Washington       3017  US-Canada Border   \n",
       "55586      167469      Fort Kent       Maine        110  US-Canada Border   \n",
       "\n",
       "                Date                      Measure   Value  \\\n",
       "9808   4/1/2016 0:00             Train Passengers       0   \n",
       "27260  1/1/2013 0:00  Personal Vehicle Passengers  109723   \n",
       "55586  9/1/2007 0:00                  Pedestrians    1364   \n",
       "\n",
       "                             Location  \n",
       "9808               POINT (-112.79 49)  \n",
       "27260  POINT (-123.07000000000001 49)  \n",
       "55586             POINT (-68.6 47.25)  "
      ]
     },
     "execution_count": 42,
     "metadata": {},
     "output_type": "execute_result"
    }
   ],
   "source": [
    "\n",
    "# Panel Data\n",
    "import pandas as pd\n",
    "# # System folders\n",
    "import os\n",
    "from pathlib import Path\n",
    "\n",
    "dataPath = Path.joinpath(Path.cwd(),'data','borderCrossing.csv')\n",
    "df = pd.read_csv(dataPath)\n",
    "df.sample(3)\n",
    "\n",
    "# read in the data\n",
    "# url='https://raw.githubusercontent.com/maxrgnt/pythdc2-project2/master/data/borderCrossing.csv'\n",
    "# df = pd.read_csv(url)\n",
    "# df.sample(3)\n"
   ]
  },
  {
   "cell_type": "code",
   "execution_count": 43,
   "metadata": {
    "colab": {},
    "colab_type": "code",
    "id": "h6ElHMthUy8y"
   },
   "outputs": [
    {
     "data": {
      "text/plain": [
       "Personal Vehicle Passengers    30196\n",
       "Bus Passengers                 28820\n",
       "Pedestrians                    28697\n",
       "Train Passengers               27623\n",
       "Name: Measure, dtype: int64"
      ]
     },
     "execution_count": 43,
     "metadata": {},
     "output_type": "execute_result"
    }
   ],
   "source": [
    "df['Measure'].value_counts()"
   ]
  },
  {
   "cell_type": "code",
   "execution_count": 44,
   "metadata": {
    "colab": {},
    "colab_type": "code",
    "id": "xyQvAKLniKL2"
   },
   "outputs": [],
   "source": [
    "# Only interested in Passenger / Pedestrian crossings\n",
    "people = df['Measure'].str.contains('Passengers|Pedestrians', case = False)"
   ]
  },
  {
   "cell_type": "code",
   "execution_count": 45,
   "metadata": {
    "colab": {},
    "colab_type": "code",
    "id": "ROv9rm-_iKL7",
    "outputId": "a91c68a7-6bf5-45f0-ed5d-bb59f01f8916"
   },
   "outputs": [
    {
     "name": "stdout",
     "output_type": "stream",
     "text": [
      "All measures: (115336, 9)\n",
      "Just people: (115336, 9)\n"
     ]
    }
   ],
   "source": [
    "# Check to see how much data frame shrinks after filtering down\n",
    "print(f'All measures: {df.shape}')\n",
    "#df = df[people] # This gave index error when re-running, changed to df.loc\n",
    "df = df.loc[people]\n",
    "print(f'Just people: {df.shape}')"
   ]
  },
  {
   "cell_type": "code",
   "execution_count": 46,
   "metadata": {
    "colab": {},
    "colab_type": "code",
    "id": "cwloIalUVW-Y"
   },
   "outputs": [],
   "source": [
    "# Break out Location into latitude and longitude\n",
    "                # substring from 'POINT( ' to ')' and split on ' ' grabbing first then second element set as float\n",
    "df['Latitude'] = df['Location'].str[len('POINT ('):-1].str.split(' ').str[1].astype(float)\n",
    "df['Longitude'] = df['Location'].str[len('POINT ('):-1].str.split(' ').str[0].astype(float)"
   ]
  },
  {
   "cell_type": "code",
   "execution_count": 47,
   "metadata": {},
   "outputs": [
    {
     "name": "stdout",
     "output_type": "stream",
     "text": [
      "(115336, 7)\n"
     ]
    }
   ],
   "source": [
    "# Drop unnecessary columns \n",
    "for col in df.columns:\n",
    "    if col in ['Port Code','Port Name','Location','Unnamed: 0','index']:\n",
    "        df.drop([col], axis=1, inplace=True)\n",
    "print(df.shape)"
   ]
  },
  {
   "cell_type": "code",
   "execution_count": 48,
   "metadata": {},
   "outputs": [],
   "source": [
    "# Need state abbreviations not full names\n",
    "df['Abrv'] = df['State'].map({'Alaska':'AL',\n",
    "                               'Arizona':'AZ',\n",
    "                               'California':'CA',\n",
    "                               'Idaho':'ID',\n",
    "                               'Maine':'ME',\n",
    "                               'Michigan':'MI',\n",
    "                               'Minnesota':'MN',\n",
    "                               'Montana':'MT',\n",
    "                               'New Mexico':'NM',\n",
    "                               'New York':'NY',\n",
    "                               'North Dakota':'ND',\n",
    "                               'Ohio':'OH',\n",
    "                               'Texas':'TX',\n",
    "                               'Vermont':'VT',\n",
    "                               'Washington':'WA'})"
   ]
  },
  {
   "cell_type": "code",
   "execution_count": 49,
   "metadata": {},
   "outputs": [],
   "source": [
    "df = df[['Abrv','State','Longitude','Latitude','Border','Date','Measure','Value']]"
   ]
  },
  {
   "cell_type": "code",
   "execution_count": 50,
   "metadata": {
    "scrolled": true
   },
   "outputs": [
    {
     "data": {
      "text/html": [
       "<div>\n",
       "<style scoped>\n",
       "    .dataframe tbody tr th:only-of-type {\n",
       "        vertical-align: middle;\n",
       "    }\n",
       "\n",
       "    .dataframe tbody tr th {\n",
       "        vertical-align: top;\n",
       "    }\n",
       "\n",
       "    .dataframe thead th {\n",
       "        text-align: right;\n",
       "    }\n",
       "</style>\n",
       "<table border=\"1\" class=\"dataframe\">\n",
       "  <thead>\n",
       "    <tr style=\"text-align: right;\">\n",
       "      <th></th>\n",
       "      <th>Abrv</th>\n",
       "      <th>State</th>\n",
       "      <th>Longitude</th>\n",
       "      <th>Latitude</th>\n",
       "      <th>Border</th>\n",
       "      <th>Date</th>\n",
       "      <th>Measure</th>\n",
       "      <th>Value</th>\n",
       "    </tr>\n",
       "  </thead>\n",
       "  <tbody>\n",
       "    <tr>\n",
       "      <th>0</th>\n",
       "      <td>NY</td>\n",
       "      <td>New York</td>\n",
       "      <td>-73.44253</td>\n",
       "      <td>44.99001</td>\n",
       "      <td>US-Canada Border</td>\n",
       "      <td>3/1/2019 0:00</td>\n",
       "      <td>Personal Vehicle Passengers</td>\n",
       "      <td>16377</td>\n",
       "    </tr>\n",
       "    <tr>\n",
       "      <th>1</th>\n",
       "      <td>ND</td>\n",
       "      <td>North Dakota</td>\n",
       "      <td>-97.24333</td>\n",
       "      <td>48.96639</td>\n",
       "      <td>US-Canada Border</td>\n",
       "      <td>3/1/2019 0:00</td>\n",
       "      <td>Bus Passengers</td>\n",
       "      <td>1054</td>\n",
       "    </tr>\n",
       "    <tr>\n",
       "      <th>2</th>\n",
       "      <td>ND</td>\n",
       "      <td>North Dakota</td>\n",
       "      <td>-98.99457</td>\n",
       "      <td>48.94105</td>\n",
       "      <td>US-Canada Border</td>\n",
       "      <td>3/1/2019 0:00</td>\n",
       "      <td>Personal Vehicle Passengers</td>\n",
       "      <td>509</td>\n",
       "    </tr>\n",
       "    <tr>\n",
       "      <th>3</th>\n",
       "      <td>WA</td>\n",
       "      <td>Washington</td>\n",
       "      <td>-122.44316</td>\n",
       "      <td>48.94802</td>\n",
       "      <td>US-Canada Border</td>\n",
       "      <td>3/1/2019 0:00</td>\n",
       "      <td>Pedestrians</td>\n",
       "      <td>79</td>\n",
       "    </tr>\n",
       "    <tr>\n",
       "      <th>4</th>\n",
       "      <td>ME</td>\n",
       "      <td>Maine</td>\n",
       "      <td>-67.42955</td>\n",
       "      <td>45.55984</td>\n",
       "      <td>US-Canada Border</td>\n",
       "      <td>3/1/2019 0:00</td>\n",
       "      <td>Pedestrians</td>\n",
       "      <td>3</td>\n",
       "    </tr>\n",
       "  </tbody>\n",
       "</table>\n",
       "</div>"
      ],
      "text/plain": [
       "  Abrv         State  Longitude  Latitude            Border           Date  \\\n",
       "0   NY      New York  -73.44253  44.99001  US-Canada Border  3/1/2019 0:00   \n",
       "1   ND  North Dakota  -97.24333  48.96639  US-Canada Border  3/1/2019 0:00   \n",
       "2   ND  North Dakota  -98.99457  48.94105  US-Canada Border  3/1/2019 0:00   \n",
       "3   WA    Washington -122.44316  48.94802  US-Canada Border  3/1/2019 0:00   \n",
       "4   ME         Maine  -67.42955  45.55984  US-Canada Border  3/1/2019 0:00   \n",
       "\n",
       "                       Measure  Value  \n",
       "0  Personal Vehicle Passengers  16377  \n",
       "1               Bus Passengers   1054  \n",
       "2  Personal Vehicle Passengers    509  \n",
       "3                  Pedestrians     79  \n",
       "4                  Pedestrians      3  "
      ]
     },
     "execution_count": 50,
     "metadata": {},
     "output_type": "execute_result"
    }
   ],
   "source": [
    "df.head()"
   ]
  },
  {
   "cell_type": "code",
   "execution_count": 51,
   "metadata": {
    "colab": {},
    "colab_type": "code",
    "id": "wLZSXrjpiKL-"
   },
   "outputs": [],
   "source": [
    "# Remove non-pedestrian values to shrink file\n",
    "df.to_csv(Path.joinpath(Path.cwd(),'data','borderCrossing.csv'))"
   ]
  },
  {
   "cell_type": "code",
   "execution_count": null,
   "metadata": {},
   "outputs": [],
   "source": []
  }
 ],
 "metadata": {
  "colab": {
   "include_colab_link": true,
   "name": "cleanBorderData.ipynb",
   "provenance": []
  },
  "kernelspec": {
   "display_name": "Python 3",
   "language": "python",
   "name": "python3"
  },
  "language_info": {
   "codemirror_mode": {
    "name": "ipython",
    "version": 3
   },
   "file_extension": ".py",
   "mimetype": "text/x-python",
   "name": "python",
   "nbconvert_exporter": "python",
   "pygments_lexer": "ipython3",
   "version": "3.6.5"
  }
 },
 "nbformat": 4,
 "nbformat_minor": 1
}
