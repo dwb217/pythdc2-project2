{
 "cells": [
  {
   "cell_type": "code",
   "execution_count": 4,
   "metadata": {},
   "outputs": [
    {
     "data": {
      "text/html": [
       "<div>\n",
       "<style scoped>\n",
       "    .dataframe tbody tr th:only-of-type {\n",
       "        vertical-align: middle;\n",
       "    }\n",
       "\n",
       "    .dataframe tbody tr th {\n",
       "        vertical-align: top;\n",
       "    }\n",
       "\n",
       "    .dataframe thead th {\n",
       "        text-align: right;\n",
       "    }\n",
       "</style>\n",
       "<table border=\"1\" class=\"dataframe\">\n",
       "  <thead>\n",
       "    <tr style=\"text-align: right;\">\n",
       "      <th></th>\n",
       "      <th>Port Name</th>\n",
       "      <th>State</th>\n",
       "      <th>Port Code</th>\n",
       "      <th>Border</th>\n",
       "      <th>Date</th>\n",
       "      <th>Measure</th>\n",
       "      <th>Value</th>\n",
       "      <th>Location</th>\n",
       "    </tr>\n",
       "  </thead>\n",
       "  <tbody>\n",
       "    <tr>\n",
       "      <th>154066</th>\n",
       "      <td>Westhope</td>\n",
       "      <td>North Dakota</td>\n",
       "      <td>3419</td>\n",
       "      <td>US-Canada Border</td>\n",
       "      <td>7/1/2008 0:00</td>\n",
       "      <td>Train Passengers</td>\n",
       "      <td>0</td>\n",
       "      <td>POINT (-101.02 49)</td>\n",
       "    </tr>\n",
       "    <tr>\n",
       "      <th>314367</th>\n",
       "      <td>Neche</td>\n",
       "      <td>North Dakota</td>\n",
       "      <td>3404</td>\n",
       "      <td>US-Canada Border</td>\n",
       "      <td>3/1/1998 0:00</td>\n",
       "      <td>Trains</td>\n",
       "      <td>0</td>\n",
       "      <td>POINT (-97.56 49)</td>\n",
       "    </tr>\n",
       "    <tr>\n",
       "      <th>126925</th>\n",
       "      <td>Del Rio</td>\n",
       "      <td>Texas</td>\n",
       "      <td>2302</td>\n",
       "      <td>US-Mexico Border</td>\n",
       "      <td>3/1/2010 0:00</td>\n",
       "      <td>Personal Vehicles</td>\n",
       "      <td>112247</td>\n",
       "      <td>POINT (-100.93 29.330000000000002)</td>\n",
       "    </tr>\n",
       "  </tbody>\n",
       "</table>\n",
       "</div>"
      ],
      "text/plain": [
       "       Port Name         State  Port Code            Border           Date  \\\n",
       "154066  Westhope  North Dakota       3419  US-Canada Border  7/1/2008 0:00   \n",
       "314367     Neche  North Dakota       3404  US-Canada Border  3/1/1998 0:00   \n",
       "126925   Del Rio         Texas       2302  US-Mexico Border  3/1/2010 0:00   \n",
       "\n",
       "                  Measure   Value                            Location  \n",
       "154066   Train Passengers       0                  POINT (-101.02 49)  \n",
       "314367             Trains       0                   POINT (-97.56 49)  \n",
       "126925  Personal Vehicles  112247  POINT (-100.93 29.330000000000002)  "
      ]
     },
     "execution_count": 4,
     "metadata": {},
     "output_type": "execute_result"
    }
   ],
   "source": [
    "\n",
    "# Panel Data\n",
    "import pandas as pd\n",
    "# System folders\n",
    "import os\n",
    "from pathlib import Path\n",
    "\n",
    "dataPath = Path.joinpath(Path.cwd(),'data','borderCrossing.csv')\n",
    "df = pd.read_csv(dataPath)\n",
    "df.sample(3)\n"
   ]
  },
  {
   "cell_type": "code",
   "execution_count": 5,
   "metadata": {},
   "outputs": [],
   "source": [
    "\n",
    "# Only interested in Passenger / Pedestrian crossings\n",
    "people = df['Measure'].str.contains('Passengers|Pedestrians', case = False)\n"
   ]
  },
  {
   "cell_type": "code",
   "execution_count": 6,
   "metadata": {},
   "outputs": [
    {
     "name": "stdout",
     "output_type": "stream",
     "text": [
      "All measures: (346733, 8)\n",
      "Just people: (115336, 8)\n"
     ]
    }
   ],
   "source": [
    "# Check to see how much data frame shrinks after filtering down\n",
    "print(f'All measures: {df.shape}')\n",
    "#df = df[people] # This gave index error when re-running, changed to df.loc\n",
    "df = df.loc[people]\n",
    "print(f'Just people: {df.shape}')"
   ]
  },
  {
   "cell_type": "code",
   "execution_count": 8,
   "metadata": {},
   "outputs": [],
   "source": [
    "# Remove non-pedestrian values to shrink file\n",
    "df.to_csv(Path.joinpath(Path.cwd(),'data','borderCrossing.csv'))"
   ]
  },
  {
   "cell_type": "code",
   "execution_count": null,
   "metadata": {},
   "outputs": [],
   "source": []
  }
 ],
 "metadata": {
  "kernelspec": {
   "display_name": "Python 3",
   "language": "python",
   "name": "python3"
  },
  "language_info": {
   "codemirror_mode": {
    "name": "ipython",
    "version": 3
   },
   "file_extension": ".py",
   "mimetype": "text/x-python",
   "name": "python",
   "nbconvert_exporter": "python",
   "pygments_lexer": "ipython3",
   "version": "3.6.5"
  }
 },
 "nbformat": 4,
 "nbformat_minor": 2
}
